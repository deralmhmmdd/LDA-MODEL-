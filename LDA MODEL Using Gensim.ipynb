{
  "nbformat": 4,
  "nbformat_minor": 0,
  "metadata": {
    "colab": {
      "provenance": []
    },
    "kernelspec": {
      "name": "python3",
      "display_name": "Python 3"
    },
    "language_info": {
      "name": "python"
    }
  },
  "cells": [
    {
      "cell_type": "code",
      "execution_count": null,
      "metadata": {
        "colab": {
          "base_uri": "https://localhost:8080/"
        },
        "id": "tk8GOCsjP_9_",
        "outputId": "d3610749-ac6b-4781-cbe1-8c688a36828b"
      },
      "outputs": [
        {
          "output_type": "stream",
          "name": "stderr",
          "text": [
            "/usr/local/lib/python3.10/dist-packages/ipykernel/ipkernel.py:283: DeprecationWarning: `should_run_async` will not call `transform_cell` automatically in the future. Please pass the result to `transformed_cell` argument and any exception that happen during thetransform in `preprocessing_exc_tuple` in IPython 7.17 and above.\n",
            "  and should_run_async(code)\n"
          ]
        },
        {
          "output_type": "stream",
          "name": "stdout",
          "text": [
            "Collecting kumparanian\n",
            "  Downloading kumparanian-1.0.3-py2.py3-none-any.whl (10 kB)\n",
            "Collecting click==6.7 (from kumparanian)\n",
            "  Downloading click-6.7-py2.py3-none-any.whl (71 kB)\n",
            "\u001b[2K     \u001b[90m━━━━━━━━━━━━━━━━━━━━━━━━━━━━━━━━━━━━━━━━\u001b[0m \u001b[32m71.2/71.2 kB\u001b[0m \u001b[31m712.7 kB/s\u001b[0m eta \u001b[36m0:00:00\u001b[0m\n",
            "\u001b[?25hCollecting colorama==0.3.9 (from kumparanian)\n",
            "  Downloading colorama-0.3.9-py2.py3-none-any.whl (20 kB)\n",
            "Collecting dill==0.2.7.1 (from kumparanian)\n",
            "  Using cached dill-0.2.7.1-py3-none-any.whl\n",
            "Collecting numpy==1.19.5 (from kumparanian)\n",
            "  Using cached numpy-1.19.5.zip (7.3 MB)\n",
            "  Installing build dependencies ... \u001b[?25l\u001b[?25hdone\n",
            "  Getting requirements to build wheel ... \u001b[?25l\u001b[?25hdone\n",
            "  Preparing metadata (pyproject.toml) ... \u001b[?25l\u001b[?25hdone\n",
            "Building wheels for collected packages: numpy\n",
            "  \u001b[1;31merror\u001b[0m: \u001b[1msubprocess-exited-with-error\u001b[0m\n",
            "  \n",
            "  \u001b[31m×\u001b[0m \u001b[32mBuilding wheel for numpy \u001b[0m\u001b[1;32m(\u001b[0m\u001b[32mpyproject.toml\u001b[0m\u001b[1;32m)\u001b[0m did not run successfully.\n",
            "  \u001b[31m│\u001b[0m exit code: \u001b[1;36m1\u001b[0m\n",
            "  \u001b[31m╰─>\u001b[0m See above for output.\n",
            "  \n",
            "  \u001b[1;35mnote\u001b[0m: This error originates from a subprocess, and is likely not a problem with pip.\n",
            "  Building wheel for numpy (pyproject.toml) ... \u001b[?25l\u001b[?25herror\n",
            "\u001b[31m  ERROR: Failed building wheel for numpy\u001b[0m\u001b[31m\n",
            "\u001b[0mFailed to build numpy\n",
            "\u001b[31mERROR: Could not build wheels for numpy, which is required to install pyproject.toml-based projects\u001b[0m\u001b[31m\n",
            "\u001b[0m"
          ]
        }
      ],
      "source": [
        "pip install kumparanian"
      ]
    },
    {
      "cell_type": "code",
      "source": [
        "pip install kumparanian"
      ],
      "metadata": {
        "colab": {
          "base_uri": "https://localhost:8080/"
        },
        "id": "PIkFdgONKGUM",
        "outputId": "e57cb01a-5bdb-4f26-8601-77a1f91e3e1e"
      },
      "execution_count": null,
      "outputs": [
        {
          "output_type": "stream",
          "name": "stdout",
          "text": [
            "Collecting kumparanian\n",
            "  Downloading kumparanian-1.0.3-py2.py3-none-any.whl (10 kB)\n",
            "Collecting click==6.7 (from kumparanian)\n",
            "  Downloading click-6.7-py2.py3-none-any.whl (71 kB)\n",
            "\u001b[2K     \u001b[90m━━━━━━━━━━━━━━━━━━━━━━━━━━━━━━━━━━━━━━━━\u001b[0m \u001b[32m71.2/71.2 kB\u001b[0m \u001b[31m1.8 MB/s\u001b[0m eta \u001b[36m0:00:00\u001b[0m\n",
            "\u001b[?25hCollecting colorama==0.3.9 (from kumparanian)\n",
            "  Downloading colorama-0.3.9-py2.py3-none-any.whl (20 kB)\n",
            "Collecting dill==0.2.7.1 (from kumparanian)\n",
            "  Downloading dill-0.2.7.1.tar.gz (64 kB)\n",
            "\u001b[2K     \u001b[90m━━━━━━━━━━━━━━━━━━━━━━━━━━━━━━━━━━━━━━━━\u001b[0m \u001b[32m64.5/64.5 kB\u001b[0m \u001b[31m4.9 MB/s\u001b[0m eta \u001b[36m0:00:00\u001b[0m\n",
            "\u001b[?25h  Preparing metadata (setup.py) ... \u001b[?25l\u001b[?25hdone\n",
            "Collecting numpy==1.19.5 (from kumparanian)\n",
            "  Downloading numpy-1.19.5.zip (7.3 MB)\n",
            "\u001b[2K     \u001b[90m━━━━━━━━━━━━━━━━━━━━━━━━━━━━━━━━━━━━━━━━\u001b[0m \u001b[32m7.3/7.3 MB\u001b[0m \u001b[31m15.3 MB/s\u001b[0m eta \u001b[36m0:00:00\u001b[0m\n",
            "\u001b[?25h  Installing build dependencies ... \u001b[?25l\u001b[?25hdone\n",
            "  Getting requirements to build wheel ... \u001b[?25l\u001b[?25hdone\n",
            "  Preparing metadata (pyproject.toml) ... \u001b[?25l\u001b[?25hdone\n",
            "Building wheels for collected packages: dill, numpy\n",
            "  Building wheel for dill (setup.py) ... \u001b[?25l\u001b[?25hdone\n",
            "  Created wheel for dill: filename=dill-0.2.7.1-py3-none-any.whl size=54560 sha256=96ca9fba16d231e177bb69cc9128a1b8349723c9dc7cbdace979e5d480cfd430\n",
            "  Stored in directory: /root/.cache/pip/wheels/83/77/a8/5e94c17f19ccde52f212617c60a3d5c0dc8747ddd339037226\n",
            "  \u001b[1;31merror\u001b[0m: \u001b[1msubprocess-exited-with-error\u001b[0m\n",
            "  \n",
            "  \u001b[31m×\u001b[0m \u001b[32mBuilding wheel for numpy \u001b[0m\u001b[1;32m(\u001b[0m\u001b[32mpyproject.toml\u001b[0m\u001b[1;32m)\u001b[0m did not run successfully.\n",
            "  \u001b[31m│\u001b[0m exit code: \u001b[1;36m1\u001b[0m\n",
            "  \u001b[31m╰─>\u001b[0m See above for output.\n",
            "  \n",
            "  \u001b[1;35mnote\u001b[0m: This error originates from a subprocess, and is likely not a problem with pip.\n",
            "  Building wheel for numpy (pyproject.toml) ... \u001b[?25l\u001b[?25herror\n",
            "\u001b[31m  ERROR: Failed building wheel for numpy\u001b[0m\u001b[31m\n",
            "\u001b[0mSuccessfully built dill\n",
            "Failed to build numpy\n",
            "\u001b[31mERROR: Could not build wheels for numpy, which is required to install pyproject.toml-based projects\u001b[0m\u001b[31m\n",
            "\u001b[0m"
          ]
        }
      ]
    },
    {
      "cell_type": "code",
      "source": [
        "pip install --upgrade pip setuptools\n"
      ],
      "metadata": {
        "colab": {
          "base_uri": "https://localhost:8080/"
        },
        "id": "lGBlwYCQWGpd",
        "outputId": "425dbaa5-38c7-4a5c-95ee-10d6d9cf8d50"
      },
      "execution_count": null,
      "outputs": [
        {
          "output_type": "stream",
          "name": "stderr",
          "text": [
            "/usr/local/lib/python3.10/dist-packages/ipykernel/ipkernel.py:283: DeprecationWarning: `should_run_async` will not call `transform_cell` automatically in the future. Please pass the result to `transformed_cell` argument and any exception that happen during thetransform in `preprocessing_exc_tuple` in IPython 7.17 and above.\n",
            "  and should_run_async(code)\n"
          ]
        },
        {
          "output_type": "stream",
          "name": "stdout",
          "text": [
            "Requirement already satisfied: pip in /usr/local/lib/python3.10/dist-packages (23.3.2)\n",
            "Requirement already satisfied: setuptools in /usr/local/lib/python3.10/dist-packages (69.0.3)\n",
            "\u001b[33mWARNING: Running pip as the 'root' user can result in broken permissions and conflicting behaviour with the system package manager. It is recommended to use a virtual environment instead: https://pip.pypa.io/warnings/venv\u001b[0m\u001b[33m\n",
            "\u001b[0m"
          ]
        }
      ]
    },
    {
      "cell_type": "code",
      "source": [
        "pip install numpy==1.19.5"
      ],
      "metadata": {
        "colab": {
          "base_uri": "https://localhost:8080/"
        },
        "id": "B-ZiN9tF9Y6l",
        "outputId": "171752d9-f469-474f-edff-3136025972fb"
      },
      "execution_count": null,
      "outputs": [
        {
          "output_type": "stream",
          "name": "stderr",
          "text": [
            "/usr/local/lib/python3.10/dist-packages/ipykernel/ipkernel.py:283: DeprecationWarning: `should_run_async` will not call `transform_cell` automatically in the future. Please pass the result to `transformed_cell` argument and any exception that happen during thetransform in `preprocessing_exc_tuple` in IPython 7.17 and above.\n",
            "  and should_run_async(code)\n"
          ]
        },
        {
          "output_type": "stream",
          "name": "stdout",
          "text": [
            "Collecting numpy==1.19.5\n",
            "  Using cached numpy-1.19.5.zip (7.3 MB)\n",
            "  Installing build dependencies ... \u001b[?25l\u001b[?25hdone\n",
            "  Getting requirements to build wheel ... \u001b[?25l\u001b[?25hdone\n",
            "  Preparing metadata (pyproject.toml) ... \u001b[?25l\u001b[?25hdone\n",
            "Building wheels for collected packages: numpy\n",
            "  \u001b[1;31merror\u001b[0m: \u001b[1msubprocess-exited-with-error\u001b[0m\n",
            "  \n",
            "  \u001b[31m×\u001b[0m \u001b[32mBuilding wheel for numpy \u001b[0m\u001b[1;32m(\u001b[0m\u001b[32mpyproject.toml\u001b[0m\u001b[1;32m)\u001b[0m did not run successfully.\n",
            "  \u001b[31m│\u001b[0m exit code: \u001b[1;36m1\u001b[0m\n",
            "  \u001b[31m╰─>\u001b[0m See above for output.\n",
            "  \n",
            "  \u001b[1;35mnote\u001b[0m: This error originates from a subprocess, and is likely not a problem with pip.\n",
            "  Building wheel for numpy (pyproject.toml) ... \u001b[?25l\u001b[?25herror\n",
            "\u001b[31m  ERROR: Failed building wheel for numpy\u001b[0m\u001b[31m\n",
            "\u001b[0mFailed to build numpy\n",
            "\u001b[31mERROR: Could not build wheels for numpy, which is required to install pyproject.toml-based projects\u001b[0m\u001b[31m\n",
            "\u001b[0m"
          ]
        }
      ]
    },
    {
      "cell_type": "code",
      "source": [
        "pip install git+https://github.com/numpy/numpy.git\n"
      ],
      "metadata": {
        "colab": {
          "base_uri": "https://localhost:8080/"
        },
        "id": "gMzubBmj9dRu",
        "outputId": "c73dd182-4296-4f7f-bc80-3f74642ec630"
      },
      "execution_count": null,
      "outputs": [
        {
          "output_type": "stream",
          "name": "stderr",
          "text": [
            "/usr/local/lib/python3.10/dist-packages/ipykernel/ipkernel.py:283: DeprecationWarning: `should_run_async` will not call `transform_cell` automatically in the future. Please pass the result to `transformed_cell` argument and any exception that happen during thetransform in `preprocessing_exc_tuple` in IPython 7.17 and above.\n",
            "  and should_run_async(code)\n"
          ]
        },
        {
          "output_type": "stream",
          "name": "stdout",
          "text": [
            "Collecting git+https://github.com/numpy/numpy.git\n",
            "  Cloning https://github.com/numpy/numpy.git to /tmp/pip-req-build-2i21zn2_\n",
            "  Running command git clone --filter=blob:none --quiet https://github.com/numpy/numpy.git /tmp/pip-req-build-2i21zn2_\n",
            "  Resolved https://github.com/numpy/numpy.git to commit ac8b7ac9e1b47bfc8211ca2895086030e7f71ed4\n",
            "  Running command git submodule update --init --recursive -q\n",
            "  Installing build dependencies ... \u001b[?25l\u001b[?25hdone\n",
            "  Getting requirements to build wheel ... \u001b[?25l\u001b[?25hdone\n",
            "  Installing backend dependencies ... \u001b[?25l\u001b[?25hdone\n",
            "  Preparing metadata (pyproject.toml) ... \u001b[?25l\u001b[?25hdone\n",
            "Building wheels for collected packages: numpy\n",
            "  Building wheel for numpy (pyproject.toml) ... \u001b[?25l\u001b[?25hdone\n",
            "  Created wheel for numpy: filename=numpy-2.0.0.dev0-cp310-cp310-linux_x86_64.whl size=7954958 sha256=3d4d8ab7e249dcd999b927ff60fa06806f6bc7c8ae38144394f9ab77e4f31fca\n",
            "  Stored in directory: /tmp/pip-ephem-wheel-cache-7y88rial/wheels/91/5b/44/a2d94829ccdff51c5924ff7ab1bf31c140b75dcd8f487f3d0a\n",
            "Successfully built numpy\n",
            "Installing collected packages: numpy\n",
            "  Attempting uninstall: numpy\n",
            "    Found existing installation: numpy 1.23.5\n",
            "    Uninstalling numpy-1.23.5:\n",
            "      Successfully uninstalled numpy-1.23.5\n",
            "\u001b[31mERROR: pip's dependency resolver does not currently take into account all the packages that are installed. This behaviour is the source of the following dependency conflicts.\n",
            "lida 0.0.10 requires fastapi, which is not installed.\n",
            "lida 0.0.10 requires kaleido, which is not installed.\n",
            "lida 0.0.10 requires python-multipart, which is not installed.\n",
            "lida 0.0.10 requires uvicorn, which is not installed.\n",
            "astropy 5.3.4 requires numpy<2,>=1.21, but you have numpy 2.0.0.dev0 which is incompatible.\n",
            "contourpy 1.2.0 requires numpy<2.0,>=1.20, but you have numpy 2.0.0.dev0 which is incompatible.\n",
            "cupy-cuda12x 12.2.0 requires numpy<1.27,>=1.20, but you have numpy 2.0.0.dev0 which is incompatible.\n",
            "ibis-framework 7.1.0 requires numpy<2,>=1, but you have numpy 2.0.0.dev0 which is incompatible.\n",
            "numba 0.58.1 requires numpy<1.27,>=1.22, but you have numpy 2.0.0.dev0 which is incompatible.\n",
            "pywavelets 1.5.0 requires numpy<2.0,>=1.22.4, but you have numpy 2.0.0.dev0 which is incompatible.\n",
            "scikit-learn 1.4.0 requires numpy<2.0,>=1.19.5, but you have numpy 2.0.0.dev0 which is incompatible.\n",
            "scipy 1.11.4 requires numpy<1.28.0,>=1.21.6, but you have numpy 2.0.0.dev0 which is incompatible.\n",
            "statsmodels 0.14.1 requires numpy<2,>=1.18, but you have numpy 2.0.0.dev0 which is incompatible.\n",
            "tensorflow 2.15.0 requires numpy<2.0.0,>=1.23.5, but you have numpy 2.0.0.dev0 which is incompatible.\u001b[0m\u001b[31m\n",
            "\u001b[0mSuccessfully installed numpy-2.0.0.dev0\n",
            "\u001b[33mWARNING: Running pip as the 'root' user can result in broken permissions and conflicting behaviour with the system package manager. It is recommended to use a virtual environment instead: https://pip.pypa.io/warnings/venv\u001b[0m\u001b[33m\n",
            "\u001b[0m"
          ]
        }
      ]
    },
    {
      "cell_type": "code",
      "source": [
        "pip install --upgrade gensim"
      ],
      "metadata": {
        "colab": {
          "base_uri": "https://localhost:8080/"
        },
        "id": "9rlpudn7IGWe",
        "outputId": "672274ee-3c9c-48ad-c592-1ca1267522af"
      },
      "execution_count": null,
      "outputs": [
        {
          "output_type": "stream",
          "name": "stderr",
          "text": [
            "/usr/local/lib/python3.10/dist-packages/ipykernel/ipkernel.py:283: DeprecationWarning: `should_run_async` will not call `transform_cell` automatically in the future. Please pass the result to `transformed_cell` argument and any exception that happen during thetransform in `preprocessing_exc_tuple` in IPython 7.17 and above.\n",
            "  and should_run_async(code)\n"
          ]
        },
        {
          "output_type": "stream",
          "name": "stdout",
          "text": [
            "Requirement already satisfied: gensim in /usr/local/lib/python3.10/dist-packages (4.3.2)\n",
            "Requirement already satisfied: numpy>=1.18.5 in /usr/local/lib/python3.10/dist-packages (from gensim) (2.0.0.dev0)\n",
            "Requirement already satisfied: scipy>=1.7.0 in /usr/local/lib/python3.10/dist-packages (from gensim) (1.11.4)\n",
            "Requirement already satisfied: smart-open>=1.8.1 in /usr/local/lib/python3.10/dist-packages (from gensim) (6.4.0)\n",
            "Collecting numpy>=1.18.5 (from gensim)\n",
            "  Downloading numpy-1.26.3-cp310-cp310-manylinux_2_17_x86_64.manylinux2014_x86_64.whl.metadata (61 kB)\n",
            "\u001b[2K     \u001b[90m━━━━━━━━━━━━━━━━━━━━━━━━━━━━━━━━━━━━━━━━\u001b[0m \u001b[32m61.2/61.2 kB\u001b[0m \u001b[31m437.4 kB/s\u001b[0m eta \u001b[36m0:00:00\u001b[0m\n",
            "\u001b[?25hDownloading numpy-1.26.3-cp310-cp310-manylinux_2_17_x86_64.manylinux2014_x86_64.whl (18.2 MB)\n",
            "\u001b[2K   \u001b[90m━━━━━━━━━━━━━━━━━━━━━━━━━━━━━━━━━━━━━━━━\u001b[0m \u001b[32m18.2/18.2 MB\u001b[0m \u001b[31m50.3 MB/s\u001b[0m eta \u001b[36m0:00:00\u001b[0m\n",
            "\u001b[?25hInstalling collected packages: numpy\n",
            "  Attempting uninstall: numpy\n",
            "    Found existing installation: numpy 2.0.0.dev0\n",
            "    Uninstalling numpy-2.0.0.dev0:\n",
            "      Successfully uninstalled numpy-2.0.0.dev0\n",
            "\u001b[31mERROR: pip's dependency resolver does not currently take into account all the packages that are installed. This behaviour is the source of the following dependency conflicts.\n",
            "lida 0.0.10 requires fastapi, which is not installed.\n",
            "lida 0.0.10 requires kaleido, which is not installed.\n",
            "lida 0.0.10 requires python-multipart, which is not installed.\n",
            "lida 0.0.10 requires uvicorn, which is not installed.\u001b[0m\u001b[31m\n",
            "\u001b[0mSuccessfully installed numpy-1.26.3\n",
            "\u001b[33mWARNING: Running pip as the 'root' user can result in broken permissions and conflicting behaviour with the system package manager. It is recommended to use a virtual environment instead: https://pip.pypa.io/warnings/venv\u001b[0m\u001b[33m\n",
            "\u001b[0m"
          ]
        }
      ]
    },
    {
      "cell_type": "code",
      "source": [
        "pip install pyldavis==3.2.1"
      ],
      "metadata": {
        "colab": {
          "base_uri": "https://localhost:8080/"
        },
        "id": "gBLsx70yIGY8",
        "outputId": "8c8053cf-9880-4255-f497-2ccdef7421f8"
      },
      "execution_count": null,
      "outputs": [
        {
          "output_type": "stream",
          "name": "stderr",
          "text": [
            "/usr/local/lib/python3.10/dist-packages/ipykernel/ipkernel.py:283: DeprecationWarning: `should_run_async` will not call `transform_cell` automatically in the future. Please pass the result to `transformed_cell` argument and any exception that happen during thetransform in `preprocessing_exc_tuple` in IPython 7.17 and above.\n",
            "  and should_run_async(code)\n"
          ]
        },
        {
          "output_type": "stream",
          "name": "stdout",
          "text": [
            "Requirement already satisfied: pyldavis==3.2.1 in /usr/local/lib/python3.10/dist-packages (3.2.1)\n",
            "Requirement already satisfied: wheel>=0.23.0 in /usr/local/lib/python3.10/dist-packages (from pyldavis==3.2.1) (0.42.0)\n",
            "Requirement already satisfied: numpy>=1.9.2 in /usr/local/lib/python3.10/dist-packages (from pyldavis==3.2.1) (1.26.3)\n",
            "Requirement already satisfied: scipy>=0.18.0 in /usr/local/lib/python3.10/dist-packages (from pyldavis==3.2.1) (1.11.4)\n",
            "Requirement already satisfied: joblib>=0.8.4 in /usr/local/lib/python3.10/dist-packages (from pyldavis==3.2.1) (1.3.2)\n",
            "Requirement already satisfied: jinja2>=2.7.2 in /usr/local/lib/python3.10/dist-packages (from pyldavis==3.2.1) (3.1.3)\n",
            "Requirement already satisfied: numexpr in /usr/local/lib/python3.10/dist-packages (from pyldavis==3.2.1) (2.8.8)\n",
            "Requirement already satisfied: future in /usr/local/lib/python3.10/dist-packages (from pyldavis==3.2.1) (0.18.3)\n",
            "Requirement already satisfied: funcy in /usr/local/lib/python3.10/dist-packages (from pyldavis==3.2.1) (2.0)\n",
            "Requirement already satisfied: pandas>=0.17.0 in /usr/local/lib/python3.10/dist-packages (from pyldavis==3.2.1) (1.5.3)\n",
            "Requirement already satisfied: MarkupSafe>=2.0 in /usr/local/lib/python3.10/dist-packages (from jinja2>=2.7.2->pyldavis==3.2.1) (2.1.4)\n",
            "Requirement already satisfied: python-dateutil>=2.8.1 in /usr/local/lib/python3.10/dist-packages (from pandas>=0.17.0->pyldavis==3.2.1) (2.8.2)\n",
            "Requirement already satisfied: pytz>=2020.1 in /usr/local/lib/python3.10/dist-packages (from pandas>=0.17.0->pyldavis==3.2.1) (2023.3.post1)\n",
            "Requirement already satisfied: six>=1.5 in /usr/local/lib/python3.10/dist-packages (from python-dateutil>=2.8.1->pandas>=0.17.0->pyldavis==3.2.1) (1.16.0)\n",
            "\u001b[33mWARNING: Running pip as the 'root' user can result in broken permissions and conflicting behaviour with the system package manager. It is recommended to use a virtual environment instead: https://pip.pypa.io/warnings/venv\u001b[0m\u001b[33m\n",
            "\u001b[0m"
          ]
        }
      ]
    },
    {
      "cell_type": "code",
      "source": [
        "pip install Sastrawi"
      ],
      "metadata": {
        "colab": {
          "base_uri": "https://localhost:8080/"
        },
        "id": "vvQVXjoLIGbP",
        "outputId": "25b80510-dbf0-4920-8bce-27ab4d652c71"
      },
      "execution_count": null,
      "outputs": [
        {
          "output_type": "stream",
          "name": "stderr",
          "text": [
            "/usr/local/lib/python3.10/dist-packages/ipykernel/ipkernel.py:283: DeprecationWarning: `should_run_async` will not call `transform_cell` automatically in the future. Please pass the result to `transformed_cell` argument and any exception that happen during thetransform in `preprocessing_exc_tuple` in IPython 7.17 and above.\n",
            "  and should_run_async(code)\n"
          ]
        },
        {
          "output_type": "stream",
          "name": "stdout",
          "text": [
            "Requirement already satisfied: Sastrawi in /usr/local/lib/python3.10/dist-packages (1.0.1)\n",
            "\u001b[33mWARNING: Running pip as the 'root' user can result in broken permissions and conflicting behaviour with the system package manager. It is recommended to use a virtual environment instead: https://pip.pypa.io/warnings/venv\u001b[0m\u001b[33m\n",
            "\u001b[0m"
          ]
        }
      ]
    },
    {
      "cell_type": "code",
      "source": [
        "pip install swifter"
      ],
      "metadata": {
        "colab": {
          "base_uri": "https://localhost:8080/"
        },
        "id": "VoyB8EAeIGdw",
        "outputId": "f08a0006-8ec2-409c-ed54-5c69459befb6"
      },
      "execution_count": null,
      "outputs": [
        {
          "output_type": "stream",
          "name": "stderr",
          "text": [
            "/usr/local/lib/python3.10/dist-packages/ipykernel/ipkernel.py:283: DeprecationWarning: `should_run_async` will not call `transform_cell` automatically in the future. Please pass the result to `transformed_cell` argument and any exception that happen during thetransform in `preprocessing_exc_tuple` in IPython 7.17 and above.\n",
            "  and should_run_async(code)\n"
          ]
        },
        {
          "output_type": "stream",
          "name": "stdout",
          "text": [
            "Requirement already satisfied: swifter in /usr/local/lib/python3.10/dist-packages (1.4.0)\n",
            "Requirement already satisfied: pandas>=1.0.0 in /usr/local/lib/python3.10/dist-packages (from swifter) (1.5.3)\n",
            "Requirement already satisfied: psutil>=5.6.6 in /usr/local/lib/python3.10/dist-packages (from swifter) (5.9.5)\n",
            "Requirement already satisfied: dask>=2.10.0 in /usr/local/lib/python3.10/dist-packages (from dask[dataframe]>=2.10.0->swifter) (2023.8.1)\n",
            "Requirement already satisfied: tqdm>=4.33.0 in /usr/local/lib/python3.10/dist-packages (from swifter) (4.66.1)\n",
            "Requirement already satisfied: click>=8.0 in /usr/local/lib/python3.10/dist-packages (from dask>=2.10.0->dask[dataframe]>=2.10.0->swifter) (8.1.7)\n",
            "Requirement already satisfied: cloudpickle>=1.5.0 in /usr/local/lib/python3.10/dist-packages (from dask>=2.10.0->dask[dataframe]>=2.10.0->swifter) (2.2.1)\n",
            "Requirement already satisfied: fsspec>=2021.09.0 in /usr/local/lib/python3.10/dist-packages (from dask>=2.10.0->dask[dataframe]>=2.10.0->swifter) (2023.6.0)\n",
            "Requirement already satisfied: packaging>=20.0 in /usr/local/lib/python3.10/dist-packages (from dask>=2.10.0->dask[dataframe]>=2.10.0->swifter) (23.2)\n",
            "Requirement already satisfied: partd>=1.2.0 in /usr/local/lib/python3.10/dist-packages (from dask>=2.10.0->dask[dataframe]>=2.10.0->swifter) (1.4.1)\n",
            "Requirement already satisfied: pyyaml>=5.3.1 in /usr/local/lib/python3.10/dist-packages (from dask>=2.10.0->dask[dataframe]>=2.10.0->swifter) (6.0.1)\n",
            "Requirement already satisfied: toolz>=0.10.0 in /usr/local/lib/python3.10/dist-packages (from dask>=2.10.0->dask[dataframe]>=2.10.0->swifter) (0.12.0)\n",
            "Requirement already satisfied: importlib-metadata>=4.13.0 in /usr/local/lib/python3.10/dist-packages (from dask>=2.10.0->dask[dataframe]>=2.10.0->swifter) (7.0.1)\n",
            "Requirement already satisfied: python-dateutil>=2.8.1 in /usr/local/lib/python3.10/dist-packages (from pandas>=1.0.0->swifter) (2.8.2)\n",
            "Requirement already satisfied: pytz>=2020.1 in /usr/local/lib/python3.10/dist-packages (from pandas>=1.0.0->swifter) (2023.3.post1)\n",
            "Requirement already satisfied: numpy>=1.21.0 in /usr/local/lib/python3.10/dist-packages (from pandas>=1.0.0->swifter) (1.26.3)\n",
            "Requirement already satisfied: zipp>=0.5 in /usr/local/lib/python3.10/dist-packages (from importlib-metadata>=4.13.0->dask>=2.10.0->dask[dataframe]>=2.10.0->swifter) (3.17.0)\n",
            "Requirement already satisfied: locket in /usr/local/lib/python3.10/dist-packages (from partd>=1.2.0->dask>=2.10.0->dask[dataframe]>=2.10.0->swifter) (1.0.0)\n",
            "Requirement already satisfied: six>=1.5 in /usr/local/lib/python3.10/dist-packages (from python-dateutil>=2.8.1->pandas>=1.0.0->swifter) (1.16.0)\n",
            "\u001b[33mWARNING: Running pip as the 'root' user can result in broken permissions and conflicting behaviour with the system package manager. It is recommended to use a virtual environment instead: https://pip.pypa.io/warnings/venv\u001b[0m\u001b[33m\n",
            "\u001b[0m"
          ]
        }
      ]
    },
    {
      "cell_type": "markdown",
      "source": [
        "# Preprocessing Data"
      ],
      "metadata": {
        "id": "0UPv0aFwM-QG"
      }
    },
    {
      "cell_type": "code",
      "source": [
        "import pandas as pd\n",
        "import numpy as np\n",
        "import nltk"
      ],
      "metadata": {
        "id": "9bKoJ4zyIGhx",
        "colab": {
          "base_uri": "https://localhost:8080/"
        },
        "outputId": "7b699630-6134-46ea-c113-75864fe287ac"
      },
      "execution_count": null,
      "outputs": [
        {
          "output_type": "stream",
          "name": "stderr",
          "text": [
            "/usr/local/lib/python3.10/dist-packages/ipykernel/ipkernel.py:283: DeprecationWarning: `should_run_async` will not call `transform_cell` automatically in the future. Please pass the result to `transformed_cell` argument and any exception that happen during thetransform in `preprocessing_exc_tuple` in IPython 7.17 and above.\n",
            "  and should_run_async(code)\n"
          ]
        }
      ]
    },
    {
      "cell_type": "code",
      "source": [
        "data = pd.read_csv(\"/content/data.csv\")  # Baca 10 baris pertama\n",
        "data\n"
      ],
      "metadata": {
        "colab": {
          "base_uri": "https://localhost:8080/",
          "height": 480
        },
        "id": "C-GHPLSDJuHK",
        "outputId": "5b4a233e-b8ec-462f-f117-63f13fc9ddff"
      },
      "execution_count": null,
      "outputs": [
        {
          "output_type": "stream",
          "name": "stderr",
          "text": [
            "/usr/local/lib/python3.10/dist-packages/ipykernel/ipkernel.py:283: DeprecationWarning: `should_run_async` will not call `transform_cell` automatically in the future. Please pass the result to `transformed_cell` argument and any exception that happen during thetransform in `preprocessing_exc_tuple` in IPython 7.17 and above.\n",
            "  and should_run_async(code)\n"
          ]
        },
        {
          "output_type": "execute_result",
          "data": {
            "text/plain": [
              "      article_id  article_topic  \\\n",
              "0       93205794  Internasional   \n",
              "1       93186698        Ekonomi   \n",
              "2       93191463      Teknologi   \n",
              "3       93219292        Ekonomi   \n",
              "4         343106        Hiburan   \n",
              "...          ...            ...   \n",
              "9995    93221319     Bojonegoro   \n",
              "9996    93203115        Ekonomi   \n",
              "9997    93230854     Sepak Bola   \n",
              "9998    93199312     Sepak Bola   \n",
              "9999    93194682      Teknologi   \n",
              "\n",
              "                                        article_content  \n",
              "0      Kepolisian Inggris tengah memburu pelaku yang...  \n",
              "1      Seluruh layanan transaksi di jalan tol akan m...  \n",
              "2      \\nHari ini, Rabu (23/8), ternyata menjadi har...  \n",
              "3      Saat ini Indonesia hanya memiliki cadangan ba...  \n",
              "4      Hari ini, Selasa (1/8), pedangdut Ridho Rhoma...  \n",
              "...                                                 ...  \n",
              "9995    Reporter : Joel JokoblokBojonegoro.com - Har...  \n",
              "9996   Pada akhir tahun ini, Direktur Jenderal (Dirj...  \n",
              "9997   Ketika pertama kali datang ke Barcelona pada ...  \n",
              "9998   Tim Nasional (Timnas) Indonesia U-19 berhasil...  \n",
              "9999   Telkom masih melakukan proses perbaikan dan p...  \n",
              "\n",
              "[10000 rows x 3 columns]"
            ],
            "text/html": [
              "\n",
              "  <div id=\"df-0a8426f3-0aac-4f9a-b9f7-c112fcca8e9c\" class=\"colab-df-container\">\n",
              "    <div>\n",
              "<style scoped>\n",
              "    .dataframe tbody tr th:only-of-type {\n",
              "        vertical-align: middle;\n",
              "    }\n",
              "\n",
              "    .dataframe tbody tr th {\n",
              "        vertical-align: top;\n",
              "    }\n",
              "\n",
              "    .dataframe thead th {\n",
              "        text-align: right;\n",
              "    }\n",
              "</style>\n",
              "<table border=\"1\" class=\"dataframe\">\n",
              "  <thead>\n",
              "    <tr style=\"text-align: right;\">\n",
              "      <th></th>\n",
              "      <th>article_id</th>\n",
              "      <th>article_topic</th>\n",
              "      <th>article_content</th>\n",
              "    </tr>\n",
              "  </thead>\n",
              "  <tbody>\n",
              "    <tr>\n",
              "      <th>0</th>\n",
              "      <td>93205794</td>\n",
              "      <td>Internasional</td>\n",
              "      <td>Kepolisian Inggris tengah memburu pelaku yang...</td>\n",
              "    </tr>\n",
              "    <tr>\n",
              "      <th>1</th>\n",
              "      <td>93186698</td>\n",
              "      <td>Ekonomi</td>\n",
              "      <td>Seluruh layanan transaksi di jalan tol akan m...</td>\n",
              "    </tr>\n",
              "    <tr>\n",
              "      <th>2</th>\n",
              "      <td>93191463</td>\n",
              "      <td>Teknologi</td>\n",
              "      <td>\\nHari ini, Rabu (23/8), ternyata menjadi har...</td>\n",
              "    </tr>\n",
              "    <tr>\n",
              "      <th>3</th>\n",
              "      <td>93219292</td>\n",
              "      <td>Ekonomi</td>\n",
              "      <td>Saat ini Indonesia hanya memiliki cadangan ba...</td>\n",
              "    </tr>\n",
              "    <tr>\n",
              "      <th>4</th>\n",
              "      <td>343106</td>\n",
              "      <td>Hiburan</td>\n",
              "      <td>Hari ini, Selasa (1/8), pedangdut Ridho Rhoma...</td>\n",
              "    </tr>\n",
              "    <tr>\n",
              "      <th>...</th>\n",
              "      <td>...</td>\n",
              "      <td>...</td>\n",
              "      <td>...</td>\n",
              "    </tr>\n",
              "    <tr>\n",
              "      <th>9995</th>\n",
              "      <td>93221319</td>\n",
              "      <td>Bojonegoro</td>\n",
              "      <td>Reporter : Joel JokoblokBojonegoro.com - Har...</td>\n",
              "    </tr>\n",
              "    <tr>\n",
              "      <th>9996</th>\n",
              "      <td>93203115</td>\n",
              "      <td>Ekonomi</td>\n",
              "      <td>Pada akhir tahun ini, Direktur Jenderal (Dirj...</td>\n",
              "    </tr>\n",
              "    <tr>\n",
              "      <th>9997</th>\n",
              "      <td>93230854</td>\n",
              "      <td>Sepak Bola</td>\n",
              "      <td>Ketika pertama kali datang ke Barcelona pada ...</td>\n",
              "    </tr>\n",
              "    <tr>\n",
              "      <th>9998</th>\n",
              "      <td>93199312</td>\n",
              "      <td>Sepak Bola</td>\n",
              "      <td>Tim Nasional (Timnas) Indonesia U-19 berhasil...</td>\n",
              "    </tr>\n",
              "    <tr>\n",
              "      <th>9999</th>\n",
              "      <td>93194682</td>\n",
              "      <td>Teknologi</td>\n",
              "      <td>Telkom masih melakukan proses perbaikan dan p...</td>\n",
              "    </tr>\n",
              "  </tbody>\n",
              "</table>\n",
              "<p>10000 rows × 3 columns</p>\n",
              "</div>\n",
              "    <div class=\"colab-df-buttons\">\n",
              "\n",
              "  <div class=\"colab-df-container\">\n",
              "    <button class=\"colab-df-convert\" onclick=\"convertToInteractive('df-0a8426f3-0aac-4f9a-b9f7-c112fcca8e9c')\"\n",
              "            title=\"Convert this dataframe to an interactive table.\"\n",
              "            style=\"display:none;\">\n",
              "\n",
              "  <svg xmlns=\"http://www.w3.org/2000/svg\" height=\"24px\" viewBox=\"0 -960 960 960\">\n",
              "    <path d=\"M120-120v-720h720v720H120Zm60-500h600v-160H180v160Zm220 220h160v-160H400v160Zm0 220h160v-160H400v160ZM180-400h160v-160H180v160Zm440 0h160v-160H620v160ZM180-180h160v-160H180v160Zm440 0h160v-160H620v160Z\"/>\n",
              "  </svg>\n",
              "    </button>\n",
              "\n",
              "  <style>\n",
              "    .colab-df-container {\n",
              "      display:flex;\n",
              "      gap: 12px;\n",
              "    }\n",
              "\n",
              "    .colab-df-convert {\n",
              "      background-color: #E8F0FE;\n",
              "      border: none;\n",
              "      border-radius: 50%;\n",
              "      cursor: pointer;\n",
              "      display: none;\n",
              "      fill: #1967D2;\n",
              "      height: 32px;\n",
              "      padding: 0 0 0 0;\n",
              "      width: 32px;\n",
              "    }\n",
              "\n",
              "    .colab-df-convert:hover {\n",
              "      background-color: #E2EBFA;\n",
              "      box-shadow: 0px 1px 2px rgba(60, 64, 67, 0.3), 0px 1px 3px 1px rgba(60, 64, 67, 0.15);\n",
              "      fill: #174EA6;\n",
              "    }\n",
              "\n",
              "    .colab-df-buttons div {\n",
              "      margin-bottom: 4px;\n",
              "    }\n",
              "\n",
              "    [theme=dark] .colab-df-convert {\n",
              "      background-color: #3B4455;\n",
              "      fill: #D2E3FC;\n",
              "    }\n",
              "\n",
              "    [theme=dark] .colab-df-convert:hover {\n",
              "      background-color: #434B5C;\n",
              "      box-shadow: 0px 1px 3px 1px rgba(0, 0, 0, 0.15);\n",
              "      filter: drop-shadow(0px 1px 2px rgba(0, 0, 0, 0.3));\n",
              "      fill: #FFFFFF;\n",
              "    }\n",
              "  </style>\n",
              "\n",
              "    <script>\n",
              "      const buttonEl =\n",
              "        document.querySelector('#df-0a8426f3-0aac-4f9a-b9f7-c112fcca8e9c button.colab-df-convert');\n",
              "      buttonEl.style.display =\n",
              "        google.colab.kernel.accessAllowed ? 'block' : 'none';\n",
              "\n",
              "      async function convertToInteractive(key) {\n",
              "        const element = document.querySelector('#df-0a8426f3-0aac-4f9a-b9f7-c112fcca8e9c');\n",
              "        const dataTable =\n",
              "          await google.colab.kernel.invokeFunction('convertToInteractive',\n",
              "                                                    [key], {});\n",
              "        if (!dataTable) return;\n",
              "\n",
              "        const docLinkHtml = 'Like what you see? Visit the ' +\n",
              "          '<a target=\"_blank\" href=https://colab.research.google.com/notebooks/data_table.ipynb>data table notebook</a>'\n",
              "          + ' to learn more about interactive tables.';\n",
              "        element.innerHTML = '';\n",
              "        dataTable['output_type'] = 'display_data';\n",
              "        await google.colab.output.renderOutput(dataTable, element);\n",
              "        const docLink = document.createElement('div');\n",
              "        docLink.innerHTML = docLinkHtml;\n",
              "        element.appendChild(docLink);\n",
              "      }\n",
              "    </script>\n",
              "  </div>\n",
              "\n",
              "\n",
              "<div id=\"df-764c823c-986e-49d4-b652-de6e067097b3\">\n",
              "  <button class=\"colab-df-quickchart\" onclick=\"quickchart('df-764c823c-986e-49d4-b652-de6e067097b3')\"\n",
              "            title=\"Suggest charts\"\n",
              "            style=\"display:none;\">\n",
              "\n",
              "<svg xmlns=\"http://www.w3.org/2000/svg\" height=\"24px\"viewBox=\"0 0 24 24\"\n",
              "     width=\"24px\">\n",
              "    <g>\n",
              "        <path d=\"M19 3H5c-1.1 0-2 .9-2 2v14c0 1.1.9 2 2 2h14c1.1 0 2-.9 2-2V5c0-1.1-.9-2-2-2zM9 17H7v-7h2v7zm4 0h-2V7h2v10zm4 0h-2v-4h2v4z\"/>\n",
              "    </g>\n",
              "</svg>\n",
              "  </button>\n",
              "\n",
              "<style>\n",
              "  .colab-df-quickchart {\n",
              "      --bg-color: #E8F0FE;\n",
              "      --fill-color: #1967D2;\n",
              "      --hover-bg-color: #E2EBFA;\n",
              "      --hover-fill-color: #174EA6;\n",
              "      --disabled-fill-color: #AAA;\n",
              "      --disabled-bg-color: #DDD;\n",
              "  }\n",
              "\n",
              "  [theme=dark] .colab-df-quickchart {\n",
              "      --bg-color: #3B4455;\n",
              "      --fill-color: #D2E3FC;\n",
              "      --hover-bg-color: #434B5C;\n",
              "      --hover-fill-color: #FFFFFF;\n",
              "      --disabled-bg-color: #3B4455;\n",
              "      --disabled-fill-color: #666;\n",
              "  }\n",
              "\n",
              "  .colab-df-quickchart {\n",
              "    background-color: var(--bg-color);\n",
              "    border: none;\n",
              "    border-radius: 50%;\n",
              "    cursor: pointer;\n",
              "    display: none;\n",
              "    fill: var(--fill-color);\n",
              "    height: 32px;\n",
              "    padding: 0;\n",
              "    width: 32px;\n",
              "  }\n",
              "\n",
              "  .colab-df-quickchart:hover {\n",
              "    background-color: var(--hover-bg-color);\n",
              "    box-shadow: 0 1px 2px rgba(60, 64, 67, 0.3), 0 1px 3px 1px rgba(60, 64, 67, 0.15);\n",
              "    fill: var(--button-hover-fill-color);\n",
              "  }\n",
              "\n",
              "  .colab-df-quickchart-complete:disabled,\n",
              "  .colab-df-quickchart-complete:disabled:hover {\n",
              "    background-color: var(--disabled-bg-color);\n",
              "    fill: var(--disabled-fill-color);\n",
              "    box-shadow: none;\n",
              "  }\n",
              "\n",
              "  .colab-df-spinner {\n",
              "    border: 2px solid var(--fill-color);\n",
              "    border-color: transparent;\n",
              "    border-bottom-color: var(--fill-color);\n",
              "    animation:\n",
              "      spin 1s steps(1) infinite;\n",
              "  }\n",
              "\n",
              "  @keyframes spin {\n",
              "    0% {\n",
              "      border-color: transparent;\n",
              "      border-bottom-color: var(--fill-color);\n",
              "      border-left-color: var(--fill-color);\n",
              "    }\n",
              "    20% {\n",
              "      border-color: transparent;\n",
              "      border-left-color: var(--fill-color);\n",
              "      border-top-color: var(--fill-color);\n",
              "    }\n",
              "    30% {\n",
              "      border-color: transparent;\n",
              "      border-left-color: var(--fill-color);\n",
              "      border-top-color: var(--fill-color);\n",
              "      border-right-color: var(--fill-color);\n",
              "    }\n",
              "    40% {\n",
              "      border-color: transparent;\n",
              "      border-right-color: var(--fill-color);\n",
              "      border-top-color: var(--fill-color);\n",
              "    }\n",
              "    60% {\n",
              "      border-color: transparent;\n",
              "      border-right-color: var(--fill-color);\n",
              "    }\n",
              "    80% {\n",
              "      border-color: transparent;\n",
              "      border-right-color: var(--fill-color);\n",
              "      border-bottom-color: var(--fill-color);\n",
              "    }\n",
              "    90% {\n",
              "      border-color: transparent;\n",
              "      border-bottom-color: var(--fill-color);\n",
              "    }\n",
              "  }\n",
              "</style>\n",
              "\n",
              "  <script>\n",
              "    async function quickchart(key) {\n",
              "      const quickchartButtonEl =\n",
              "        document.querySelector('#' + key + ' button');\n",
              "      quickchartButtonEl.disabled = true;  // To prevent multiple clicks.\n",
              "      quickchartButtonEl.classList.add('colab-df-spinner');\n",
              "      try {\n",
              "        const charts = await google.colab.kernel.invokeFunction(\n",
              "            'suggestCharts', [key], {});\n",
              "      } catch (error) {\n",
              "        console.error('Error during call to suggestCharts:', error);\n",
              "      }\n",
              "      quickchartButtonEl.classList.remove('colab-df-spinner');\n",
              "      quickchartButtonEl.classList.add('colab-df-quickchart-complete');\n",
              "    }\n",
              "    (() => {\n",
              "      let quickchartButtonEl =\n",
              "        document.querySelector('#df-764c823c-986e-49d4-b652-de6e067097b3 button');\n",
              "      quickchartButtonEl.style.display =\n",
              "        google.colab.kernel.accessAllowed ? 'block' : 'none';\n",
              "    })();\n",
              "  </script>\n",
              "</div>\n",
              "    </div>\n",
              "  </div>\n"
            ]
          },
          "metadata": {},
          "execution_count": 142
        }
      ]
    },
    {
      "cell_type": "code",
      "source": [
        "# Menghitung Jumlah Baris dan Kolom\n",
        "Kolom, Baris = data.shape\n",
        "print(\"Jumlah Kolom\", Kolom)\n",
        "print(\"Jumlah Baris\", Baris)"
      ],
      "metadata": {
        "colab": {
          "base_uri": "https://localhost:8080/"
        },
        "id": "AOcLAfOkIGsR",
        "outputId": "a60d808d-e48d-4d94-8958-3c533d6ac068"
      },
      "execution_count": null,
      "outputs": [
        {
          "output_type": "stream",
          "name": "stdout",
          "text": [
            "Jumlah Kolom 10000\n",
            "Jumlah Baris 3\n"
          ]
        },
        {
          "output_type": "stream",
          "name": "stderr",
          "text": [
            "/usr/local/lib/python3.10/dist-packages/ipykernel/ipkernel.py:283: DeprecationWarning: `should_run_async` will not call `transform_cell` automatically in the future. Please pass the result to `transformed_cell` argument and any exception that happen during thetransform in `preprocessing_exc_tuple` in IPython 7.17 and above.\n",
            "  and should_run_async(code)\n"
          ]
        }
      ]
    },
    {
      "cell_type": "code",
      "source": [
        "data.head(5)"
      ],
      "metadata": {
        "colab": {
          "base_uri": "https://localhost:8080/",
          "height": 263
        },
        "id": "zCtGEPwdJ9rE",
        "outputId": "fde5c0bd-b33f-4bb8-e1b4-7b73473ffc0f"
      },
      "execution_count": null,
      "outputs": [
        {
          "output_type": "stream",
          "name": "stderr",
          "text": [
            "/usr/local/lib/python3.10/dist-packages/ipykernel/ipkernel.py:283: DeprecationWarning: `should_run_async` will not call `transform_cell` automatically in the future. Please pass the result to `transformed_cell` argument and any exception that happen during thetransform in `preprocessing_exc_tuple` in IPython 7.17 and above.\n",
            "  and should_run_async(code)\n"
          ]
        },
        {
          "output_type": "execute_result",
          "data": {
            "text/plain": [
              "   article_id  article_topic  \\\n",
              "0    93205794  Internasional   \n",
              "1    93186698        Ekonomi   \n",
              "2    93191463      Teknologi   \n",
              "3    93219292        Ekonomi   \n",
              "4      343106        Hiburan   \n",
              "\n",
              "                                     article_content  \n",
              "0   Kepolisian Inggris tengah memburu pelaku yang...  \n",
              "1   Seluruh layanan transaksi di jalan tol akan m...  \n",
              "2   \\nHari ini, Rabu (23/8), ternyata menjadi har...  \n",
              "3   Saat ini Indonesia hanya memiliki cadangan ba...  \n",
              "4   Hari ini, Selasa (1/8), pedangdut Ridho Rhoma...  "
            ],
            "text/html": [
              "\n",
              "  <div id=\"df-07322a21-7ef7-4401-8d74-095ae9df5909\" class=\"colab-df-container\">\n",
              "    <div>\n",
              "<style scoped>\n",
              "    .dataframe tbody tr th:only-of-type {\n",
              "        vertical-align: middle;\n",
              "    }\n",
              "\n",
              "    .dataframe tbody tr th {\n",
              "        vertical-align: top;\n",
              "    }\n",
              "\n",
              "    .dataframe thead th {\n",
              "        text-align: right;\n",
              "    }\n",
              "</style>\n",
              "<table border=\"1\" class=\"dataframe\">\n",
              "  <thead>\n",
              "    <tr style=\"text-align: right;\">\n",
              "      <th></th>\n",
              "      <th>article_id</th>\n",
              "      <th>article_topic</th>\n",
              "      <th>article_content</th>\n",
              "    </tr>\n",
              "  </thead>\n",
              "  <tbody>\n",
              "    <tr>\n",
              "      <th>0</th>\n",
              "      <td>93205794</td>\n",
              "      <td>Internasional</td>\n",
              "      <td>Kepolisian Inggris tengah memburu pelaku yang...</td>\n",
              "    </tr>\n",
              "    <tr>\n",
              "      <th>1</th>\n",
              "      <td>93186698</td>\n",
              "      <td>Ekonomi</td>\n",
              "      <td>Seluruh layanan transaksi di jalan tol akan m...</td>\n",
              "    </tr>\n",
              "    <tr>\n",
              "      <th>2</th>\n",
              "      <td>93191463</td>\n",
              "      <td>Teknologi</td>\n",
              "      <td>\\nHari ini, Rabu (23/8), ternyata menjadi har...</td>\n",
              "    </tr>\n",
              "    <tr>\n",
              "      <th>3</th>\n",
              "      <td>93219292</td>\n",
              "      <td>Ekonomi</td>\n",
              "      <td>Saat ini Indonesia hanya memiliki cadangan ba...</td>\n",
              "    </tr>\n",
              "    <tr>\n",
              "      <th>4</th>\n",
              "      <td>343106</td>\n",
              "      <td>Hiburan</td>\n",
              "      <td>Hari ini, Selasa (1/8), pedangdut Ridho Rhoma...</td>\n",
              "    </tr>\n",
              "  </tbody>\n",
              "</table>\n",
              "</div>\n",
              "    <div class=\"colab-df-buttons\">\n",
              "\n",
              "  <div class=\"colab-df-container\">\n",
              "    <button class=\"colab-df-convert\" onclick=\"convertToInteractive('df-07322a21-7ef7-4401-8d74-095ae9df5909')\"\n",
              "            title=\"Convert this dataframe to an interactive table.\"\n",
              "            style=\"display:none;\">\n",
              "\n",
              "  <svg xmlns=\"http://www.w3.org/2000/svg\" height=\"24px\" viewBox=\"0 -960 960 960\">\n",
              "    <path d=\"M120-120v-720h720v720H120Zm60-500h600v-160H180v160Zm220 220h160v-160H400v160Zm0 220h160v-160H400v160ZM180-400h160v-160H180v160Zm440 0h160v-160H620v160ZM180-180h160v-160H180v160Zm440 0h160v-160H620v160Z\"/>\n",
              "  </svg>\n",
              "    </button>\n",
              "\n",
              "  <style>\n",
              "    .colab-df-container {\n",
              "      display:flex;\n",
              "      gap: 12px;\n",
              "    }\n",
              "\n",
              "    .colab-df-convert {\n",
              "      background-color: #E8F0FE;\n",
              "      border: none;\n",
              "      border-radius: 50%;\n",
              "      cursor: pointer;\n",
              "      display: none;\n",
              "      fill: #1967D2;\n",
              "      height: 32px;\n",
              "      padding: 0 0 0 0;\n",
              "      width: 32px;\n",
              "    }\n",
              "\n",
              "    .colab-df-convert:hover {\n",
              "      background-color: #E2EBFA;\n",
              "      box-shadow: 0px 1px 2px rgba(60, 64, 67, 0.3), 0px 1px 3px 1px rgba(60, 64, 67, 0.15);\n",
              "      fill: #174EA6;\n",
              "    }\n",
              "\n",
              "    .colab-df-buttons div {\n",
              "      margin-bottom: 4px;\n",
              "    }\n",
              "\n",
              "    [theme=dark] .colab-df-convert {\n",
              "      background-color: #3B4455;\n",
              "      fill: #D2E3FC;\n",
              "    }\n",
              "\n",
              "    [theme=dark] .colab-df-convert:hover {\n",
              "      background-color: #434B5C;\n",
              "      box-shadow: 0px 1px 3px 1px rgba(0, 0, 0, 0.15);\n",
              "      filter: drop-shadow(0px 1px 2px rgba(0, 0, 0, 0.3));\n",
              "      fill: #FFFFFF;\n",
              "    }\n",
              "  </style>\n",
              "\n",
              "    <script>\n",
              "      const buttonEl =\n",
              "        document.querySelector('#df-07322a21-7ef7-4401-8d74-095ae9df5909 button.colab-df-convert');\n",
              "      buttonEl.style.display =\n",
              "        google.colab.kernel.accessAllowed ? 'block' : 'none';\n",
              "\n",
              "      async function convertToInteractive(key) {\n",
              "        const element = document.querySelector('#df-07322a21-7ef7-4401-8d74-095ae9df5909');\n",
              "        const dataTable =\n",
              "          await google.colab.kernel.invokeFunction('convertToInteractive',\n",
              "                                                    [key], {});\n",
              "        if (!dataTable) return;\n",
              "\n",
              "        const docLinkHtml = 'Like what you see? Visit the ' +\n",
              "          '<a target=\"_blank\" href=https://colab.research.google.com/notebooks/data_table.ipynb>data table notebook</a>'\n",
              "          + ' to learn more about interactive tables.';\n",
              "        element.innerHTML = '';\n",
              "        dataTable['output_type'] = 'display_data';\n",
              "        await google.colab.output.renderOutput(dataTable, element);\n",
              "        const docLink = document.createElement('div');\n",
              "        docLink.innerHTML = docLinkHtml;\n",
              "        element.appendChild(docLink);\n",
              "      }\n",
              "    </script>\n",
              "  </div>\n",
              "\n",
              "\n",
              "<div id=\"df-abd6bea4-6683-4703-ac33-90f923bdfd4c\">\n",
              "  <button class=\"colab-df-quickchart\" onclick=\"quickchart('df-abd6bea4-6683-4703-ac33-90f923bdfd4c')\"\n",
              "            title=\"Suggest charts\"\n",
              "            style=\"display:none;\">\n",
              "\n",
              "<svg xmlns=\"http://www.w3.org/2000/svg\" height=\"24px\"viewBox=\"0 0 24 24\"\n",
              "     width=\"24px\">\n",
              "    <g>\n",
              "        <path d=\"M19 3H5c-1.1 0-2 .9-2 2v14c0 1.1.9 2 2 2h14c1.1 0 2-.9 2-2V5c0-1.1-.9-2-2-2zM9 17H7v-7h2v7zm4 0h-2V7h2v10zm4 0h-2v-4h2v4z\"/>\n",
              "    </g>\n",
              "</svg>\n",
              "  </button>\n",
              "\n",
              "<style>\n",
              "  .colab-df-quickchart {\n",
              "      --bg-color: #E8F0FE;\n",
              "      --fill-color: #1967D2;\n",
              "      --hover-bg-color: #E2EBFA;\n",
              "      --hover-fill-color: #174EA6;\n",
              "      --disabled-fill-color: #AAA;\n",
              "      --disabled-bg-color: #DDD;\n",
              "  }\n",
              "\n",
              "  [theme=dark] .colab-df-quickchart {\n",
              "      --bg-color: #3B4455;\n",
              "      --fill-color: #D2E3FC;\n",
              "      --hover-bg-color: #434B5C;\n",
              "      --hover-fill-color: #FFFFFF;\n",
              "      --disabled-bg-color: #3B4455;\n",
              "      --disabled-fill-color: #666;\n",
              "  }\n",
              "\n",
              "  .colab-df-quickchart {\n",
              "    background-color: var(--bg-color);\n",
              "    border: none;\n",
              "    border-radius: 50%;\n",
              "    cursor: pointer;\n",
              "    display: none;\n",
              "    fill: var(--fill-color);\n",
              "    height: 32px;\n",
              "    padding: 0;\n",
              "    width: 32px;\n",
              "  }\n",
              "\n",
              "  .colab-df-quickchart:hover {\n",
              "    background-color: var(--hover-bg-color);\n",
              "    box-shadow: 0 1px 2px rgba(60, 64, 67, 0.3), 0 1px 3px 1px rgba(60, 64, 67, 0.15);\n",
              "    fill: var(--button-hover-fill-color);\n",
              "  }\n",
              "\n",
              "  .colab-df-quickchart-complete:disabled,\n",
              "  .colab-df-quickchart-complete:disabled:hover {\n",
              "    background-color: var(--disabled-bg-color);\n",
              "    fill: var(--disabled-fill-color);\n",
              "    box-shadow: none;\n",
              "  }\n",
              "\n",
              "  .colab-df-spinner {\n",
              "    border: 2px solid var(--fill-color);\n",
              "    border-color: transparent;\n",
              "    border-bottom-color: var(--fill-color);\n",
              "    animation:\n",
              "      spin 1s steps(1) infinite;\n",
              "  }\n",
              "\n",
              "  @keyframes spin {\n",
              "    0% {\n",
              "      border-color: transparent;\n",
              "      border-bottom-color: var(--fill-color);\n",
              "      border-left-color: var(--fill-color);\n",
              "    }\n",
              "    20% {\n",
              "      border-color: transparent;\n",
              "      border-left-color: var(--fill-color);\n",
              "      border-top-color: var(--fill-color);\n",
              "    }\n",
              "    30% {\n",
              "      border-color: transparent;\n",
              "      border-left-color: var(--fill-color);\n",
              "      border-top-color: var(--fill-color);\n",
              "      border-right-color: var(--fill-color);\n",
              "    }\n",
              "    40% {\n",
              "      border-color: transparent;\n",
              "      border-right-color: var(--fill-color);\n",
              "      border-top-color: var(--fill-color);\n",
              "    }\n",
              "    60% {\n",
              "      border-color: transparent;\n",
              "      border-right-color: var(--fill-color);\n",
              "    }\n",
              "    80% {\n",
              "      border-color: transparent;\n",
              "      border-right-color: var(--fill-color);\n",
              "      border-bottom-color: var(--fill-color);\n",
              "    }\n",
              "    90% {\n",
              "      border-color: transparent;\n",
              "      border-bottom-color: var(--fill-color);\n",
              "    }\n",
              "  }\n",
              "</style>\n",
              "\n",
              "  <script>\n",
              "    async function quickchart(key) {\n",
              "      const quickchartButtonEl =\n",
              "        document.querySelector('#' + key + ' button');\n",
              "      quickchartButtonEl.disabled = true;  // To prevent multiple clicks.\n",
              "      quickchartButtonEl.classList.add('colab-df-spinner');\n",
              "      try {\n",
              "        const charts = await google.colab.kernel.invokeFunction(\n",
              "            'suggestCharts', [key], {});\n",
              "      } catch (error) {\n",
              "        console.error('Error during call to suggestCharts:', error);\n",
              "      }\n",
              "      quickchartButtonEl.classList.remove('colab-df-spinner');\n",
              "      quickchartButtonEl.classList.add('colab-df-quickchart-complete');\n",
              "    }\n",
              "    (() => {\n",
              "      let quickchartButtonEl =\n",
              "        document.querySelector('#df-abd6bea4-6683-4703-ac33-90f923bdfd4c button');\n",
              "      quickchartButtonEl.style.display =\n",
              "        google.colab.kernel.accessAllowed ? 'block' : 'none';\n",
              "    })();\n",
              "  </script>\n",
              "</div>\n",
              "    </div>\n",
              "  </div>\n"
            ]
          },
          "metadata": {},
          "execution_count": 144
        }
      ]
    },
    {
      "cell_type": "code",
      "source": [
        "data.tail(5)"
      ],
      "metadata": {
        "colab": {
          "base_uri": "https://localhost:8080/",
          "height": 263
        },
        "id": "gvZFWrW_J9te",
        "outputId": "f6a56691-104c-4158-c0ce-654294bec3be"
      },
      "execution_count": null,
      "outputs": [
        {
          "output_type": "stream",
          "name": "stderr",
          "text": [
            "/usr/local/lib/python3.10/dist-packages/ipykernel/ipkernel.py:283: DeprecationWarning: `should_run_async` will not call `transform_cell` automatically in the future. Please pass the result to `transformed_cell` argument and any exception that happen during thetransform in `preprocessing_exc_tuple` in IPython 7.17 and above.\n",
            "  and should_run_async(code)\n"
          ]
        },
        {
          "output_type": "execute_result",
          "data": {
            "text/plain": [
              "      article_id article_topic  \\\n",
              "9995    93221319    Bojonegoro   \n",
              "9996    93203115       Ekonomi   \n",
              "9997    93230854    Sepak Bola   \n",
              "9998    93199312    Sepak Bola   \n",
              "9999    93194682     Teknologi   \n",
              "\n",
              "                                        article_content  \n",
              "9995    Reporter : Joel JokoblokBojonegoro.com - Har...  \n",
              "9996   Pada akhir tahun ini, Direktur Jenderal (Dirj...  \n",
              "9997   Ketika pertama kali datang ke Barcelona pada ...  \n",
              "9998   Tim Nasional (Timnas) Indonesia U-19 berhasil...  \n",
              "9999   Telkom masih melakukan proses perbaikan dan p...  "
            ],
            "text/html": [
              "\n",
              "  <div id=\"df-0245c460-c003-4829-9b8b-ceb1f9fa58ed\" class=\"colab-df-container\">\n",
              "    <div>\n",
              "<style scoped>\n",
              "    .dataframe tbody tr th:only-of-type {\n",
              "        vertical-align: middle;\n",
              "    }\n",
              "\n",
              "    .dataframe tbody tr th {\n",
              "        vertical-align: top;\n",
              "    }\n",
              "\n",
              "    .dataframe thead th {\n",
              "        text-align: right;\n",
              "    }\n",
              "</style>\n",
              "<table border=\"1\" class=\"dataframe\">\n",
              "  <thead>\n",
              "    <tr style=\"text-align: right;\">\n",
              "      <th></th>\n",
              "      <th>article_id</th>\n",
              "      <th>article_topic</th>\n",
              "      <th>article_content</th>\n",
              "    </tr>\n",
              "  </thead>\n",
              "  <tbody>\n",
              "    <tr>\n",
              "      <th>9995</th>\n",
              "      <td>93221319</td>\n",
              "      <td>Bojonegoro</td>\n",
              "      <td>Reporter : Joel JokoblokBojonegoro.com - Har...</td>\n",
              "    </tr>\n",
              "    <tr>\n",
              "      <th>9996</th>\n",
              "      <td>93203115</td>\n",
              "      <td>Ekonomi</td>\n",
              "      <td>Pada akhir tahun ini, Direktur Jenderal (Dirj...</td>\n",
              "    </tr>\n",
              "    <tr>\n",
              "      <th>9997</th>\n",
              "      <td>93230854</td>\n",
              "      <td>Sepak Bola</td>\n",
              "      <td>Ketika pertama kali datang ke Barcelona pada ...</td>\n",
              "    </tr>\n",
              "    <tr>\n",
              "      <th>9998</th>\n",
              "      <td>93199312</td>\n",
              "      <td>Sepak Bola</td>\n",
              "      <td>Tim Nasional (Timnas) Indonesia U-19 berhasil...</td>\n",
              "    </tr>\n",
              "    <tr>\n",
              "      <th>9999</th>\n",
              "      <td>93194682</td>\n",
              "      <td>Teknologi</td>\n",
              "      <td>Telkom masih melakukan proses perbaikan dan p...</td>\n",
              "    </tr>\n",
              "  </tbody>\n",
              "</table>\n",
              "</div>\n",
              "    <div class=\"colab-df-buttons\">\n",
              "\n",
              "  <div class=\"colab-df-container\">\n",
              "    <button class=\"colab-df-convert\" onclick=\"convertToInteractive('df-0245c460-c003-4829-9b8b-ceb1f9fa58ed')\"\n",
              "            title=\"Convert this dataframe to an interactive table.\"\n",
              "            style=\"display:none;\">\n",
              "\n",
              "  <svg xmlns=\"http://www.w3.org/2000/svg\" height=\"24px\" viewBox=\"0 -960 960 960\">\n",
              "    <path d=\"M120-120v-720h720v720H120Zm60-500h600v-160H180v160Zm220 220h160v-160H400v160Zm0 220h160v-160H400v160ZM180-400h160v-160H180v160Zm440 0h160v-160H620v160ZM180-180h160v-160H180v160Zm440 0h160v-160H620v160Z\"/>\n",
              "  </svg>\n",
              "    </button>\n",
              "\n",
              "  <style>\n",
              "    .colab-df-container {\n",
              "      display:flex;\n",
              "      gap: 12px;\n",
              "    }\n",
              "\n",
              "    .colab-df-convert {\n",
              "      background-color: #E8F0FE;\n",
              "      border: none;\n",
              "      border-radius: 50%;\n",
              "      cursor: pointer;\n",
              "      display: none;\n",
              "      fill: #1967D2;\n",
              "      height: 32px;\n",
              "      padding: 0 0 0 0;\n",
              "      width: 32px;\n",
              "    }\n",
              "\n",
              "    .colab-df-convert:hover {\n",
              "      background-color: #E2EBFA;\n",
              "      box-shadow: 0px 1px 2px rgba(60, 64, 67, 0.3), 0px 1px 3px 1px rgba(60, 64, 67, 0.15);\n",
              "      fill: #174EA6;\n",
              "    }\n",
              "\n",
              "    .colab-df-buttons div {\n",
              "      margin-bottom: 4px;\n",
              "    }\n",
              "\n",
              "    [theme=dark] .colab-df-convert {\n",
              "      background-color: #3B4455;\n",
              "      fill: #D2E3FC;\n",
              "    }\n",
              "\n",
              "    [theme=dark] .colab-df-convert:hover {\n",
              "      background-color: #434B5C;\n",
              "      box-shadow: 0px 1px 3px 1px rgba(0, 0, 0, 0.15);\n",
              "      filter: drop-shadow(0px 1px 2px rgba(0, 0, 0, 0.3));\n",
              "      fill: #FFFFFF;\n",
              "    }\n",
              "  </style>\n",
              "\n",
              "    <script>\n",
              "      const buttonEl =\n",
              "        document.querySelector('#df-0245c460-c003-4829-9b8b-ceb1f9fa58ed button.colab-df-convert');\n",
              "      buttonEl.style.display =\n",
              "        google.colab.kernel.accessAllowed ? 'block' : 'none';\n",
              "\n",
              "      async function convertToInteractive(key) {\n",
              "        const element = document.querySelector('#df-0245c460-c003-4829-9b8b-ceb1f9fa58ed');\n",
              "        const dataTable =\n",
              "          await google.colab.kernel.invokeFunction('convertToInteractive',\n",
              "                                                    [key], {});\n",
              "        if (!dataTable) return;\n",
              "\n",
              "        const docLinkHtml = 'Like what you see? Visit the ' +\n",
              "          '<a target=\"_blank\" href=https://colab.research.google.com/notebooks/data_table.ipynb>data table notebook</a>'\n",
              "          + ' to learn more about interactive tables.';\n",
              "        element.innerHTML = '';\n",
              "        dataTable['output_type'] = 'display_data';\n",
              "        await google.colab.output.renderOutput(dataTable, element);\n",
              "        const docLink = document.createElement('div');\n",
              "        docLink.innerHTML = docLinkHtml;\n",
              "        element.appendChild(docLink);\n",
              "      }\n",
              "    </script>\n",
              "  </div>\n",
              "\n",
              "\n",
              "<div id=\"df-7e6af997-84aa-41d7-9672-fea7ae6088b5\">\n",
              "  <button class=\"colab-df-quickchart\" onclick=\"quickchart('df-7e6af997-84aa-41d7-9672-fea7ae6088b5')\"\n",
              "            title=\"Suggest charts\"\n",
              "            style=\"display:none;\">\n",
              "\n",
              "<svg xmlns=\"http://www.w3.org/2000/svg\" height=\"24px\"viewBox=\"0 0 24 24\"\n",
              "     width=\"24px\">\n",
              "    <g>\n",
              "        <path d=\"M19 3H5c-1.1 0-2 .9-2 2v14c0 1.1.9 2 2 2h14c1.1 0 2-.9 2-2V5c0-1.1-.9-2-2-2zM9 17H7v-7h2v7zm4 0h-2V7h2v10zm4 0h-2v-4h2v4z\"/>\n",
              "    </g>\n",
              "</svg>\n",
              "  </button>\n",
              "\n",
              "<style>\n",
              "  .colab-df-quickchart {\n",
              "      --bg-color: #E8F0FE;\n",
              "      --fill-color: #1967D2;\n",
              "      --hover-bg-color: #E2EBFA;\n",
              "      --hover-fill-color: #174EA6;\n",
              "      --disabled-fill-color: #AAA;\n",
              "      --disabled-bg-color: #DDD;\n",
              "  }\n",
              "\n",
              "  [theme=dark] .colab-df-quickchart {\n",
              "      --bg-color: #3B4455;\n",
              "      --fill-color: #D2E3FC;\n",
              "      --hover-bg-color: #434B5C;\n",
              "      --hover-fill-color: #FFFFFF;\n",
              "      --disabled-bg-color: #3B4455;\n",
              "      --disabled-fill-color: #666;\n",
              "  }\n",
              "\n",
              "  .colab-df-quickchart {\n",
              "    background-color: var(--bg-color);\n",
              "    border: none;\n",
              "    border-radius: 50%;\n",
              "    cursor: pointer;\n",
              "    display: none;\n",
              "    fill: var(--fill-color);\n",
              "    height: 32px;\n",
              "    padding: 0;\n",
              "    width: 32px;\n",
              "  }\n",
              "\n",
              "  .colab-df-quickchart:hover {\n",
              "    background-color: var(--hover-bg-color);\n",
              "    box-shadow: 0 1px 2px rgba(60, 64, 67, 0.3), 0 1px 3px 1px rgba(60, 64, 67, 0.15);\n",
              "    fill: var(--button-hover-fill-color);\n",
              "  }\n",
              "\n",
              "  .colab-df-quickchart-complete:disabled,\n",
              "  .colab-df-quickchart-complete:disabled:hover {\n",
              "    background-color: var(--disabled-bg-color);\n",
              "    fill: var(--disabled-fill-color);\n",
              "    box-shadow: none;\n",
              "  }\n",
              "\n",
              "  .colab-df-spinner {\n",
              "    border: 2px solid var(--fill-color);\n",
              "    border-color: transparent;\n",
              "    border-bottom-color: var(--fill-color);\n",
              "    animation:\n",
              "      spin 1s steps(1) infinite;\n",
              "  }\n",
              "\n",
              "  @keyframes spin {\n",
              "    0% {\n",
              "      border-color: transparent;\n",
              "      border-bottom-color: var(--fill-color);\n",
              "      border-left-color: var(--fill-color);\n",
              "    }\n",
              "    20% {\n",
              "      border-color: transparent;\n",
              "      border-left-color: var(--fill-color);\n",
              "      border-top-color: var(--fill-color);\n",
              "    }\n",
              "    30% {\n",
              "      border-color: transparent;\n",
              "      border-left-color: var(--fill-color);\n",
              "      border-top-color: var(--fill-color);\n",
              "      border-right-color: var(--fill-color);\n",
              "    }\n",
              "    40% {\n",
              "      border-color: transparent;\n",
              "      border-right-color: var(--fill-color);\n",
              "      border-top-color: var(--fill-color);\n",
              "    }\n",
              "    60% {\n",
              "      border-color: transparent;\n",
              "      border-right-color: var(--fill-color);\n",
              "    }\n",
              "    80% {\n",
              "      border-color: transparent;\n",
              "      border-right-color: var(--fill-color);\n",
              "      border-bottom-color: var(--fill-color);\n",
              "    }\n",
              "    90% {\n",
              "      border-color: transparent;\n",
              "      border-bottom-color: var(--fill-color);\n",
              "    }\n",
              "  }\n",
              "</style>\n",
              "\n",
              "  <script>\n",
              "    async function quickchart(key) {\n",
              "      const quickchartButtonEl =\n",
              "        document.querySelector('#' + key + ' button');\n",
              "      quickchartButtonEl.disabled = true;  // To prevent multiple clicks.\n",
              "      quickchartButtonEl.classList.add('colab-df-spinner');\n",
              "      try {\n",
              "        const charts = await google.colab.kernel.invokeFunction(\n",
              "            'suggestCharts', [key], {});\n",
              "      } catch (error) {\n",
              "        console.error('Error during call to suggestCharts:', error);\n",
              "      }\n",
              "      quickchartButtonEl.classList.remove('colab-df-spinner');\n",
              "      quickchartButtonEl.classList.add('colab-df-quickchart-complete');\n",
              "    }\n",
              "    (() => {\n",
              "      let quickchartButtonEl =\n",
              "        document.querySelector('#df-7e6af997-84aa-41d7-9672-fea7ae6088b5 button');\n",
              "      quickchartButtonEl.style.display =\n",
              "        google.colab.kernel.accessAllowed ? 'block' : 'none';\n",
              "    })();\n",
              "  </script>\n",
              "</div>\n",
              "    </div>\n",
              "  </div>\n"
            ]
          },
          "metadata": {},
          "execution_count": 145
        }
      ]
    },
    {
      "cell_type": "code",
      "source": [
        "data.info()"
      ],
      "metadata": {
        "colab": {
          "base_uri": "https://localhost:8080/"
        },
        "id": "GqsK9fSdJ9wA",
        "outputId": "d75f18b6-d2c0-4aaa-c17a-a552ce1c453b"
      },
      "execution_count": null,
      "outputs": [
        {
          "output_type": "stream",
          "name": "stdout",
          "text": [
            "<class 'pandas.core.frame.DataFrame'>\n",
            "RangeIndex: 10000 entries, 0 to 9999\n",
            "Data columns (total 3 columns):\n",
            " #   Column           Non-Null Count  Dtype \n",
            "---  ------           --------------  ----- \n",
            " 0   article_id       10000 non-null  int64 \n",
            " 1   article_topic    10000 non-null  object\n",
            " 2   article_content  9964 non-null   object\n",
            "dtypes: int64(1), object(2)\n",
            "memory usage: 234.5+ KB\n"
          ]
        },
        {
          "output_type": "stream",
          "name": "stderr",
          "text": [
            "/usr/local/lib/python3.10/dist-packages/ipykernel/ipkernel.py:283: DeprecationWarning: `should_run_async` will not call `transform_cell` automatically in the future. Please pass the result to `transformed_cell` argument and any exception that happen during thetransform in `preprocessing_exc_tuple` in IPython 7.17 and above.\n",
            "  and should_run_async(code)\n"
          ]
        }
      ]
    },
    {
      "cell_type": "code",
      "source": [
        "data.describe()"
      ],
      "metadata": {
        "colab": {
          "base_uri": "https://localhost:8080/",
          "height": 357
        },
        "id": "L8_AmK-SJ9yP",
        "outputId": "c50502ff-79ef-494a-8302-668b78f7689a"
      },
      "execution_count": null,
      "outputs": [
        {
          "output_type": "stream",
          "name": "stderr",
          "text": [
            "/usr/local/lib/python3.10/dist-packages/ipykernel/ipkernel.py:283: DeprecationWarning: `should_run_async` will not call `transform_cell` automatically in the future. Please pass the result to `transformed_cell` argument and any exception that happen during thetransform in `preprocessing_exc_tuple` in IPython 7.17 and above.\n",
            "  and should_run_async(code)\n"
          ]
        },
        {
          "output_type": "execute_result",
          "data": {
            "text/plain": [
              "         article_id\n",
              "count  1.000000e+04\n",
              "mean   8.646161e+07\n",
              "std    2.397925e+07\n",
              "min    8.979900e+04\n",
              "25%    9.318827e+07\n",
              "50%    9.320135e+07\n",
              "75%    9.321694e+07\n",
              "max    9.323489e+07"
            ],
            "text/html": [
              "\n",
              "  <div id=\"df-aa90a082-2090-45ff-b850-2fe9366c06d8\" class=\"colab-df-container\">\n",
              "    <div>\n",
              "<style scoped>\n",
              "    .dataframe tbody tr th:only-of-type {\n",
              "        vertical-align: middle;\n",
              "    }\n",
              "\n",
              "    .dataframe tbody tr th {\n",
              "        vertical-align: top;\n",
              "    }\n",
              "\n",
              "    .dataframe thead th {\n",
              "        text-align: right;\n",
              "    }\n",
              "</style>\n",
              "<table border=\"1\" class=\"dataframe\">\n",
              "  <thead>\n",
              "    <tr style=\"text-align: right;\">\n",
              "      <th></th>\n",
              "      <th>article_id</th>\n",
              "    </tr>\n",
              "  </thead>\n",
              "  <tbody>\n",
              "    <tr>\n",
              "      <th>count</th>\n",
              "      <td>1.000000e+04</td>\n",
              "    </tr>\n",
              "    <tr>\n",
              "      <th>mean</th>\n",
              "      <td>8.646161e+07</td>\n",
              "    </tr>\n",
              "    <tr>\n",
              "      <th>std</th>\n",
              "      <td>2.397925e+07</td>\n",
              "    </tr>\n",
              "    <tr>\n",
              "      <th>min</th>\n",
              "      <td>8.979900e+04</td>\n",
              "    </tr>\n",
              "    <tr>\n",
              "      <th>25%</th>\n",
              "      <td>9.318827e+07</td>\n",
              "    </tr>\n",
              "    <tr>\n",
              "      <th>50%</th>\n",
              "      <td>9.320135e+07</td>\n",
              "    </tr>\n",
              "    <tr>\n",
              "      <th>75%</th>\n",
              "      <td>9.321694e+07</td>\n",
              "    </tr>\n",
              "    <tr>\n",
              "      <th>max</th>\n",
              "      <td>9.323489e+07</td>\n",
              "    </tr>\n",
              "  </tbody>\n",
              "</table>\n",
              "</div>\n",
              "    <div class=\"colab-df-buttons\">\n",
              "\n",
              "  <div class=\"colab-df-container\">\n",
              "    <button class=\"colab-df-convert\" onclick=\"convertToInteractive('df-aa90a082-2090-45ff-b850-2fe9366c06d8')\"\n",
              "            title=\"Convert this dataframe to an interactive table.\"\n",
              "            style=\"display:none;\">\n",
              "\n",
              "  <svg xmlns=\"http://www.w3.org/2000/svg\" height=\"24px\" viewBox=\"0 -960 960 960\">\n",
              "    <path d=\"M120-120v-720h720v720H120Zm60-500h600v-160H180v160Zm220 220h160v-160H400v160Zm0 220h160v-160H400v160ZM180-400h160v-160H180v160Zm440 0h160v-160H620v160ZM180-180h160v-160H180v160Zm440 0h160v-160H620v160Z\"/>\n",
              "  </svg>\n",
              "    </button>\n",
              "\n",
              "  <style>\n",
              "    .colab-df-container {\n",
              "      display:flex;\n",
              "      gap: 12px;\n",
              "    }\n",
              "\n",
              "    .colab-df-convert {\n",
              "      background-color: #E8F0FE;\n",
              "      border: none;\n",
              "      border-radius: 50%;\n",
              "      cursor: pointer;\n",
              "      display: none;\n",
              "      fill: #1967D2;\n",
              "      height: 32px;\n",
              "      padding: 0 0 0 0;\n",
              "      width: 32px;\n",
              "    }\n",
              "\n",
              "    .colab-df-convert:hover {\n",
              "      background-color: #E2EBFA;\n",
              "      box-shadow: 0px 1px 2px rgba(60, 64, 67, 0.3), 0px 1px 3px 1px rgba(60, 64, 67, 0.15);\n",
              "      fill: #174EA6;\n",
              "    }\n",
              "\n",
              "    .colab-df-buttons div {\n",
              "      margin-bottom: 4px;\n",
              "    }\n",
              "\n",
              "    [theme=dark] .colab-df-convert {\n",
              "      background-color: #3B4455;\n",
              "      fill: #D2E3FC;\n",
              "    }\n",
              "\n",
              "    [theme=dark] .colab-df-convert:hover {\n",
              "      background-color: #434B5C;\n",
              "      box-shadow: 0px 1px 3px 1px rgba(0, 0, 0, 0.15);\n",
              "      filter: drop-shadow(0px 1px 2px rgba(0, 0, 0, 0.3));\n",
              "      fill: #FFFFFF;\n",
              "    }\n",
              "  </style>\n",
              "\n",
              "    <script>\n",
              "      const buttonEl =\n",
              "        document.querySelector('#df-aa90a082-2090-45ff-b850-2fe9366c06d8 button.colab-df-convert');\n",
              "      buttonEl.style.display =\n",
              "        google.colab.kernel.accessAllowed ? 'block' : 'none';\n",
              "\n",
              "      async function convertToInteractive(key) {\n",
              "        const element = document.querySelector('#df-aa90a082-2090-45ff-b850-2fe9366c06d8');\n",
              "        const dataTable =\n",
              "          await google.colab.kernel.invokeFunction('convertToInteractive',\n",
              "                                                    [key], {});\n",
              "        if (!dataTable) return;\n",
              "\n",
              "        const docLinkHtml = 'Like what you see? Visit the ' +\n",
              "          '<a target=\"_blank\" href=https://colab.research.google.com/notebooks/data_table.ipynb>data table notebook</a>'\n",
              "          + ' to learn more about interactive tables.';\n",
              "        element.innerHTML = '';\n",
              "        dataTable['output_type'] = 'display_data';\n",
              "        await google.colab.output.renderOutput(dataTable, element);\n",
              "        const docLink = document.createElement('div');\n",
              "        docLink.innerHTML = docLinkHtml;\n",
              "        element.appendChild(docLink);\n",
              "      }\n",
              "    </script>\n",
              "  </div>\n",
              "\n",
              "\n",
              "<div id=\"df-570d4667-4cdf-48e6-992b-f26afb3409db\">\n",
              "  <button class=\"colab-df-quickchart\" onclick=\"quickchart('df-570d4667-4cdf-48e6-992b-f26afb3409db')\"\n",
              "            title=\"Suggest charts\"\n",
              "            style=\"display:none;\">\n",
              "\n",
              "<svg xmlns=\"http://www.w3.org/2000/svg\" height=\"24px\"viewBox=\"0 0 24 24\"\n",
              "     width=\"24px\">\n",
              "    <g>\n",
              "        <path d=\"M19 3H5c-1.1 0-2 .9-2 2v14c0 1.1.9 2 2 2h14c1.1 0 2-.9 2-2V5c0-1.1-.9-2-2-2zM9 17H7v-7h2v7zm4 0h-2V7h2v10zm4 0h-2v-4h2v4z\"/>\n",
              "    </g>\n",
              "</svg>\n",
              "  </button>\n",
              "\n",
              "<style>\n",
              "  .colab-df-quickchart {\n",
              "      --bg-color: #E8F0FE;\n",
              "      --fill-color: #1967D2;\n",
              "      --hover-bg-color: #E2EBFA;\n",
              "      --hover-fill-color: #174EA6;\n",
              "      --disabled-fill-color: #AAA;\n",
              "      --disabled-bg-color: #DDD;\n",
              "  }\n",
              "\n",
              "  [theme=dark] .colab-df-quickchart {\n",
              "      --bg-color: #3B4455;\n",
              "      --fill-color: #D2E3FC;\n",
              "      --hover-bg-color: #434B5C;\n",
              "      --hover-fill-color: #FFFFFF;\n",
              "      --disabled-bg-color: #3B4455;\n",
              "      --disabled-fill-color: #666;\n",
              "  }\n",
              "\n",
              "  .colab-df-quickchart {\n",
              "    background-color: var(--bg-color);\n",
              "    border: none;\n",
              "    border-radius: 50%;\n",
              "    cursor: pointer;\n",
              "    display: none;\n",
              "    fill: var(--fill-color);\n",
              "    height: 32px;\n",
              "    padding: 0;\n",
              "    width: 32px;\n",
              "  }\n",
              "\n",
              "  .colab-df-quickchart:hover {\n",
              "    background-color: var(--hover-bg-color);\n",
              "    box-shadow: 0 1px 2px rgba(60, 64, 67, 0.3), 0 1px 3px 1px rgba(60, 64, 67, 0.15);\n",
              "    fill: var(--button-hover-fill-color);\n",
              "  }\n",
              "\n",
              "  .colab-df-quickchart-complete:disabled,\n",
              "  .colab-df-quickchart-complete:disabled:hover {\n",
              "    background-color: var(--disabled-bg-color);\n",
              "    fill: var(--disabled-fill-color);\n",
              "    box-shadow: none;\n",
              "  }\n",
              "\n",
              "  .colab-df-spinner {\n",
              "    border: 2px solid var(--fill-color);\n",
              "    border-color: transparent;\n",
              "    border-bottom-color: var(--fill-color);\n",
              "    animation:\n",
              "      spin 1s steps(1) infinite;\n",
              "  }\n",
              "\n",
              "  @keyframes spin {\n",
              "    0% {\n",
              "      border-color: transparent;\n",
              "      border-bottom-color: var(--fill-color);\n",
              "      border-left-color: var(--fill-color);\n",
              "    }\n",
              "    20% {\n",
              "      border-color: transparent;\n",
              "      border-left-color: var(--fill-color);\n",
              "      border-top-color: var(--fill-color);\n",
              "    }\n",
              "    30% {\n",
              "      border-color: transparent;\n",
              "      border-left-color: var(--fill-color);\n",
              "      border-top-color: var(--fill-color);\n",
              "      border-right-color: var(--fill-color);\n",
              "    }\n",
              "    40% {\n",
              "      border-color: transparent;\n",
              "      border-right-color: var(--fill-color);\n",
              "      border-top-color: var(--fill-color);\n",
              "    }\n",
              "    60% {\n",
              "      border-color: transparent;\n",
              "      border-right-color: var(--fill-color);\n",
              "    }\n",
              "    80% {\n",
              "      border-color: transparent;\n",
              "      border-right-color: var(--fill-color);\n",
              "      border-bottom-color: var(--fill-color);\n",
              "    }\n",
              "    90% {\n",
              "      border-color: transparent;\n",
              "      border-bottom-color: var(--fill-color);\n",
              "    }\n",
              "  }\n",
              "</style>\n",
              "\n",
              "  <script>\n",
              "    async function quickchart(key) {\n",
              "      const quickchartButtonEl =\n",
              "        document.querySelector('#' + key + ' button');\n",
              "      quickchartButtonEl.disabled = true;  // To prevent multiple clicks.\n",
              "      quickchartButtonEl.classList.add('colab-df-spinner');\n",
              "      try {\n",
              "        const charts = await google.colab.kernel.invokeFunction(\n",
              "            'suggestCharts', [key], {});\n",
              "      } catch (error) {\n",
              "        console.error('Error during call to suggestCharts:', error);\n",
              "      }\n",
              "      quickchartButtonEl.classList.remove('colab-df-spinner');\n",
              "      quickchartButtonEl.classList.add('colab-df-quickchart-complete');\n",
              "    }\n",
              "    (() => {\n",
              "      let quickchartButtonEl =\n",
              "        document.querySelector('#df-570d4667-4cdf-48e6-992b-f26afb3409db button');\n",
              "      quickchartButtonEl.style.display =\n",
              "        google.colab.kernel.accessAllowed ? 'block' : 'none';\n",
              "    })();\n",
              "  </script>\n",
              "</div>\n",
              "    </div>\n",
              "  </div>\n"
            ]
          },
          "metadata": {},
          "execution_count": 147
        }
      ]
    },
    {
      "cell_type": "code",
      "source": [
        "data.shape"
      ],
      "metadata": {
        "colab": {
          "base_uri": "https://localhost:8080/"
        },
        "id": "gjbJE84_J903",
        "outputId": "d9984698-67aa-41da-f579-4a200a9c95c5"
      },
      "execution_count": null,
      "outputs": [
        {
          "output_type": "stream",
          "name": "stderr",
          "text": [
            "/usr/local/lib/python3.10/dist-packages/ipykernel/ipkernel.py:283: DeprecationWarning: `should_run_async` will not call `transform_cell` automatically in the future. Please pass the result to `transformed_cell` argument and any exception that happen during thetransform in `preprocessing_exc_tuple` in IPython 7.17 and above.\n",
            "  and should_run_async(code)\n"
          ]
        },
        {
          "output_type": "execute_result",
          "data": {
            "text/plain": [
              "(10000, 3)"
            ]
          },
          "metadata": {},
          "execution_count": 148
        }
      ]
    },
    {
      "cell_type": "code",
      "source": [
        "data.isnull().sum()"
      ],
      "metadata": {
        "colab": {
          "base_uri": "https://localhost:8080/"
        },
        "id": "p7J2CyXjJ93S",
        "outputId": "46799333-7792-4978-d97a-7e95f28a9784"
      },
      "execution_count": null,
      "outputs": [
        {
          "output_type": "stream",
          "name": "stderr",
          "text": [
            "/usr/local/lib/python3.10/dist-packages/ipykernel/ipkernel.py:283: DeprecationWarning: `should_run_async` will not call `transform_cell` automatically in the future. Please pass the result to `transformed_cell` argument and any exception that happen during thetransform in `preprocessing_exc_tuple` in IPython 7.17 and above.\n",
            "  and should_run_async(code)\n"
          ]
        },
        {
          "output_type": "execute_result",
          "data": {
            "text/plain": [
              "article_id          0\n",
              "article_topic       0\n",
              "article_content    36\n",
              "dtype: int64"
            ]
          },
          "metadata": {},
          "execution_count": 149
        }
      ]
    },
    {
      "cell_type": "code",
      "source": [
        "data =data.dropna()"
      ],
      "metadata": {
        "id": "-J476_V7J95X",
        "colab": {
          "base_uri": "https://localhost:8080/"
        },
        "outputId": "74793b62-ef16-4523-d0a2-e95ec19e00ff"
      },
      "execution_count": null,
      "outputs": [
        {
          "output_type": "stream",
          "name": "stderr",
          "text": [
            "/usr/local/lib/python3.10/dist-packages/ipykernel/ipkernel.py:283: DeprecationWarning: `should_run_async` will not call `transform_cell` automatically in the future. Please pass the result to `transformed_cell` argument and any exception that happen during thetransform in `preprocessing_exc_tuple` in IPython 7.17 and above.\n",
            "  and should_run_async(code)\n"
          ]
        }
      ]
    },
    {
      "cell_type": "code",
      "source": [
        "data.isnull().sum()"
      ],
      "metadata": {
        "colab": {
          "base_uri": "https://localhost:8080/"
        },
        "id": "SdopJ-MaJ97t",
        "outputId": "7f82d6b9-ed87-4531-e99a-27cfdc0d82a4"
      },
      "execution_count": null,
      "outputs": [
        {
          "output_type": "stream",
          "name": "stderr",
          "text": [
            "/usr/local/lib/python3.10/dist-packages/ipykernel/ipkernel.py:283: DeprecationWarning: `should_run_async` will not call `transform_cell` automatically in the future. Please pass the result to `transformed_cell` argument and any exception that happen during thetransform in `preprocessing_exc_tuple` in IPython 7.17 and above.\n",
            "  and should_run_async(code)\n"
          ]
        },
        {
          "output_type": "execute_result",
          "data": {
            "text/plain": [
              "article_id         0\n",
              "article_topic      0\n",
              "article_content    0\n",
              "dtype: int64"
            ]
          },
          "metadata": {},
          "execution_count": 151
        }
      ]
    },
    {
      "cell_type": "code",
      "source": [
        "import nltk\n",
        "nltk.download('stopwords')\n",
        "nltk.download('punkt')\n"
      ],
      "metadata": {
        "colab": {
          "base_uri": "https://localhost:8080/"
        },
        "id": "glGaC57mNcfN",
        "outputId": "76cc709e-78f1-4221-c0ed-3d905a8ab612"
      },
      "execution_count": null,
      "outputs": [
        {
          "output_type": "stream",
          "name": "stderr",
          "text": [
            "/usr/local/lib/python3.10/dist-packages/ipykernel/ipkernel.py:283: DeprecationWarning: `should_run_async` will not call `transform_cell` automatically in the future. Please pass the result to `transformed_cell` argument and any exception that happen during thetransform in `preprocessing_exc_tuple` in IPython 7.17 and above.\n",
            "  and should_run_async(code)\n",
            "[nltk_data] Downloading package stopwords to /root/nltk_data...\n",
            "[nltk_data]   Package stopwords is already up-to-date!\n",
            "[nltk_data] Downloading package punkt to /root/nltk_data...\n",
            "[nltk_data]   Package punkt is already up-to-date!\n"
          ]
        },
        {
          "output_type": "execute_result",
          "data": {
            "text/plain": [
              "True"
            ]
          },
          "metadata": {},
          "execution_count": 152
        }
      ]
    },
    {
      "cell_type": "code",
      "source": [
        "import pandas as pd\n",
        "import re\n",
        "from nltk.corpus import stopwords\n",
        "from nltk.tokenize import word_tokenize\n",
        "\n",
        "# Fungsi untuk membersihkan teks\n",
        "def clean_text(text):\n",
        "    text = re.sub(r'\\d+', '', text)  # Menghapus angka\n",
        "    text = re.sub(r'[^\\w\\s]', '', text)  # Menghapus karakter khusus\n",
        "    text = text.lower()  # Mengubah teks menjadi huruf kecil\n",
        "    return text\n",
        "\n",
        "# Fungsi untuk menghilangkan stop words\n",
        "def remove_stopwords(text):\n",
        "    stop_words = set(stopwords.words('indonesian'))\n",
        "    words = word_tokenize(text)\n",
        "    filtered_words = [word for word in words if word.lower() not in stop_words]\n",
        "    return ' '.join(filtered_words)\n"
      ],
      "metadata": {
        "id": "FCpLp8dQJ99_",
        "colab": {
          "base_uri": "https://localhost:8080/"
        },
        "outputId": "5903a5a4-4095-42bf-a030-59bd1cb28dd8"
      },
      "execution_count": null,
      "outputs": [
        {
          "output_type": "stream",
          "name": "stderr",
          "text": [
            "/usr/local/lib/python3.10/dist-packages/ipykernel/ipkernel.py:283: DeprecationWarning: `should_run_async` will not call `transform_cell` automatically in the future. Please pass the result to `transformed_cell` argument and any exception that happen during thetransform in `preprocessing_exc_tuple` in IPython 7.17 and above.\n",
            "  and should_run_async(code)\n"
          ]
        }
      ]
    },
    {
      "cell_type": "code",
      "source": [
        "# Membersihkan dan menghilangkan stop words pada kolom 'article_content'\n",
        "data['cleaned_content'] = data['article_content'].apply(clean_text)\n",
        "data['final_content'] = data['cleaned_content'].apply(remove_stopwords)\n",
        "# Menyimpan data yang sudah di-preprocess ke dalam file CSV baru\n",
        "data.to_csv('data_preprocessed.csv', index=False)\n"
      ],
      "metadata": {
        "colab": {
          "base_uri": "https://localhost:8080/"
        },
        "id": "rcpcKmTFJ-AR",
        "outputId": "345751cc-dda8-4e10-debf-b92cd1ab283f"
      },
      "execution_count": null,
      "outputs": [
        {
          "output_type": "stream",
          "name": "stderr",
          "text": [
            "/usr/local/lib/python3.10/dist-packages/ipykernel/ipkernel.py:283: DeprecationWarning: `should_run_async` will not call `transform_cell` automatically in the future. Please pass the result to `transformed_cell` argument and any exception that happen during thetransform in `preprocessing_exc_tuple` in IPython 7.17 and above.\n",
            "  and should_run_async(code)\n",
            "<ipython-input-154-596107de35b8>:2: SettingWithCopyWarning: \n",
            "A value is trying to be set on a copy of a slice from a DataFrame.\n",
            "Try using .loc[row_indexer,col_indexer] = value instead\n",
            "\n",
            "See the caveats in the documentation: https://pandas.pydata.org/pandas-docs/stable/user_guide/indexing.html#returning-a-view-versus-a-copy\n",
            "  data['cleaned_content'] = data['article_content'].apply(clean_text)\n",
            "<ipython-input-154-596107de35b8>:3: SettingWithCopyWarning: \n",
            "A value is trying to be set on a copy of a slice from a DataFrame.\n",
            "Try using .loc[row_indexer,col_indexer] = value instead\n",
            "\n",
            "See the caveats in the documentation: https://pandas.pydata.org/pandas-docs/stable/user_guide/indexing.html#returning-a-view-versus-a-copy\n",
            "  data['final_content'] = data['cleaned_content'].apply(remove_stopwords)\n"
          ]
        }
      ]
    },
    {
      "cell_type": "code",
      "source": [
        "data.head(5)"
      ],
      "metadata": {
        "colab": {
          "base_uri": "https://localhost:8080/",
          "height": 575
        },
        "id": "p9eKUbaVM8MB",
        "outputId": "e982dff8-fc47-4f6b-fc32-87232544d3ea"
      },
      "execution_count": null,
      "outputs": [
        {
          "output_type": "stream",
          "name": "stderr",
          "text": [
            "/usr/local/lib/python3.10/dist-packages/ipykernel/ipkernel.py:283: DeprecationWarning: `should_run_async` will not call `transform_cell` automatically in the future. Please pass the result to `transformed_cell` argument and any exception that happen during thetransform in `preprocessing_exc_tuple` in IPython 7.17 and above.\n",
            "  and should_run_async(code)\n"
          ]
        },
        {
          "output_type": "execute_result",
          "data": {
            "text/plain": [
              "   article_id  article_topic  \\\n",
              "0    93205794  Internasional   \n",
              "1    93186698        Ekonomi   \n",
              "2    93191463      Teknologi   \n",
              "3    93219292        Ekonomi   \n",
              "4      343106        Hiburan   \n",
              "\n",
              "                                     article_content  \\\n",
              "0   Kepolisian Inggris tengah memburu pelaku yang...   \n",
              "1   Seluruh layanan transaksi di jalan tol akan m...   \n",
              "2   \\nHari ini, Rabu (23/8), ternyata menjadi har...   \n",
              "3   Saat ini Indonesia hanya memiliki cadangan ba...   \n",
              "4   Hari ini, Selasa (1/8), pedangdut Ridho Rhoma...   \n",
              "\n",
              "                                     cleaned_content  \\\n",
              "0   kepolisian inggris tengah memburu pelaku yang...   \n",
              "1   seluruh layanan transaksi di jalan tol akan m...   \n",
              "2   \\nhari ini rabu  ternyata menjadi hari yang s...   \n",
              "3   saat ini indonesia hanya memiliki cadangan ba...   \n",
              "4   hari ini selasa  pedangdut ridho rhoma kembal...   \n",
              "\n",
              "                                       final_content  \n",
              "0  kepolisian inggris memburu pelaku meledakkan b...  \n",
              "1  layanan transaksi jalan tol sistem nontunai ok...  \n",
              "2  rabu spesial tagar hashtag agustus menandai pa...  \n",
              "3  indonesia memiliki cadangan bahan bakar minyak...  \n",
              "4  selasa pedangdut ridho rhoma menjalani sidang ...  "
            ],
            "text/html": [
              "\n",
              "  <div id=\"df-6d59c356-3c17-4120-bf33-b1499978c9b3\" class=\"colab-df-container\">\n",
              "    <div>\n",
              "<style scoped>\n",
              "    .dataframe tbody tr th:only-of-type {\n",
              "        vertical-align: middle;\n",
              "    }\n",
              "\n",
              "    .dataframe tbody tr th {\n",
              "        vertical-align: top;\n",
              "    }\n",
              "\n",
              "    .dataframe thead th {\n",
              "        text-align: right;\n",
              "    }\n",
              "</style>\n",
              "<table border=\"1\" class=\"dataframe\">\n",
              "  <thead>\n",
              "    <tr style=\"text-align: right;\">\n",
              "      <th></th>\n",
              "      <th>article_id</th>\n",
              "      <th>article_topic</th>\n",
              "      <th>article_content</th>\n",
              "      <th>cleaned_content</th>\n",
              "      <th>final_content</th>\n",
              "    </tr>\n",
              "  </thead>\n",
              "  <tbody>\n",
              "    <tr>\n",
              "      <th>0</th>\n",
              "      <td>93205794</td>\n",
              "      <td>Internasional</td>\n",
              "      <td>Kepolisian Inggris tengah memburu pelaku yang...</td>\n",
              "      <td>kepolisian inggris tengah memburu pelaku yang...</td>\n",
              "      <td>kepolisian inggris memburu pelaku meledakkan b...</td>\n",
              "    </tr>\n",
              "    <tr>\n",
              "      <th>1</th>\n",
              "      <td>93186698</td>\n",
              "      <td>Ekonomi</td>\n",
              "      <td>Seluruh layanan transaksi di jalan tol akan m...</td>\n",
              "      <td>seluruh layanan transaksi di jalan tol akan m...</td>\n",
              "      <td>layanan transaksi jalan tol sistem nontunai ok...</td>\n",
              "    </tr>\n",
              "    <tr>\n",
              "      <th>2</th>\n",
              "      <td>93191463</td>\n",
              "      <td>Teknologi</td>\n",
              "      <td>\\nHari ini, Rabu (23/8), ternyata menjadi har...</td>\n",
              "      <td>\\nhari ini rabu  ternyata menjadi hari yang s...</td>\n",
              "      <td>rabu spesial tagar hashtag agustus menandai pa...</td>\n",
              "    </tr>\n",
              "    <tr>\n",
              "      <th>3</th>\n",
              "      <td>93219292</td>\n",
              "      <td>Ekonomi</td>\n",
              "      <td>Saat ini Indonesia hanya memiliki cadangan ba...</td>\n",
              "      <td>saat ini indonesia hanya memiliki cadangan ba...</td>\n",
              "      <td>indonesia memiliki cadangan bahan bakar minyak...</td>\n",
              "    </tr>\n",
              "    <tr>\n",
              "      <th>4</th>\n",
              "      <td>343106</td>\n",
              "      <td>Hiburan</td>\n",
              "      <td>Hari ini, Selasa (1/8), pedangdut Ridho Rhoma...</td>\n",
              "      <td>hari ini selasa  pedangdut ridho rhoma kembal...</td>\n",
              "      <td>selasa pedangdut ridho rhoma menjalani sidang ...</td>\n",
              "    </tr>\n",
              "  </tbody>\n",
              "</table>\n",
              "</div>\n",
              "    <div class=\"colab-df-buttons\">\n",
              "\n",
              "  <div class=\"colab-df-container\">\n",
              "    <button class=\"colab-df-convert\" onclick=\"convertToInteractive('df-6d59c356-3c17-4120-bf33-b1499978c9b3')\"\n",
              "            title=\"Convert this dataframe to an interactive table.\"\n",
              "            style=\"display:none;\">\n",
              "\n",
              "  <svg xmlns=\"http://www.w3.org/2000/svg\" height=\"24px\" viewBox=\"0 -960 960 960\">\n",
              "    <path d=\"M120-120v-720h720v720H120Zm60-500h600v-160H180v160Zm220 220h160v-160H400v160Zm0 220h160v-160H400v160ZM180-400h160v-160H180v160Zm440 0h160v-160H620v160ZM180-180h160v-160H180v160Zm440 0h160v-160H620v160Z\"/>\n",
              "  </svg>\n",
              "    </button>\n",
              "\n",
              "  <style>\n",
              "    .colab-df-container {\n",
              "      display:flex;\n",
              "      gap: 12px;\n",
              "    }\n",
              "\n",
              "    .colab-df-convert {\n",
              "      background-color: #E8F0FE;\n",
              "      border: none;\n",
              "      border-radius: 50%;\n",
              "      cursor: pointer;\n",
              "      display: none;\n",
              "      fill: #1967D2;\n",
              "      height: 32px;\n",
              "      padding: 0 0 0 0;\n",
              "      width: 32px;\n",
              "    }\n",
              "\n",
              "    .colab-df-convert:hover {\n",
              "      background-color: #E2EBFA;\n",
              "      box-shadow: 0px 1px 2px rgba(60, 64, 67, 0.3), 0px 1px 3px 1px rgba(60, 64, 67, 0.15);\n",
              "      fill: #174EA6;\n",
              "    }\n",
              "\n",
              "    .colab-df-buttons div {\n",
              "      margin-bottom: 4px;\n",
              "    }\n",
              "\n",
              "    [theme=dark] .colab-df-convert {\n",
              "      background-color: #3B4455;\n",
              "      fill: #D2E3FC;\n",
              "    }\n",
              "\n",
              "    [theme=dark] .colab-df-convert:hover {\n",
              "      background-color: #434B5C;\n",
              "      box-shadow: 0px 1px 3px 1px rgba(0, 0, 0, 0.15);\n",
              "      filter: drop-shadow(0px 1px 2px rgba(0, 0, 0, 0.3));\n",
              "      fill: #FFFFFF;\n",
              "    }\n",
              "  </style>\n",
              "\n",
              "    <script>\n",
              "      const buttonEl =\n",
              "        document.querySelector('#df-6d59c356-3c17-4120-bf33-b1499978c9b3 button.colab-df-convert');\n",
              "      buttonEl.style.display =\n",
              "        google.colab.kernel.accessAllowed ? 'block' : 'none';\n",
              "\n",
              "      async function convertToInteractive(key) {\n",
              "        const element = document.querySelector('#df-6d59c356-3c17-4120-bf33-b1499978c9b3');\n",
              "        const dataTable =\n",
              "          await google.colab.kernel.invokeFunction('convertToInteractive',\n",
              "                                                    [key], {});\n",
              "        if (!dataTable) return;\n",
              "\n",
              "        const docLinkHtml = 'Like what you see? Visit the ' +\n",
              "          '<a target=\"_blank\" href=https://colab.research.google.com/notebooks/data_table.ipynb>data table notebook</a>'\n",
              "          + ' to learn more about interactive tables.';\n",
              "        element.innerHTML = '';\n",
              "        dataTable['output_type'] = 'display_data';\n",
              "        await google.colab.output.renderOutput(dataTable, element);\n",
              "        const docLink = document.createElement('div');\n",
              "        docLink.innerHTML = docLinkHtml;\n",
              "        element.appendChild(docLink);\n",
              "      }\n",
              "    </script>\n",
              "  </div>\n",
              "\n",
              "\n",
              "<div id=\"df-2903af13-0666-475a-b6f4-41e87f0a1c27\">\n",
              "  <button class=\"colab-df-quickchart\" onclick=\"quickchart('df-2903af13-0666-475a-b6f4-41e87f0a1c27')\"\n",
              "            title=\"Suggest charts\"\n",
              "            style=\"display:none;\">\n",
              "\n",
              "<svg xmlns=\"http://www.w3.org/2000/svg\" height=\"24px\"viewBox=\"0 0 24 24\"\n",
              "     width=\"24px\">\n",
              "    <g>\n",
              "        <path d=\"M19 3H5c-1.1 0-2 .9-2 2v14c0 1.1.9 2 2 2h14c1.1 0 2-.9 2-2V5c0-1.1-.9-2-2-2zM9 17H7v-7h2v7zm4 0h-2V7h2v10zm4 0h-2v-4h2v4z\"/>\n",
              "    </g>\n",
              "</svg>\n",
              "  </button>\n",
              "\n",
              "<style>\n",
              "  .colab-df-quickchart {\n",
              "      --bg-color: #E8F0FE;\n",
              "      --fill-color: #1967D2;\n",
              "      --hover-bg-color: #E2EBFA;\n",
              "      --hover-fill-color: #174EA6;\n",
              "      --disabled-fill-color: #AAA;\n",
              "      --disabled-bg-color: #DDD;\n",
              "  }\n",
              "\n",
              "  [theme=dark] .colab-df-quickchart {\n",
              "      --bg-color: #3B4455;\n",
              "      --fill-color: #D2E3FC;\n",
              "      --hover-bg-color: #434B5C;\n",
              "      --hover-fill-color: #FFFFFF;\n",
              "      --disabled-bg-color: #3B4455;\n",
              "      --disabled-fill-color: #666;\n",
              "  }\n",
              "\n",
              "  .colab-df-quickchart {\n",
              "    background-color: var(--bg-color);\n",
              "    border: none;\n",
              "    border-radius: 50%;\n",
              "    cursor: pointer;\n",
              "    display: none;\n",
              "    fill: var(--fill-color);\n",
              "    height: 32px;\n",
              "    padding: 0;\n",
              "    width: 32px;\n",
              "  }\n",
              "\n",
              "  .colab-df-quickchart:hover {\n",
              "    background-color: var(--hover-bg-color);\n",
              "    box-shadow: 0 1px 2px rgba(60, 64, 67, 0.3), 0 1px 3px 1px rgba(60, 64, 67, 0.15);\n",
              "    fill: var(--button-hover-fill-color);\n",
              "  }\n",
              "\n",
              "  .colab-df-quickchart-complete:disabled,\n",
              "  .colab-df-quickchart-complete:disabled:hover {\n",
              "    background-color: var(--disabled-bg-color);\n",
              "    fill: var(--disabled-fill-color);\n",
              "    box-shadow: none;\n",
              "  }\n",
              "\n",
              "  .colab-df-spinner {\n",
              "    border: 2px solid var(--fill-color);\n",
              "    border-color: transparent;\n",
              "    border-bottom-color: var(--fill-color);\n",
              "    animation:\n",
              "      spin 1s steps(1) infinite;\n",
              "  }\n",
              "\n",
              "  @keyframes spin {\n",
              "    0% {\n",
              "      border-color: transparent;\n",
              "      border-bottom-color: var(--fill-color);\n",
              "      border-left-color: var(--fill-color);\n",
              "    }\n",
              "    20% {\n",
              "      border-color: transparent;\n",
              "      border-left-color: var(--fill-color);\n",
              "      border-top-color: var(--fill-color);\n",
              "    }\n",
              "    30% {\n",
              "      border-color: transparent;\n",
              "      border-left-color: var(--fill-color);\n",
              "      border-top-color: var(--fill-color);\n",
              "      border-right-color: var(--fill-color);\n",
              "    }\n",
              "    40% {\n",
              "      border-color: transparent;\n",
              "      border-right-color: var(--fill-color);\n",
              "      border-top-color: var(--fill-color);\n",
              "    }\n",
              "    60% {\n",
              "      border-color: transparent;\n",
              "      border-right-color: var(--fill-color);\n",
              "    }\n",
              "    80% {\n",
              "      border-color: transparent;\n",
              "      border-right-color: var(--fill-color);\n",
              "      border-bottom-color: var(--fill-color);\n",
              "    }\n",
              "    90% {\n",
              "      border-color: transparent;\n",
              "      border-bottom-color: var(--fill-color);\n",
              "    }\n",
              "  }\n",
              "</style>\n",
              "\n",
              "  <script>\n",
              "    async function quickchart(key) {\n",
              "      const quickchartButtonEl =\n",
              "        document.querySelector('#' + key + ' button');\n",
              "      quickchartButtonEl.disabled = true;  // To prevent multiple clicks.\n",
              "      quickchartButtonEl.classList.add('colab-df-spinner');\n",
              "      try {\n",
              "        const charts = await google.colab.kernel.invokeFunction(\n",
              "            'suggestCharts', [key], {});\n",
              "      } catch (error) {\n",
              "        console.error('Error during call to suggestCharts:', error);\n",
              "      }\n",
              "      quickchartButtonEl.classList.remove('colab-df-spinner');\n",
              "      quickchartButtonEl.classList.add('colab-df-quickchart-complete');\n",
              "    }\n",
              "    (() => {\n",
              "      let quickchartButtonEl =\n",
              "        document.querySelector('#df-2903af13-0666-475a-b6f4-41e87f0a1c27 button');\n",
              "      quickchartButtonEl.style.display =\n",
              "        google.colab.kernel.accessAllowed ? 'block' : 'none';\n",
              "    })();\n",
              "  </script>\n",
              "</div>\n",
              "    </div>\n",
              "  </div>\n"
            ]
          },
          "metadata": {},
          "execution_count": 155
        }
      ]
    },
    {
      "cell_type": "code",
      "source": [
        "# Mencetak jumlah nilai unik di dalam kolom 'article_topic'\n",
        "unique_categories = data['article_topic'].nunique()\n",
        "unique_categories\n"
      ],
      "metadata": {
        "colab": {
          "base_uri": "https://localhost:8080/"
        },
        "id": "s0PGrJ9NM8Of",
        "outputId": "591c4695-9594-4101-85dc-1832ee0582fb"
      },
      "execution_count": null,
      "outputs": [
        {
          "output_type": "stream",
          "name": "stderr",
          "text": [
            "/usr/local/lib/python3.10/dist-packages/ipykernel/ipkernel.py:283: DeprecationWarning: `should_run_async` will not call `transform_cell` automatically in the future. Please pass the result to `transformed_cell` argument and any exception that happen during thetransform in `preprocessing_exc_tuple` in IPython 7.17 and above.\n",
            "  and should_run_async(code)\n"
          ]
        },
        {
          "output_type": "execute_result",
          "data": {
            "text/plain": [
              "29"
            ]
          },
          "metadata": {},
          "execution_count": 156
        }
      ]
    },
    {
      "cell_type": "code",
      "source": [
        "# Mencetak daftar nilai unik di dalam kolom 'article_topic'\n",
        "unique_category_list = data['article_topic'].unique()\n",
        "unique_category_list"
      ],
      "metadata": {
        "colab": {
          "base_uri": "https://localhost:8080/"
        },
        "id": "tWw9wBM7M8Qm",
        "outputId": "d5f6562c-2233-45ef-ee37-367581405e0e"
      },
      "execution_count": null,
      "outputs": [
        {
          "output_type": "stream",
          "name": "stderr",
          "text": [
            "/usr/local/lib/python3.10/dist-packages/ipykernel/ipkernel.py:283: DeprecationWarning: `should_run_async` will not call `transform_cell` automatically in the future. Please pass the result to `transformed_cell` argument and any exception that happen during thetransform in `preprocessing_exc_tuple` in IPython 7.17 and above.\n",
            "  and should_run_async(code)\n"
          ]
        },
        {
          "output_type": "execute_result",
          "data": {
            "text/plain": [
              "array(['Internasional', 'Ekonomi', 'Teknologi', 'Hiburan', 'Haji',\n",
              "       'Travel', 'Personal', 'Sepak Bola', 'Health', 'Sports', 'Politik',\n",
              "       'Otomotif', 'KPK', 'Lifestyle', 'Keuangan', 'Sejarah', 'Regional',\n",
              "       'Pendidikan', 'Hukum', 'Obat-obatan', 'Bojonegoro', 'Kesehatan',\n",
              "       'Horor', 'Bisnis', 'MotoGP', 'Sains', 'Jakarta', 'Pilgub Jatim',\n",
              "       'K-Pop'], dtype=object)"
            ]
          },
          "metadata": {},
          "execution_count": 157
        }
      ]
    },
    {
      "cell_type": "markdown",
      "source": [
        "# Tokenizing\n",
        "Menghapus Karakter - karakter yang tidak penting"
      ],
      "metadata": {
        "id": "ZzT-gX3jgBo6"
      }
    },
    {
      "cell_type": "code",
      "source": [
        "import string\n",
        "import re  # regex library\n",
        "\n",
        "# import word_tokenize & FreqDist from NLTK\n",
        "from nltk.tokenize import word_tokenize\n",
        "from nltk.probability import FreqDist\n"
      ],
      "metadata": {
        "id": "2bIu8DzsM8TJ",
        "colab": {
          "base_uri": "https://localhost:8080/"
        },
        "outputId": "3fcf2877-79e0-420c-b0dd-5c235df6241f"
      },
      "execution_count": null,
      "outputs": [
        {
          "output_type": "stream",
          "name": "stderr",
          "text": [
            "/usr/local/lib/python3.10/dist-packages/ipykernel/ipkernel.py:283: DeprecationWarning: `should_run_async` will not call `transform_cell` automatically in the future. Please pass the result to `transformed_cell` argument and any exception that happen during thetransform in `preprocessing_exc_tuple` in IPython 7.17 and above.\n",
            "  and should_run_async(code)\n"
          ]
        }
      ]
    },
    {
      "cell_type": "code",
      "source": [
        "# ------ Case Folding --------\n",
        "# gunakan fungsi Series.str.lower() pada Pandas\n",
        "\n",
        "data['final_content'] = data['final_content'].str.lower()\n",
        "\n",
        "print('Case Folding Result : \\n')\n",
        "print(data['final_content'].head(5))"
      ],
      "metadata": {
        "colab": {
          "base_uri": "https://localhost:8080/"
        },
        "id": "0N1Mw1zvhJ2_",
        "outputId": "e5bbc856-4fa7-4289-8edd-2c031a6356b8"
      },
      "execution_count": null,
      "outputs": [
        {
          "output_type": "stream",
          "name": "stdout",
          "text": [
            "Case Folding Result : \n",
            "\n",
            "0    kepolisian inggris memburu pelaku meledakkan b...\n",
            "1    layanan transaksi jalan tol sistem nontunai ok...\n",
            "2    rabu spesial tagar hashtag agustus menandai pa...\n",
            "3    indonesia memiliki cadangan bahan bakar minyak...\n",
            "4    selasa pedangdut ridho rhoma menjalani sidang ...\n",
            "Name: final_content, dtype: object\n"
          ]
        },
        {
          "output_type": "stream",
          "name": "stderr",
          "text": [
            "/usr/local/lib/python3.10/dist-packages/ipykernel/ipkernel.py:283: DeprecationWarning: `should_run_async` will not call `transform_cell` automatically in the future. Please pass the result to `transformed_cell` argument and any exception that happen during thetransform in `preprocessing_exc_tuple` in IPython 7.17 and above.\n",
            "  and should_run_async(code)\n",
            "<ipython-input-159-46a1111570e7>:4: SettingWithCopyWarning: \n",
            "A value is trying to be set on a copy of a slice from a DataFrame.\n",
            "Try using .loc[row_indexer,col_indexer] = value instead\n",
            "\n",
            "See the caveats in the documentation: https://pandas.pydata.org/pandas-docs/stable/user_guide/indexing.html#returning-a-view-versus-a-copy\n",
            "  data['final_content'] = data['final_content'].str.lower()\n"
          ]
        }
      ]
    },
    {
      "cell_type": "code",
      "source": [
        "# ------ Tokenizing ---------\n",
        "\n",
        "# Download NLTK punkt data\n",
        "nltk.download('punkt')\n",
        "\n",
        "def remove_tweet_special(text):\n",
        "    # remove tab, new line, and backslash\n",
        "    text = text.replace('\\\\t', \" \").replace('\\\\n', \" \").replace('\\\\u', \" \").replace('\\\\', \"\")\n",
        "    # remove non ASCII (emoticon, Chinese word, etc.)\n",
        "    text = text.encode('ascii', 'replace').decode('ascii')\n",
        "    # remove mention, link, hashtag\n",
        "    text = ' '.join(re.sub(\"([@#][A-Za-z0-9]+)|(\\w+:\\/\\/\\S+)\", \" \", text).split())\n",
        "    # remove incomplete URL\n",
        "    return text.replace(\"http://\", \" \").replace(\"https://\", \" \")\n",
        "\n",
        "data['final_content'] = data['final_content'].apply(remove_tweet_special)\n",
        "\n",
        "# remove number\n",
        "def remove_number(text):\n",
        "    return re.sub(r\"\\d+\", \"\", text)\n",
        "\n",
        "data['final_content'] = data['final_content'].apply(remove_number)\n",
        "\n",
        "# remove punctuation\n",
        "def remove_punctuation(text):\n",
        "    return text.translate(str.maketrans(\"\", \"\", string.punctuation))\n",
        "\n",
        "data['final_content'] = data['final_content'].apply(remove_punctuation)\n",
        "\n",
        "# remove whitespace leading & trailing\n",
        "def remove_whitespace_LT(text):\n",
        "    return text.strip()\n",
        "\n",
        "data['final_content'] = data['final_content'].apply(remove_whitespace_LT)\n",
        "\n",
        "# remove multiple whitespace into single whitespace\n",
        "def remove_whitespace_multiple(text):\n",
        "    return re.sub('\\s+', ' ', text)\n",
        "\n",
        "data['final_content'] = data['final_content'].apply(remove_whitespace_multiple)\n",
        "\n",
        "# remove single char\n",
        "def remove_single_char(text):\n",
        "    return re.sub(r\"\\b[a-zA-Z]\\b\", \"\", text)\n",
        "\n",
        "data['final_content'] = data['final_content'].apply(remove_single_char)\n",
        "\n",
        "# NLTK word tokenize\n",
        "def word_tokenize_wrapper(text):\n",
        "    return word_tokenize(text)\n",
        "\n",
        "data['final_content_tokens'] = data['final_content'].apply(word_tokenize_wrapper)\n",
        "\n",
        "print('Tokenizing Result : \\n')\n",
        "print(data['final_content_tokens'].head())\n"
      ],
      "metadata": {
        "id": "4qkgjxPfM8VK",
        "colab": {
          "base_uri": "https://localhost:8080/"
        },
        "outputId": "a92ead82-93a6-4a99-8694-8a8414552f67"
      },
      "execution_count": null,
      "outputs": [
        {
          "output_type": "stream",
          "name": "stderr",
          "text": [
            "/usr/local/lib/python3.10/dist-packages/ipykernel/ipkernel.py:283: DeprecationWarning: `should_run_async` will not call `transform_cell` automatically in the future. Please pass the result to `transformed_cell` argument and any exception that happen during thetransform in `preprocessing_exc_tuple` in IPython 7.17 and above.\n",
            "  and should_run_async(code)\n",
            "<>:12: DeprecationWarning: invalid escape sequence '\\w'\n",
            "<>:38: DeprecationWarning: invalid escape sequence '\\s'\n",
            "<>:12: DeprecationWarning: invalid escape sequence '\\w'\n",
            "<>:38: DeprecationWarning: invalid escape sequence '\\s'\n",
            "<ipython-input-160-dc1317990a60>:12: DeprecationWarning: invalid escape sequence '\\w'\n",
            "  text = ' '.join(re.sub(\"([@#][A-Za-z0-9]+)|(\\w+:\\/\\/\\S+)\", \" \", text).split())\n",
            "<ipython-input-160-dc1317990a60>:38: DeprecationWarning: invalid escape sequence '\\s'\n",
            "  return re.sub('\\s+', ' ', text)\n",
            "[nltk_data] Downloading package punkt to /root/nltk_data...\n",
            "[nltk_data]   Package punkt is already up-to-date!\n",
            "<ipython-input-160-dc1317990a60>:16: SettingWithCopyWarning: \n",
            "A value is trying to be set on a copy of a slice from a DataFrame.\n",
            "Try using .loc[row_indexer,col_indexer] = value instead\n",
            "\n",
            "See the caveats in the documentation: https://pandas.pydata.org/pandas-docs/stable/user_guide/indexing.html#returning-a-view-versus-a-copy\n",
            "  data['final_content'] = data['final_content'].apply(remove_tweet_special)\n",
            "<ipython-input-160-dc1317990a60>:22: SettingWithCopyWarning: \n",
            "A value is trying to be set on a copy of a slice from a DataFrame.\n",
            "Try using .loc[row_indexer,col_indexer] = value instead\n",
            "\n",
            "See the caveats in the documentation: https://pandas.pydata.org/pandas-docs/stable/user_guide/indexing.html#returning-a-view-versus-a-copy\n",
            "  data['final_content'] = data['final_content'].apply(remove_number)\n",
            "<ipython-input-160-dc1317990a60>:28: SettingWithCopyWarning: \n",
            "A value is trying to be set on a copy of a slice from a DataFrame.\n",
            "Try using .loc[row_indexer,col_indexer] = value instead\n",
            "\n",
            "See the caveats in the documentation: https://pandas.pydata.org/pandas-docs/stable/user_guide/indexing.html#returning-a-view-versus-a-copy\n",
            "  data['final_content'] = data['final_content'].apply(remove_punctuation)\n",
            "<ipython-input-160-dc1317990a60>:34: SettingWithCopyWarning: \n",
            "A value is trying to be set on a copy of a slice from a DataFrame.\n",
            "Try using .loc[row_indexer,col_indexer] = value instead\n",
            "\n",
            "See the caveats in the documentation: https://pandas.pydata.org/pandas-docs/stable/user_guide/indexing.html#returning-a-view-versus-a-copy\n",
            "  data['final_content'] = data['final_content'].apply(remove_whitespace_LT)\n",
            "<ipython-input-160-dc1317990a60>:40: SettingWithCopyWarning: \n",
            "A value is trying to be set on a copy of a slice from a DataFrame.\n",
            "Try using .loc[row_indexer,col_indexer] = value instead\n",
            "\n",
            "See the caveats in the documentation: https://pandas.pydata.org/pandas-docs/stable/user_guide/indexing.html#returning-a-view-versus-a-copy\n",
            "  data['final_content'] = data['final_content'].apply(remove_whitespace_multiple)\n",
            "<ipython-input-160-dc1317990a60>:46: SettingWithCopyWarning: \n",
            "A value is trying to be set on a copy of a slice from a DataFrame.\n",
            "Try using .loc[row_indexer,col_indexer] = value instead\n",
            "\n",
            "See the caveats in the documentation: https://pandas.pydata.org/pandas-docs/stable/user_guide/indexing.html#returning-a-view-versus-a-copy\n",
            "  data['final_content'] = data['final_content'].apply(remove_single_char)\n"
          ]
        },
        {
          "output_type": "stream",
          "name": "stdout",
          "text": [
            "Tokenizing Result : \n",
            "\n",
            "0    [kepolisian, inggris, memburu, pelaku, meledak...\n",
            "1    [layanan, transaksi, jalan, tol, sistem, nontu...\n",
            "2    [rabu, spesial, tagar, hashtag, agustus, menan...\n",
            "3    [indonesia, memiliki, cadangan, bahan, bakar, ...\n",
            "4    [selasa, pedangdut, ridho, rhoma, menjalani, s...\n",
            "Name: final_content_tokens, dtype: object\n"
          ]
        },
        {
          "output_type": "stream",
          "name": "stderr",
          "text": [
            "<ipython-input-160-dc1317990a60>:52: SettingWithCopyWarning: \n",
            "A value is trying to be set on a copy of a slice from a DataFrame.\n",
            "Try using .loc[row_indexer,col_indexer] = value instead\n",
            "\n",
            "See the caveats in the documentation: https://pandas.pydata.org/pandas-docs/stable/user_guide/indexing.html#returning-a-view-versus-a-copy\n",
            "  data['final_content_tokens'] = data['final_content'].apply(word_tokenize_wrapper)\n"
          ]
        }
      ]
    },
    {
      "cell_type": "code",
      "source": [
        "# NLTK calc frequency distribution\n",
        "def freqDist_wrapper(text):\n",
        "    return FreqDist(text)\n",
        "\n",
        "data['final_content_tokens_fdist'] = data['final_content_tokens'].apply(freqDist_wrapper)\n",
        "\n",
        "print('Frequency Tokens : \\n')\n",
        "print(data['final_content_tokens_fdist'].head().apply(lambda x : x.most_common()))"
      ],
      "metadata": {
        "id": "K7a5X6FLM8XG",
        "colab": {
          "base_uri": "https://localhost:8080/"
        },
        "outputId": "132d004f-894c-4063-db6c-bd48606952d8"
      },
      "execution_count": null,
      "outputs": [
        {
          "output_type": "stream",
          "name": "stderr",
          "text": [
            "/usr/local/lib/python3.10/dist-packages/ipykernel/ipkernel.py:283: DeprecationWarning: `should_run_async` will not call `transform_cell` automatically in the future. Please pass the result to `transformed_cell` argument and any exception that happen during thetransform in `preprocessing_exc_tuple` in IPython 7.17 and above.\n",
            "  and should_run_async(code)\n"
          ]
        },
        {
          "output_type": "stream",
          "name": "stdout",
          "text": [
            "Frequency Tokens : \n",
            "\n",
            "0    [(kepolisian, 5), (london, 4), (orang, 4), (in...\n",
            "1    [(tol, 12), (jalan, 9), (elektronik, 9), (uang...\n",
            "2    [(tagar, 10), (twitter, 4), (media, 3), (sosia...\n",
            "3    [(cadangan, 17), (bbm, 16), (nasional, 6), (in...\n",
            "4    [(ridho, 7), (sidang, 7), (jakarta, 6), (rhoma...\n",
            "Name: final_content_tokens_fdist, dtype: object\n"
          ]
        },
        {
          "output_type": "stream",
          "name": "stderr",
          "text": [
            "<ipython-input-161-a2cab6d0474e>:5: SettingWithCopyWarning: \n",
            "A value is trying to be set on a copy of a slice from a DataFrame.\n",
            "Try using .loc[row_indexer,col_indexer] = value instead\n",
            "\n",
            "See the caveats in the documentation: https://pandas.pydata.org/pandas-docs/stable/user_guide/indexing.html#returning-a-view-versus-a-copy\n",
            "  data['final_content_tokens_fdist'] = data['final_content_tokens'].apply(freqDist_wrapper)\n"
          ]
        }
      ]
    },
    {
      "cell_type": "markdown",
      "source": [
        "# Stopwords\n",
        "Membersihkan teks dari kata- kata yang termasuk dalam stopwords"
      ],
      "metadata": {
        "id": "M0Ie5AUaje1R"
      }
    },
    {
      "cell_type": "code",
      "source": [
        "nltk.download('stopwords')"
      ],
      "metadata": {
        "id": "klLjuA1hM8ZO",
        "colab": {
          "base_uri": "https://localhost:8080/"
        },
        "outputId": "e820c845-622a-47af-d047-57c0e462a4ca"
      },
      "execution_count": null,
      "outputs": [
        {
          "output_type": "stream",
          "name": "stderr",
          "text": [
            "/usr/local/lib/python3.10/dist-packages/ipykernel/ipkernel.py:283: DeprecationWarning: `should_run_async` will not call `transform_cell` automatically in the future. Please pass the result to `transformed_cell` argument and any exception that happen during thetransform in `preprocessing_exc_tuple` in IPython 7.17 and above.\n",
            "  and should_run_async(code)\n",
            "[nltk_data] Downloading package stopwords to /root/nltk_data...\n",
            "[nltk_data]   Package stopwords is already up-to-date!\n"
          ]
        },
        {
          "output_type": "execute_result",
          "data": {
            "text/plain": [
              "True"
            ]
          },
          "metadata": {},
          "execution_count": 162
        }
      ]
    },
    {
      "cell_type": "code",
      "source": [
        "from nltk.corpus import stopwords\n",
        "\n",
        "# ----------------------- get stopword from NLTK stopword -------------------------------\n",
        "# get stopword indonesia\n",
        "list_stopwords = stopwords.words('indonesian')\n",
        "\n",
        "\n",
        "# ---------------------------- manualy add stopword  ------------------------------------\n",
        "# append additional stopword\n",
        "list_stopwords.extend([\"yg\", \"dg\", \"rt\", \"dgn\", \"ny\", \"d\", 'klo',\n",
        "                       'kalo', 'amp', 'biar', 'bikin', 'bilang',\n",
        "                       'gak', 'ga', 'krn', 'nya', 'nih', 'sih',\n",
        "                       'si', 'tau', 'tdk', 'tuh', 'utk', 'ya',\n",
        "                       'jd', 'jgn', 'sdh', 'aja', 'n', 't',\n",
        "                       'nyg', 'hehe', 'pen', 'u', 'nan', 'loh', 'rt',\n",
        "                       '&amp', 'yah', 'bisnis', 'pandemi', 'indonesia'])\n",
        "\n",
        "# convert list to dictionary\n",
        "list_stopwords = set(list_stopwords)\n",
        "\n",
        "#remove stopword pada list token\n",
        "def stopwords_removal(words):\n",
        "    return [word for word in words if word not in list_stopwords]\n",
        "\n",
        "data['final_content_tokens_WSW'] = data['final_content_tokens'].apply(stopwords_removal)\n",
        "\n",
        "print(data['final_content_tokens_WSW'].head())"
      ],
      "metadata": {
        "id": "HpjHTaWSM8bH",
        "colab": {
          "base_uri": "https://localhost:8080/"
        },
        "outputId": "75448ee4-bfce-4705-9bf1-8ee4c80b14ae"
      },
      "execution_count": null,
      "outputs": [
        {
          "output_type": "stream",
          "name": "stderr",
          "text": [
            "/usr/local/lib/python3.10/dist-packages/ipykernel/ipkernel.py:283: DeprecationWarning: `should_run_async` will not call `transform_cell` automatically in the future. Please pass the result to `transformed_cell` argument and any exception that happen during thetransform in `preprocessing_exc_tuple` in IPython 7.17 and above.\n",
            "  and should_run_async(code)\n"
          ]
        },
        {
          "output_type": "stream",
          "name": "stdout",
          "text": [
            "0    [kepolisian, inggris, memburu, pelaku, meledak...\n",
            "1    [layanan, transaksi, jalan, tol, sistem, nontu...\n",
            "2    [rabu, spesial, tagar, hashtag, agustus, menan...\n",
            "3    [memiliki, cadangan, bahan, bakar, minyak, bbm...\n",
            "4    [selasa, pedangdut, ridho, rhoma, menjalani, s...\n",
            "Name: final_content_tokens_WSW, dtype: object\n"
          ]
        },
        {
          "output_type": "stream",
          "name": "stderr",
          "text": [
            "<ipython-input-163-4ec44d858436>:25: SettingWithCopyWarning: \n",
            "A value is trying to be set on a copy of a slice from a DataFrame.\n",
            "Try using .loc[row_indexer,col_indexer] = value instead\n",
            "\n",
            "See the caveats in the documentation: https://pandas.pydata.org/pandas-docs/stable/user_guide/indexing.html#returning-a-view-versus-a-copy\n",
            "  data['final_content_tokens_WSW'] = data['final_content_tokens'].apply(stopwords_removal)\n"
          ]
        }
      ]
    },
    {
      "cell_type": "markdown",
      "source": [
        "# LDA MODEL Using Gensim\n",
        "Proses topic modeling dengan LDA Gensim"
      ],
      "metadata": {
        "id": "ClwvH-bqnR1S"
      }
    },
    {
      "cell_type": "code",
      "source": [
        "import gensim\n",
        "from gensim import corpora"
      ],
      "metadata": {
        "id": "cW6kgbL0M8c9",
        "colab": {
          "base_uri": "https://localhost:8080/"
        },
        "outputId": "aced91f5-3de4-4c0b-9410-925e909cb290"
      },
      "execution_count": null,
      "outputs": [
        {
          "output_type": "stream",
          "name": "stderr",
          "text": [
            "/usr/local/lib/python3.10/dist-packages/ipykernel/ipkernel.py:283: DeprecationWarning: `should_run_async` will not call `transform_cell` automatically in the future. Please pass the result to `transformed_cell` argument and any exception that happen during thetransform in `preprocessing_exc_tuple` in IPython 7.17 and above.\n",
            "  and should_run_async(code)\n"
          ]
        }
      ]
    },
    {
      "cell_type": "code",
      "source": [
        "doc_clean = data['final_content_tokens_WSW']\n",
        "doc_clean"
      ],
      "metadata": {
        "colab": {
          "base_uri": "https://localhost:8080/"
        },
        "id": "HHbg1YWZnktl",
        "outputId": "6508fa61-3eeb-45fa-e271-0d99ddc65f11"
      },
      "execution_count": null,
      "outputs": [
        {
          "output_type": "stream",
          "name": "stderr",
          "text": [
            "/usr/local/lib/python3.10/dist-packages/ipykernel/ipkernel.py:283: DeprecationWarning: `should_run_async` will not call `transform_cell` automatically in the future. Please pass the result to `transformed_cell` argument and any exception that happen during thetransform in `preprocessing_exc_tuple` in IPython 7.17 and above.\n",
            "  and should_run_async(code)\n"
          ]
        },
        {
          "output_type": "execute_result",
          "data": {
            "text/plain": [
              "0       [kepolisian, inggris, memburu, pelaku, meledak...\n",
              "1       [layanan, transaksi, jalan, tol, sistem, nontu...\n",
              "2       [rabu, spesial, tagar, hashtag, agustus, menan...\n",
              "3       [memiliki, cadangan, bahan, bakar, minyak, bbm...\n",
              "4       [selasa, pedangdut, ridho, rhoma, menjalani, s...\n",
              "                              ...                        \n",
              "9995    [reporter, joel, jokoblokbojonegorocom, pawai,...\n",
              "9996    [direktur, jenderal, dirjen, pajak, kementeria...\n",
              "9997    [kali, barcelona, neymar, neymar, neymar, pema...\n",
              "9998    [tim, nasional, timnas, berhasil, meraih, keme...\n",
              "9999    [telkom, proses, perbaikan, pemulihan, salah, ...\n",
              "Name: final_content_tokens_WSW, Length: 9964, dtype: object"
            ]
          },
          "metadata": {},
          "execution_count": 165
        }
      ]
    },
    {
      "cell_type": "code",
      "source": [
        "dictionary = corpora.Dictionary(doc_clean)\n",
        "print(dictionary)\n",
        "\n",
        "doc_term_matrix = [dictionary.doc2bow(doc) for doc in doc_clean]"
      ],
      "metadata": {
        "id": "xb4uwmVZM8gt",
        "colab": {
          "base_uri": "https://localhost:8080/"
        },
        "outputId": "4c0cda4b-f776-488c-ce71-00ced3853c64"
      },
      "execution_count": null,
      "outputs": [
        {
          "output_type": "stream",
          "name": "stderr",
          "text": [
            "/usr/local/lib/python3.10/dist-packages/ipykernel/ipkernel.py:283: DeprecationWarning: `should_run_async` will not call `transform_cell` automatically in the future. Please pass the result to `transformed_cell` argument and any exception that happen during thetransform in `preprocessing_exc_tuple` in IPython 7.17 and above.\n",
            "  and should_run_async(code)\n"
          ]
        },
        {
          "output_type": "stream",
          "name": "stdout",
          "text": [
            "Dictionary<132647 unique tokens: ['aksi', 'asisten', 'badan', 'bahan', 'berhamburan']...>\n"
          ]
        }
      ]
    },
    {
      "cell_type": "code",
      "source": [
        "# Creating the object for LDA model using gensim library\n",
        "Lda = gensim.models.ldamodel.LdaModel\n",
        "\n",
        "total_topics = 3 # jumlah topik yang akan di extract\n",
        "number_words = 10 # jumlah kata per topik"
      ],
      "metadata": {
        "id": "1v0l3QcsM8ke",
        "colab": {
          "base_uri": "https://localhost:8080/"
        },
        "outputId": "a7566dfc-1127-4ae3-af50-5111015d0f2b"
      },
      "execution_count": null,
      "outputs": [
        {
          "output_type": "stream",
          "name": "stderr",
          "text": [
            "/usr/local/lib/python3.10/dist-packages/ipykernel/ipkernel.py:283: DeprecationWarning: `should_run_async` will not call `transform_cell` automatically in the future. Please pass the result to `transformed_cell` argument and any exception that happen during thetransform in `preprocessing_exc_tuple` in IPython 7.17 and above.\n",
            "  and should_run_async(code)\n"
          ]
        }
      ]
    },
    {
      "cell_type": "code",
      "source": [
        "# Running and Trainign LDA model on the document term matrix.\n",
        "lda_model = Lda(doc_term_matrix, num_topics=total_topics, id2word = dictionary, passes=50)\n",
        "\n",
        "lda_model.show_topics(num_topics=total_topics, num_words=number_words)"
      ],
      "metadata": {
        "id": "9lHcbi6XM8oq",
        "colab": {
          "base_uri": "https://localhost:8080/"
        },
        "outputId": "e10edc7c-1d15-4132-e0cd-cc2a899bdae4"
      },
      "execution_count": null,
      "outputs": [
        {
          "output_type": "stream",
          "name": "stderr",
          "text": [
            "/usr/local/lib/python3.10/dist-packages/ipykernel/ipkernel.py:283: DeprecationWarning: `should_run_async` will not call `transform_cell` automatically in the future. Please pass the result to `transformed_cell` argument and any exception that happen during thetransform in `preprocessing_exc_tuple` in IPython 7.17 and above.\n",
            "  and should_run_async(code)\n"
          ]
        },
        {
          "output_type": "execute_result",
          "data": {
            "text/plain": [
              "[(0,\n",
              "  '0.009*\"pemain\" + 0.007*\"gol\" + 0.007*\"laga\" + 0.005*\"musim\" + 0.004*\"tim\" + 0.004*\"bola\" + 0.004*\"pertandingan\" + 0.004*\"berhasil\" + 0.004*\"menit\" + 0.004*\"kali\"'),\n",
              " (1,\n",
              "  '0.019*\"haji\" + 0.013*\"jemaah\" + 0.009*\"wafat\" + 0.007*\"usia\" + 0.006*\"makkah\" + 0.005*\"agustus\" + 0.005*\"orang\" + 0.005*\"jamaah\" + 0.005*\"gangguan\" + 0.005*\"jantung\"'),\n",
              " (2,\n",
              "  '0.006*\"rp\" + 0.004*\"orang\" + 0.004*\"pemerintah\" + 0.004*\"negara\" + 0.003*\"memiliki\" + 0.003*\"as\" + 0.003*\"jakarta\" + 0.003*\"masyarakat\" + 0.003*\"salah\" + 0.003*\"harga\"')]"
            ]
          },
          "metadata": {},
          "execution_count": 168
        }
      ]
    },
    {
      "cell_type": "code",
      "source": [
        "# Word Count of Topic Keywords\n",
        "\n",
        "from collections import Counter\n",
        "topics = lda_model.show_topics(formatted=False)\n",
        "data_flat = [w for w_list in doc_clean for w in w_list]\n",
        "counter = Counter(data_flat)\n",
        "\n",
        "out = []\n",
        "for i, topic in topics:\n",
        "    for word, weight in topic:\n",
        "        out.append([word, i , weight, counter[word]])\n",
        "\n",
        "df_imp_wcount = pd.DataFrame(out, columns=['word', 'topic_id', 'importance', 'word_count'])\n",
        "print(df_imp_wcount)"
      ],
      "metadata": {
        "id": "__7l-UPpM8qy",
        "colab": {
          "base_uri": "https://localhost:8080/"
        },
        "outputId": "7a8ba609-c53b-4e61-ceef-b67050833da2"
      },
      "execution_count": null,
      "outputs": [
        {
          "output_type": "stream",
          "name": "stderr",
          "text": [
            "/usr/local/lib/python3.10/dist-packages/ipykernel/ipkernel.py:283: DeprecationWarning: `should_run_async` will not call `transform_cell` automatically in the future. Please pass the result to `transformed_cell` argument and any exception that happen during thetransform in `preprocessing_exc_tuple` in IPython 7.17 and above.\n",
            "  and should_run_async(code)\n"
          ]
        },
        {
          "output_type": "stream",
          "name": "stdout",
          "text": [
            "            word  topic_id  importance  word_count\n",
            "0         pemain         0    0.009065        5380\n",
            "1            gol         0    0.007204        3949\n",
            "2           laga         0    0.006501        3611\n",
            "3          musim         0    0.004982        3151\n",
            "4            tim         0    0.004297        3559\n",
            "5           bola         0    0.004189        2350\n",
            "6   pertandingan         0    0.004176        2333\n",
            "7       berhasil         0    0.004147        3008\n",
            "8          menit         0    0.004040        2450\n",
            "9           kali         0    0.003725        4073\n",
            "10          haji         1    0.019084       10780\n",
            "11        jemaah         1    0.012889        7226\n",
            "12         wafat         1    0.008509        4742\n",
            "13          usia         1    0.007440        4500\n",
            "14        makkah         1    0.005658        3185\n",
            "15       agustus         1    0.005296        3868\n",
            "16         orang         1    0.005237        7239\n",
            "17        jamaah         1    0.005163        2939\n",
            "18      gangguan         1    0.005051        3041\n",
            "19       jantung         1    0.004838        2887\n",
            "20            rp         2    0.006439        6253\n",
            "21         orang         2    0.003638        7239\n",
            "22    pemerintah         2    0.003591        3733\n",
            "23        negara         2    0.003527        3626\n",
            "24      memiliki         2    0.003075        5396\n",
            "25            as         2    0.002832        2862\n",
            "26       jakarta         2    0.002776        4383\n",
            "27    masyarakat         2    0.002752        2881\n",
            "28         salah         2    0.002641        4915\n",
            "29         harga         2    0.002551        2646\n"
          ]
        }
      ]
    },
    {
      "cell_type": "code",
      "source": [
        "import pyLDAvis.gensim\n",
        "import pickle\n",
        "import pyLDAvis\n",
        "# Visualize the topics\n",
        "pyLDAvis.enable_notebook()"
      ],
      "metadata": {
        "colab": {
          "base_uri": "https://localhost:8080/"
        },
        "id": "6DM74xAdu9mH",
        "outputId": "07b82558-8ae3-4356-b7fa-f06dc1cbb2b9"
      },
      "execution_count": null,
      "outputs": [
        {
          "output_type": "stream",
          "name": "stderr",
          "text": [
            "/usr/local/lib/python3.10/dist-packages/ipykernel/ipkernel.py:283: DeprecationWarning: `should_run_async` will not call `transform_cell` automatically in the future. Please pass the result to `transformed_cell` argument and any exception that happen during thetransform in `preprocessing_exc_tuple` in IPython 7.17 and above.\n",
            "  and should_run_async(code)\n"
          ]
        }
      ]
    },
    {
      "cell_type": "code",
      "source": [
        "import os\n",
        "LDAvis_data_filepath = os.path.join('ldavis_prepared_'+str(total_topics))"
      ],
      "metadata": {
        "id": "_QeMyd7ZJ-EL",
        "colab": {
          "base_uri": "https://localhost:8080/"
        },
        "outputId": "3f8604ce-828b-4680-c001-3aa02061ef4b"
      },
      "execution_count": null,
      "outputs": [
        {
          "output_type": "stream",
          "name": "stderr",
          "text": [
            "/usr/local/lib/python3.10/dist-packages/ipykernel/ipkernel.py:283: DeprecationWarning: `should_run_async` will not call `transform_cell` automatically in the future. Please pass the result to `transformed_cell` argument and any exception that happen during thetransform in `preprocessing_exc_tuple` in IPython 7.17 and above.\n",
            "  and should_run_async(code)\n"
          ]
        }
      ]
    },
    {
      "cell_type": "code",
      "source": [
        "corpus = [dictionary.doc2bow(text) for text in doc_clean]"
      ],
      "metadata": {
        "colab": {
          "base_uri": "https://localhost:8080/"
        },
        "id": "PWaQITeBwruI",
        "outputId": "46eb28a4-8374-4689-afeb-794a60c1bd99"
      },
      "execution_count": null,
      "outputs": [
        {
          "output_type": "stream",
          "name": "stderr",
          "text": [
            "/usr/local/lib/python3.10/dist-packages/ipykernel/ipkernel.py:283: DeprecationWarning: `should_run_async` will not call `transform_cell` automatically in the future. Please pass the result to `transformed_cell` argument and any exception that happen during thetransform in `preprocessing_exc_tuple` in IPython 7.17 and above.\n",
            "  and should_run_async(code)\n"
          ]
        }
      ]
    },
    {
      "cell_type": "code",
      "source": [
        "\n",
        "if 1 == 1:\n",
        "    LDAvis_prepared = pyLDAvis.gensim.prepare(lda_model, corpus, dictionary)\n",
        "    with open(LDAvis_data_filepath, 'wb') as f:\n",
        "        pickle.dump(LDAvis_prepared, f)"
      ],
      "metadata": {
        "colab": {
          "base_uri": "https://localhost:8080/"
        },
        "id": "y33vr5rMvj4c",
        "outputId": "c887cb08-b4dd-48ed-8233-c511731220da"
      },
      "execution_count": null,
      "outputs": [
        {
          "output_type": "stream",
          "name": "stderr",
          "text": [
            "/usr/local/lib/python3.10/dist-packages/ipykernel/ipkernel.py:283: DeprecationWarning: `should_run_async` will not call `transform_cell` automatically in the future. Please pass the result to `transformed_cell` argument and any exception that happen during thetransform in `preprocessing_exc_tuple` in IPython 7.17 and above.\n",
            "  and should_run_async(code)\n",
            "/usr/local/lib/python3.10/dist-packages/pyLDAvis/_prepare.py:248: FutureWarning: In a future version of pandas all arguments of DataFrame.drop except for the argument 'labels' will be keyword-only.\n",
            "  by='saliency', ascending=False).head(R).drop('saliency', 1)\n"
          ]
        }
      ]
    },
    {
      "cell_type": "code",
      "source": [
        "\n",
        "with open(LDAvis_data_filepath, 'rb') as f:\n",
        "    LDAvis_prepared = pickle.load(f)"
      ],
      "metadata": {
        "colab": {
          "base_uri": "https://localhost:8080/"
        },
        "id": "HvE6H-z2vj6v",
        "outputId": "2416d689-996c-45b0-dcdb-eee05ce5c799"
      },
      "execution_count": null,
      "outputs": [
        {
          "output_type": "stream",
          "name": "stderr",
          "text": [
            "/usr/local/lib/python3.10/dist-packages/ipykernel/ipkernel.py:283: DeprecationWarning: `should_run_async` will not call `transform_cell` automatically in the future. Please pass the result to `transformed_cell` argument and any exception that happen during thetransform in `preprocessing_exc_tuple` in IPython 7.17 and above.\n",
            "  and should_run_async(code)\n"
          ]
        }
      ]
    },
    {
      "cell_type": "code",
      "source": [
        "\n",
        "LDAvis_prepared"
      ],
      "metadata": {
        "colab": {
          "base_uri": "https://localhost:8080/",
          "height": 919
        },
        "id": "w02SXbOpvj9A",
        "outputId": "a429b883-2ac5-4603-af08-7e7f790ed012"
      },
      "execution_count": null,
      "outputs": [
        {
          "output_type": "stream",
          "name": "stderr",
          "text": [
            "/usr/local/lib/python3.10/dist-packages/ipykernel/ipkernel.py:283: DeprecationWarning: `should_run_async` will not call `transform_cell` automatically in the future. Please pass the result to `transformed_cell` argument and any exception that happen during thetransform in `preprocessing_exc_tuple` in IPython 7.17 and above.\n",
            "  and should_run_async(code)\n"
          ]
        },
        {
          "output_type": "execute_result",
          "data": {
            "text/plain": [
              "PreparedData(topic_coordinates=              x         y  topics  cluster       Freq\n",
              "topic                                                \n",
              "2     -0.022825 -0.170861       1        1  46.686750\n",
              "1     -0.181182  0.100618       2        1  26.799724\n",
              "0      0.204007  0.070244       3        1  26.513526, topic_info=          Term         Freq        Total Category  logprob  loglift\n",
              "480       haji  9970.000000  9970.000000  Default  30.0000  30.0000\n",
              "1624    jemaah  6734.000000  6734.000000  Default  29.0000  29.0000\n",
              "2383     wafat  4446.000000  4446.000000  Default  28.0000  28.0000\n",
              "1441    pemain  5072.000000  5072.000000  Default  27.0000  27.0000\n",
              "1351       gol  3723.000000  3723.000000  Default  26.0000  26.0000\n",
              "...        ...          ...          ...      ...      ...      ...\n",
              "1462    posisi  1215.218477  1807.212731   Topic3  -6.0528   0.9307\n",
              "295   memiliki  1812.541707  5136.916011   Topic3  -5.6530   0.2858\n",
              "705      salah  1403.343279  4649.833112   Topic3  -5.9089   0.1295\n",
              "772      dunia  1109.753579  3698.544228   Topic3  -6.1436   0.1237\n",
              "1176    tampil   993.693827  1459.123006   Topic3  -6.2541   0.9434\n",
              "\n",
              "[190 rows x 6 columns], token_table=      Topic      Freq     Term\n",
              "term                          \n",
              "1668      1  0.777169    acara\n",
              "1668      2  0.222703    acara\n",
              "73        1  0.200990  agustus\n",
              "73        2  0.767087  agustus\n",
              "73        3  0.031881  agustus\n",
              "...     ...       ...      ...\n",
              "2988      2  0.999223    umrah\n",
              "993       3  0.999614   united\n",
              "559       2  0.919553     usia\n",
              "559       3  0.080434     usia\n",
              "2383      2  0.999752    wafat\n",
              "\n",
              "[253 rows x 3 columns], R=30, lambda_step=0.01, plot_opts={'xlab': 'PC1', 'ylab': 'PC2'}, topic_order=[3, 2, 1])"
            ],
            "text/html": [
              "\n",
              "<link rel=\"stylesheet\" type=\"text/css\" href=\"https://cdn.jsdelivr.net/gh/bmabey/pyLDAvis/pyLDAvis/js/ldavis.v1.0.0.css\">\n",
              "\n",
              "\n",
              "<div id=\"ldavis_el3531357105297720489364460388\"></div>\n",
              "<script type=\"text/javascript\">\n",
              "\n",
              "var ldavis_el3531357105297720489364460388_data = {\"mdsDat\": {\"x\": [-0.02282508854869357, -0.18118168855553873, 0.2040067771042323], \"y\": [-0.17086147993833975, 0.10061783183525201, 0.07024364810308774], \"topics\": [1, 2, 3], \"cluster\": [1, 1, 1], \"Freq\": [46.68675043266888, 26.799723867073794, 26.51352570025733]}, \"tinfo\": {\"Term\": [\"haji\", \"jemaah\", \"wafat\", \"pemain\", \"gol\", \"laga\", \"usia\", \"makkah\", \"rp\", \"jamaah\", \"kloter\", \"saudi\", \"bin\", \"gangguan\", \"jantung\", \"madinah\", \"pertandingan\", \"bola\", \"musim\", \"arab\", \"agustus\", \"menit\", \"september\", \"liga\", \"berhasil\", \"ibadah\", \"bermain\", \"rsas\", \"timnas\", \"united\", \"dolar\", \"saham\", \"triliun\", \"investasi\", \"keuangan\", \"miliar\", \"ponsel\", \"listrik\", \"ekonomi\", \"pajak\", \"industri\", \"perdagangan\", \"infrastruktur\", \"pengguna\", \"rupiah\", \"indeks\", \"tol\", \"jokowi\", \"kapal\", \"trump\", \"iphone\", \"penjualan\", \"transaksi\", \"festival\", \"bi\", \"album\", \"ihsg\", \"bumn\", \"pendapatan\", \"pln\", \"pasar\", \"bank\", \"pembangunan\", \"pengembangan\", \"rp\", \"pt\", \"presiden\", \"dana\", \"proyek\", \"teknologi\", \"perusahaan\", \"as\", \"persen\", \"negara\", \"pemerintah\", \"harga\", \"masyarakat\", \"juta\", \"amerika\", \"program\", \"lagu\", \"mencapai\", \"jakarta\", \"memiliki\", \"orang\", \"the\", \"acara\", \"menteri\", \"salah\", \"film\", \"uang\", \"dunia\", \"haji\", \"jemaah\", \"wafat\", \"makkah\", \"jamaah\", \"kloter\", \"bin\", \"madinah\", \"saudi\", \"arab\", \"ibadah\", \"rsas\", \"binti\", \"mch\", \"embarkasi\", \"pemondokan\", \"mina\", \"sub\", \"masjid\", \"soc\", \"arafah\", \"jks\", \"bojonegoro\", \"kkhi\", \"mekkah\", \"jeddah\", \"bella\", \"allah\", \"menag\", \"umrah\", \"pernafasan\", \"usia\", \"jantung\", \"gangguan\", \"pembuluh\", \"petugas\", \"berangkat\", \"calon\", \"agustus\", \"september\", \"darah\", \"orang\", \"saluran\", \"kabupaten\", \"hotel\", \"anak\", \"tanah\", \"rumah\", \"jakarta\", \"gol\", \"laga\", \"pertandingan\", \"liga\", \"timnas\", \"gamat\", \"united\", \"jelly\", \"piala\", \"babak\", \"gawang\", \"kemenangan\", \"liverpool\", \"sepak\", \"pelatih\", \"klub\", \"qnc\", \"barcelona\", \"league\", \"juara\", \"skor\", \"premier\", \"madrid\", \"arsenal\", \"umpan\", \"manchester\", \"neymar\", \"champions\", \"juventus\", \"herbal\", \"bola\", \"pemain\", \"kanker\", \"mencetak\", \"menit\", \"musim\", \"obat\", \"bermain\", \"penyakit\", \"tubuh\", \"berhasil\", \"tim\", \"lini\", \"kali\", \"posisi\", \"memiliki\", \"salah\", \"dunia\", \"tampil\"], \"Freq\": [9970.0, 6734.0, 4446.0, 5072.0, 3723.0, 3360.0, 4227.0, 2956.0, 6015.0, 2698.0, 2460.0, 2271.0, 2263.0, 2855.0, 2708.0, 2186.0, 2158.0, 2178.0, 2956.0, 1983.0, 3607.0, 2312.0, 3433.0, 1714.0, 2854.0, 1538.0, 1930.0, 1502.0, 1481.0, 1438.0, 1718.686504483864, 1505.5524684899083, 1497.4713251897913, 1344.411563848875, 1390.7517938097403, 1413.537791200502, 1093.0338037787803, 1149.2052402989511, 1095.6256307257183, 1053.6543079301207, 1022.6053589965511, 892.8510623039215, 894.8867636879901, 867.5732007150439, 848.5982897449302, 772.4190997990097, 766.6387949035521, 678.130971885093, 645.4259363306026, 569.2222192237363, 528.3689747411432, 555.5173634423209, 558.6436494103859, 516.2930826726483, 504.8060543645705, 521.5255789906975, 473.423313549534, 473.51872049740297, 472.63913306685555, 449.7884009230146, 1408.1186129922307, 1605.8475788839196, 1100.5005496433703, 512.75412589731, 5859.66610047159, 2054.632750057494, 1684.1621151161526, 2193.760766134639, 915.9562836079858, 1037.7800962785325, 2136.3439007724924, 2577.62090007746, 2008.405991325021, 3209.9065291238376, 3267.945526188246, 2321.5918791318586, 2504.8857367288765, 2148.400457174151, 1282.729939050228, 1152.9356996376132, 1295.895462162985, 1664.5332877859646, 2526.053895036952, 2798.857375092268, 3311.287721275322, 1682.2527047724614, 1525.3636338070842, 1411.3273801473208, 2403.300487074232, 1588.855394868186, 1499.758337268302, 1920.7220796115066, 9970.047943458892, 6733.531166140588, 4445.459275183493, 2955.8139282446095, 2697.413082087062, 2460.0056762747754, 2262.71535901324, 2185.458593569122, 2271.0060845041835, 1982.3198846947628, 1538.0138724780322, 1502.136414751619, 1391.6313587097081, 1348.3559854263815, 1303.5760936043594, 1244.7670438312077, 1192.0691199293956, 1081.6897141138954, 869.9074130430577, 789.3515081111046, 747.904144922271, 719.6500555065483, 868.9388237372422, 692.9964556156177, 692.5442121095243, 662.5298031617455, 655.9351732729982, 711.9132005925266, 605.2714328768756, 613.8270820784896, 944.452177085384, 3886.979658204094, 2527.663153657063, 2638.6837040450805, 1519.1840974061415, 1397.86071499738, 910.5592144643807, 1637.3661025184078, 2766.513651711494, 2512.458381535306, 1724.3727416780785, 2735.954981449026, 1013.9472130062823, 1155.1354948109947, 1210.0316286757225, 1470.0328427218315, 1244.5937122023256, 1520.5505588228855, 1560.1695470085335, 3723.324346464622, 3360.073572269141, 2158.2653595079296, 1713.6444556901668, 1480.8580436369048, 1432.7914913149227, 1437.8727321063357, 1239.4933900249484, 1268.981072819725, 1299.492103671107, 1092.0387305210047, 1215.866372452751, 1060.6924387499494, 1050.6999937150988, 973.4808978666427, 992.8223446086546, 909.0905962644905, 928.9582176746006, 843.9238184940353, 848.5025910575135, 853.9303429882724, 831.1267331156662, 752.5667793508499, 733.2448874135416, 680.0173106969561, 662.3386842096689, 650.4674135389076, 616.3383226369718, 591.1129855812563, 575.6019339845631, 2165.238181684783, 4685.216645883571, 745.3354125715014, 979.8366305756841, 2087.827388581603, 2574.693409445436, 1411.6917968712332, 1736.5891609997873, 1753.3683868079738, 1201.3634462493096, 2143.567125931973, 2220.8623952658277, 963.7427254615674, 1925.0906191175714, 1215.218476646452, 1812.541707189756, 1403.3432791413322, 1109.7535785234656, 993.6938270435015], \"Total\": [9970.0, 6734.0, 4446.0, 5072.0, 3723.0, 3360.0, 4227.0, 2956.0, 6015.0, 2698.0, 2460.0, 2271.0, 2263.0, 2855.0, 2708.0, 2186.0, 2158.0, 2178.0, 2956.0, 1983.0, 3607.0, 2312.0, 3433.0, 1714.0, 2854.0, 1538.0, 1930.0, 1502.0, 1481.0, 1438.0, 1719.3157241848226, 1506.185741100735, 1498.126727206582, 1345.0510348473279, 1391.428217387075, 1414.2672948506188, 1093.6695819089143, 1149.8746055068773, 1096.280616010785, 1054.2904755022323, 1023.2679000271955, 893.482456473535, 895.5584109814569, 868.2520643705374, 849.2801083373706, 773.0477326770927, 767.2647326131347, 678.799670966695, 646.0861651998383, 569.8509146721077, 528.9921804750181, 556.1930756430826, 559.3277855774227, 516.9401436996742, 505.4388322046422, 522.2118229808091, 474.04676322495766, 474.15715666736605, 473.2858368038372, 450.4120604168728, 1418.5984703708657, 1625.77976458337, 1110.0957787853224, 513.5029571311228, 6015.691087408994, 2102.8453475108468, 1716.7403549027613, 2267.2406594893414, 928.445259850793, 1056.130636050483, 2243.1036230168233, 2740.064787616504, 2120.3162489683427, 3508.86438916003, 3628.2676381551296, 2527.675339732873, 2790.5252704588693, 2563.917036768995, 1386.549305937623, 1229.7141023133868, 1440.9411544229113, 2019.7017950432069, 4171.175500456091, 5136.916010533535, 6803.4324157847705, 2294.7364153933736, 1962.2509974991626, 1725.5548900968508, 4649.83311216537, 2302.437895058345, 2014.4146094747953, 3698.5442278840546, 9970.699905424795, 6734.168696474494, 4446.101543227067, 2956.448274483917, 2698.054975519374, 2460.641572840594, 2263.3635047313633, 2186.093783940262, 2271.6721963585087, 1983.0803333112206, 1538.6607777665065, 1502.7700290141972, 1392.2677238420445, 1349.001336466432, 1304.2111461778181, 1245.4019771041053, 1192.784384052306, 1082.4020179991146, 870.5948864231393, 789.985175199934, 748.5395146985862, 720.2836858778458, 869.7066350661827, 693.630987168419, 693.1814768559442, 663.1655680536985, 656.5850117358176, 712.6607968523126, 605.910224116831, 614.4775125628947, 959.497664477475, 4227.052428942382, 2708.66852842376, 2855.947081504293, 1604.8170456693422, 1495.576724265649, 936.8875729811537, 1832.2798545779158, 3607.1518928175933, 3433.717872753301, 2385.4362250499353, 6803.4324157847705, 1153.3672667850487, 1499.0665670326266, 1694.256942025766, 2906.1330176527995, 1834.7418755286542, 3395.2242758646253, 4171.175500456091, 3723.9547110939147, 3360.7074665700156, 2158.903622672941, 1714.280026926444, 1481.492647392097, 1433.421933631334, 1438.5550084590923, 1240.1274487774035, 1269.6338234419043, 1300.208934015495, 1092.6719038760207, 1216.5802547057613, 1061.3344164106193, 1051.3548395296011, 974.116364405806, 993.4744060191997, 909.7209613917496, 929.607678759808, 844.57349895749, 849.1582570230121, 854.6090487034786, 831.8122597180684, 753.2081795136571, 733.8762966615817, 680.6555807709293, 662.9825622248469, 651.1020674037463, 616.9695505525686, 591.7433954238559, 576.2426498565917, 2178.284871555378, 5072.244544821249, 752.6075037816711, 1006.7739501801364, 2312.03238986214, 2956.708620264539, 1527.5944078300145, 1930.4759335419888, 2053.383767116039, 1325.2413635263672, 2854.063740717862, 3305.929883686682, 1040.326293934645, 3851.1267083635594, 1807.2127313564788, 5136.916010533535, 4649.83311216537, 3698.5442278840546, 1459.1230064901345], \"Category\": [\"Default\", \"Default\", \"Default\", \"Default\", \"Default\", \"Default\", \"Default\", \"Default\", \"Default\", \"Default\", \"Default\", \"Default\", \"Default\", \"Default\", \"Default\", \"Default\", \"Default\", \"Default\", \"Default\", \"Default\", \"Default\", \"Default\", \"Default\", \"Default\", \"Default\", \"Default\", \"Default\", \"Default\", \"Default\", \"Default\", \"Topic1\", \"Topic1\", \"Topic1\", \"Topic1\", \"Topic1\", \"Topic1\", \"Topic1\", \"Topic1\", \"Topic1\", \"Topic1\", \"Topic1\", \"Topic1\", \"Topic1\", \"Topic1\", \"Topic1\", \"Topic1\", \"Topic1\", \"Topic1\", \"Topic1\", \"Topic1\", \"Topic1\", \"Topic1\", \"Topic1\", \"Topic1\", \"Topic1\", \"Topic1\", \"Topic1\", \"Topic1\", \"Topic1\", \"Topic1\", \"Topic1\", \"Topic1\", \"Topic1\", \"Topic1\", \"Topic1\", \"Topic1\", \"Topic1\", \"Topic1\", \"Topic1\", \"Topic1\", \"Topic1\", \"Topic1\", \"Topic1\", \"Topic1\", \"Topic1\", \"Topic1\", \"Topic1\", \"Topic1\", \"Topic1\", \"Topic1\", \"Topic1\", \"Topic1\", \"Topic1\", \"Topic1\", \"Topic1\", \"Topic1\", \"Topic1\", \"Topic1\", \"Topic1\", \"Topic1\", \"Topic1\", \"Topic1\", \"Topic2\", \"Topic2\", \"Topic2\", \"Topic2\", \"Topic2\", \"Topic2\", \"Topic2\", \"Topic2\", \"Topic2\", \"Topic2\", \"Topic2\", \"Topic2\", \"Topic2\", \"Topic2\", \"Topic2\", \"Topic2\", \"Topic2\", \"Topic2\", \"Topic2\", \"Topic2\", \"Topic2\", \"Topic2\", \"Topic2\", \"Topic2\", \"Topic2\", \"Topic2\", \"Topic2\", \"Topic2\", \"Topic2\", \"Topic2\", \"Topic2\", \"Topic2\", \"Topic2\", \"Topic2\", \"Topic2\", \"Topic2\", \"Topic2\", \"Topic2\", \"Topic2\", \"Topic2\", \"Topic2\", \"Topic2\", \"Topic2\", \"Topic2\", \"Topic2\", \"Topic2\", \"Topic2\", \"Topic2\", \"Topic2\", \"Topic3\", \"Topic3\", \"Topic3\", \"Topic3\", \"Topic3\", \"Topic3\", \"Topic3\", \"Topic3\", \"Topic3\", \"Topic3\", \"Topic3\", \"Topic3\", \"Topic3\", \"Topic3\", \"Topic3\", \"Topic3\", \"Topic3\", \"Topic3\", \"Topic3\", \"Topic3\", \"Topic3\", \"Topic3\", \"Topic3\", \"Topic3\", \"Topic3\", \"Topic3\", \"Topic3\", \"Topic3\", \"Topic3\", \"Topic3\", \"Topic3\", \"Topic3\", \"Topic3\", \"Topic3\", \"Topic3\", \"Topic3\", \"Topic3\", \"Topic3\", \"Topic3\", \"Topic3\", \"Topic3\", \"Topic3\", \"Topic3\", \"Topic3\", \"Topic3\", \"Topic3\", \"Topic3\", \"Topic3\", \"Topic3\"], \"logprob\": [30.0, 29.0, 28.0, 27.0, 26.0, 25.0, 24.0, 23.0, 22.0, 21.0, 20.0, 19.0, 18.0, 17.0, 16.0, 15.0, 14.0, 13.0, 12.0, 11.0, 10.0, 9.0, 8.0, 7.0, 6.0, 5.0, 4.0, 3.0, 2.0, 1.0, -6.272, -6.4044, -6.4098, -6.5176, -6.4837, -6.4675, -6.7246, -6.6745, -6.7222, -6.7613, -6.7912, -6.9269, -6.9246, -6.9556, -6.9777, -7.0718, -7.0793, -7.202, -7.2514, -7.377, -7.4515, -7.4014, -7.3958, -7.4746, -7.4971, -7.4645, -7.5613, -7.5611, -7.563, -7.6125, -6.4713, -6.3399, -6.7178, -7.4815, -5.0455, -6.0935, -6.2923, -6.0279, -6.9013, -6.7765, -6.0545, -5.8667, -6.1162, -5.6473, -5.6294, -5.9713, -5.8953, -6.0488, -6.5646, -6.6712, -6.5543, -6.304, -5.8869, -5.7843, -5.6162, -6.2934, -6.3913, -6.469, -5.9367, -6.3505, -6.4082, -6.1608, -3.9589, -4.3514, -4.7666, -5.1747, -5.2662, -5.3583, -5.4419, -5.4767, -5.4383, -5.5742, -5.828, -5.8516, -5.928, -5.9596, -5.9934, -6.0395, -6.0828, -6.18, -6.3978, -6.495, -6.549, -6.5875, -6.399, -6.6252, -6.6259, -6.6702, -6.6802, -6.5983, -6.7606, -6.7465, -6.3156, -4.9008, -5.3312, -5.2882, -5.8403, -5.9235, -6.3522, -5.7654, -5.2409, -5.3372, -5.7136, -5.252, -6.2446, -6.1143, -6.0678, -5.8732, -6.0397, -5.8394, -5.8137, -4.9331, -5.0358, -5.4784, -5.7091, -5.8551, -5.8881, -5.8846, -6.033, -6.0095, -5.9858, -6.1597, -6.0523, -6.1888, -6.1983, -6.2746, -6.2549, -6.3431, -6.3214, -6.4174, -6.412, -6.4056, -6.4327, -6.532, -6.558, -6.6334, -6.6597, -6.6778, -6.7317, -6.7735, -6.8001, -5.4752, -4.7033, -6.5417, -6.2681, -5.5116, -5.302, -5.903, -5.6958, -5.6862, -6.0643, -5.4853, -5.4498, -6.2847, -5.5928, -6.0528, -5.653, -5.9089, -6.1436, -6.2541], \"loglift\": [30.0, 29.0, 28.0, 27.0, 26.0, 25.0, 24.0, 23.0, 22.0, 21.0, 20.0, 19.0, 18.0, 17.0, 16.0, 15.0, 14.0, 13.0, 12.0, 11.0, 10.0, 9.0, 8.0, 7.0, 6.0, 5.0, 4.0, 3.0, 2.0, 1.0, 0.7613, 0.7613, 0.7613, 0.7612, 0.7612, 0.7612, 0.7611, 0.7611, 0.7611, 0.7611, 0.7611, 0.761, 0.761, 0.7609, 0.7609, 0.7609, 0.7609, 0.7607, 0.7607, 0.7606, 0.7605, 0.7605, 0.7605, 0.7605, 0.7605, 0.7604, 0.7604, 0.7604, 0.7603, 0.7603, 0.7543, 0.7494, 0.753, 0.7603, 0.7354, 0.7385, 0.7426, 0.7288, 0.7482, 0.7442, 0.7129, 0.7006, 0.7075, 0.6727, 0.6571, 0.6767, 0.6537, 0.5849, 0.6839, 0.6972, 0.6556, 0.5683, 0.2602, 0.1545, 0.0416, 0.4512, 0.5099, 0.5607, 0.1017, 0.3908, 0.4667, 0.1065, 1.3167, 1.3167, 1.3166, 1.3166, 1.3165, 1.3165, 1.3165, 1.3165, 1.3165, 1.3164, 1.3164, 1.3164, 1.3163, 1.3163, 1.3163, 1.3163, 1.3162, 1.3161, 1.316, 1.316, 1.3159, 1.3159, 1.3159, 1.3159, 1.3159, 1.3158, 1.3158, 1.3157, 1.3157, 1.3157, 1.301, 1.2329, 1.2476, 1.2377, 1.2619, 1.2492, 1.2883, 1.2043, 1.0514, 1.0044, 0.9923, 0.4058, 1.1879, 1.0562, 0.9802, 0.6352, 0.9287, 0.5135, 0.3334, 1.3273, 1.3273, 1.3272, 1.3271, 1.3271, 1.3271, 1.327, 1.327, 1.327, 1.327, 1.3269, 1.3269, 1.3269, 1.3269, 1.3269, 1.3269, 1.3268, 1.3268, 1.3267, 1.3267, 1.3267, 1.3267, 1.3267, 1.3267, 1.3266, 1.3265, 1.3265, 1.3265, 1.3264, 1.3264, 1.3215, 1.2481, 1.3178, 1.3004, 1.2255, 1.1892, 1.2486, 1.2217, 1.1696, 1.2294, 1.0412, 0.9297, 1.251, 0.6341, 0.9307, 0.2858, 0.1295, 0.1237, 0.9434]}, \"token.table\": {\"Topic\": [1, 2, 1, 2, 3, 1, 2, 1, 3, 1, 2, 3, 2, 2, 3, 1, 3, 3, 1, 3, 3, 2, 1, 2, 3, 1, 2, 3, 1, 2, 3, 1, 2, 2, 2, 2, 3, 1, 1, 2, 3, 3, 1, 2, 3, 2, 3, 1, 1, 2, 3, 1, 2, 1, 1, 2, 3, 1, 2, 3, 3, 3, 2, 1, 3, 3, 1, 2, 2, 1, 1, 1, 1, 1, 1, 1, 2, 3, 2, 2, 3, 2, 3, 2, 2, 1, 3, 1, 2, 3, 3, 1, 2, 1, 2, 3, 2, 3, 1, 3, 1, 2, 2, 3, 3, 1, 2, 3, 3, 1, 3, 1, 3, 2, 3, 2, 3, 2, 1, 2, 3, 2, 2, 1, 2, 3, 2, 1, 2, 3, 1, 3, 1, 2, 3, 1, 2, 1, 2, 1, 2, 3, 1, 2, 3, 3, 2, 3, 1, 2, 3, 1, 1, 2, 3, 1, 2, 3, 1, 2, 2, 3, 1, 2, 2, 1, 1, 1, 1, 2, 3, 1, 2, 3, 1, 2, 3, 3, 1, 2, 1, 2, 3, 1, 1, 1, 2, 3, 3, 1, 3, 1, 2, 3, 1, 2, 3, 1, 2, 3, 1, 3, 2, 1, 2, 3, 1, 1, 1, 2, 3, 1, 2, 3, 2, 3, 1, 2, 3, 3, 2, 2, 1, 2, 3, 1, 2, 3, 1, 3, 1, 2, 3, 1, 2, 3, 3, 1, 1, 1, 1, 1, 2, 3, 1, 2, 3, 3, 2, 3, 2, 3, 2], \"Freq\": [0.7771686710535871, 0.22270341590191317, 0.20098959554311782, 0.7670871874038718, 0.031881108258563516, 0.9995943734486898, 0.999072775077244, 0.9253186990940793, 0.07428513328658626, 0.3299917774495253, 0.5058268121489075, 0.1641356390442373, 0.9994552246355968, 0.9992792435295771, 0.9988059340987466, 0.9408536658151506, 0.05912268962841521, 0.999070200193317, 0.9878336752527862, 0.012301789231043416, 0.9993463062174587, 0.9991090083913566, 0.0010673639280090184, 0.9723685384162157, 0.027751462128234476, 0.22809581675154134, 0.02067227832310436, 0.7512095716056907, 0.08702517191797249, 0.013468181368257648, 0.8997781167947513, 0.9991317797986987, 0.9998393962213301, 0.9998077066375527, 0.9991875018107353, 0.005967998111614074, 0.9939012239726516, 0.9996685557411584, 0.09168905043640317, 0.8934224735975714, 0.014735740248707654, 0.9984285277098355, 0.9676961247220056, 0.0220532389407932, 0.010585554691580736, 0.7227189651502466, 0.27709816471247856, 0.9998163663715852, 0.5193935455786095, 0.18061160252291056, 0.3001180820365729, 0.9997440290317217, 0.9998381042989574, 0.9981813296739818, 0.6901380503727914, 0.30967176206154834, 0.9997056458943215, 0.014005861753898844, 0.9240367292134762, 0.06197593826100239, 0.999385081767329, 0.9997436297785602, 0.9999298037819376, 0.9186306340455064, 0.08149780818836104, 0.9995789102791123, 0.28567095580042157, 0.7141773895010539, 0.9995705500679196, 0.9977918566138149, 0.9986446727248467, 0.9997381917021061, 0.9993764661527271, 0.9992185911016773, 0.9981243948178455, 0.6055846846347747, 0.37399529217349503, 0.020377948612017357, 0.9996089866481795, 0.9332998753712787, 0.06682249898821259, 0.9997503367761019, 0.9990908605575056, 0.9999749491760457, 0.9996061470176156, 0.9988219337738391, 0.9998136307081711, 0.83778061816964, 0.014041015946977205, 0.1482107238847594, 0.9987437199475232, 0.22947613372562992, 0.7704794606194842, 0.34795011991942476, 0.15216326139759917, 0.49985371704842735, 0.009300996820821862, 0.9898918045017553, 0.9983188539573473, 0.9995230444489652, 0.9996922461527487, 0.9990903128895743, 0.9997392660322106, 0.999522477865232, 0.9997894887975067, 0.8994121626840762, 0.1006286756089437, 0.9993209602737976, 0.9998366504176415, 0.07305400280959777, 0.9266323514270034, 0.9992393905364214, 0.9996849094823945, 0.9994996628469021, 0.9997236095951699, 0.9998483739804326, 0.9985179667146152, 0.9993166897343224, 0.8976804569800875, 0.07812149286293775, 0.024009816613838667, 0.9992577201820609, 0.9997381971936594, 0.5448794557396877, 0.10239606778102026, 0.3529354959828702, 0.9984977574554749, 0.8243791257136458, 0.07278302190985342, 0.10298550038945245, 0.026818333941962882, 0.9734061949305046, 0.05968774512204327, 0.037196710728229866, 0.9031015348900461, 0.8177079779367693, 0.18197045008656665, 0.9998110011794856, 0.9993423924199601, 0.0358506750626364, 0.09334704072912875, 0.8709008328895164, 0.9148258935046579, 0.05044367076334095, 0.034769083802980764, 0.9983073815014276, 0.07593638691357928, 0.9243291234652926, 0.4866661116994544, 0.4021499491421647, 0.1111203806840192, 0.9997244824751984, 0.992528914564461, 0.007049211040940774, 0.9988539722289883, 0.01675786710378245, 0.059539716062850585, 0.9236542044849503, 0.9918063117082788, 0.008107408542574487, 0.946525340130875, 0.05296553911199761, 0.9007053299027534, 0.09922090537484432, 0.9996772310374519, 0.9993960588261684, 0.9990205370307257, 0.9997096875655342, 0.9996528621956335, 0.14610030760170448, 0.8537127974192931, 0.9994600269204622, 0.9838481477847945, 0.01563318031437703, 0.9470285392459775, 0.019336738102134002, 0.03348557085979303, 0.9995814437182601, 0.9522520395768537, 0.047255953274881315, 0.06485792298461215, 0.9347564570359567, 0.9995007824853106, 0.9990851479054725, 0.9993877658115483, 0.30820942677950286, 0.01936684010284129, 0.6723060207129191, 0.9990235059551253, 0.9809287672365483, 0.018639976574566237, 0.9376163108408132, 0.054484208869327394, 0.008131971473033938, 0.9865955911576381, 0.0032312082679835305, 0.010770694226611768, 0.9772473294018119, 0.02282621499332699, 0.9992074917229052, 0.9741191684967236, 0.025932182642574894, 0.9994875935776398, 0.38406888442382037, 0.44798218804342854, 0.1681774026119643, 0.9996701814458848, 0.9998766811451825, 0.5167927411659194, 0.18129682929790683, 0.3017312591992447, 0.02687782191565995, 0.8791648845961029, 0.09363886344810564, 0.9997040962337849, 0.9996624930839145, 0.24084681113794484, 0.7315685484625362, 0.027375574663805097, 0.9992873364675899, 0.9987529193827154, 0.9996285871677718, 0.30977511696376375, 0.008909461328603825, 0.6812311200486308, 0.28559875750860975, 0.6785695669813343, 0.0359723625869623, 0.9828329607800371, 0.017043346140694287, 0.7329817876758906, 0.014380736619087033, 0.2523165606803452, 0.09679576133149709, 0.23140236693311023, 0.671823080991422, 0.9996674655166434, 0.9996549657479589, 0.9994139651455286, 0.9992479092815579, 0.9985067766845697, 0.04678393061549383, 0.04678393061549383, 0.9062500107936788, 0.7446332015984956, 0.1538908616636891, 0.10176653755179439, 0.9990368392040703, 0.9992228966021831, 0.999614190311925, 0.9195532975616619, 0.08043429924645358, 0.999752245148619], \"Term\": [\"acara\", \"acara\", \"agustus\", \"agustus\", \"agustus\", \"album\", \"allah\", \"amerika\", \"amerika\", \"anak\", \"anak\", \"anak\", \"arab\", \"arafah\", \"arsenal\", \"as\", \"as\", \"babak\", \"bank\", \"bank\", \"barcelona\", \"bella\", \"berangkat\", \"berangkat\", \"berangkat\", \"berhasil\", \"berhasil\", \"berhasil\", \"bermain\", \"bermain\", \"bermain\", \"bi\", \"bin\", \"binti\", \"bojonegoro\", \"bola\", \"bola\", \"bumn\", \"calon\", \"calon\", \"calon\", \"champions\", \"dana\", \"dana\", \"dana\", \"darah\", \"darah\", \"dolar\", \"dunia\", \"dunia\", \"dunia\", \"ekonomi\", \"embarkasi\", \"festival\", \"film\", \"film\", \"gamat\", \"gangguan\", \"gangguan\", \"gangguan\", \"gawang\", \"gol\", \"haji\", \"harga\", \"harga\", \"herbal\", \"hotel\", \"hotel\", \"ibadah\", \"ihsg\", \"indeks\", \"industri\", \"infrastruktur\", \"investasi\", \"iphone\", \"jakarta\", \"jakarta\", \"jakarta\", \"jamaah\", \"jantung\", \"jantung\", \"jeddah\", \"jelly\", \"jemaah\", \"jks\", \"jokowi\", \"juara\", \"juta\", \"juta\", \"juta\", \"juventus\", \"kabupaten\", \"kabupaten\", \"kali\", \"kali\", \"kali\", \"kanker\", \"kanker\", \"kapal\", \"kemenangan\", \"keuangan\", \"kkhi\", \"kloter\", \"klub\", \"laga\", \"lagu\", \"lagu\", \"league\", \"liga\", \"lini\", \"lini\", \"listrik\", \"liverpool\", \"madinah\", \"madrid\", \"makkah\", \"manchester\", \"masjid\", \"masyarakat\", \"masyarakat\", \"masyarakat\", \"mch\", \"mekkah\", \"memiliki\", \"memiliki\", \"memiliki\", \"menag\", \"mencapai\", \"mencapai\", \"mencapai\", \"mencetak\", \"mencetak\", \"menit\", \"menit\", \"menit\", \"menteri\", \"menteri\", \"miliar\", \"mina\", \"musim\", \"musim\", \"musim\", \"negara\", \"negara\", \"negara\", \"neymar\", \"obat\", \"obat\", \"orang\", \"orang\", \"orang\", \"pajak\", \"pasar\", \"pasar\", \"pelatih\", \"pemain\", \"pemain\", \"pemain\", \"pembangunan\", \"pembangunan\", \"pembuluh\", \"pembuluh\", \"pemerintah\", \"pemerintah\", \"pemondokan\", \"pendapatan\", \"pengembangan\", \"pengguna\", \"penjualan\", \"penyakit\", \"penyakit\", \"perdagangan\", \"pernafasan\", \"pernafasan\", \"persen\", \"persen\", \"persen\", \"pertandingan\", \"perusahaan\", \"perusahaan\", \"petugas\", \"petugas\", \"piala\", \"pln\", \"ponsel\", \"posisi\", \"posisi\", \"posisi\", \"premier\", \"presiden\", \"presiden\", \"program\", \"program\", \"program\", \"proyek\", \"proyek\", \"proyek\", \"pt\", \"pt\", \"qnc\", \"rp\", \"rp\", \"rsas\", \"rumah\", \"rumah\", \"rumah\", \"rupiah\", \"saham\", \"salah\", \"salah\", \"salah\", \"saluran\", \"saluran\", \"saluran\", \"saudi\", \"sepak\", \"september\", \"september\", \"september\", \"skor\", \"soc\", \"sub\", \"tampil\", \"tampil\", \"tampil\", \"tanah\", \"tanah\", \"tanah\", \"teknologi\", \"teknologi\", \"the\", \"the\", \"the\", \"tim\", \"tim\", \"tim\", \"timnas\", \"tol\", \"transaksi\", \"triliun\", \"trump\", \"tubuh\", \"tubuh\", \"tubuh\", \"uang\", \"uang\", \"uang\", \"umpan\", \"umrah\", \"united\", \"usia\", \"usia\", \"wafat\"]}, \"R\": 30, \"lambda.step\": 0.01, \"plot.opts\": {\"xlab\": \"PC1\", \"ylab\": \"PC2\"}, \"topic.order\": [3, 2, 1]};\n",
              "\n",
              "function LDAvis_load_lib(url, callback){\n",
              "  var s = document.createElement('script');\n",
              "  s.src = url;\n",
              "  s.async = true;\n",
              "  s.onreadystatechange = s.onload = callback;\n",
              "  s.onerror = function(){console.warn(\"failed to load library \" + url);};\n",
              "  document.getElementsByTagName(\"head\")[0].appendChild(s);\n",
              "}\n",
              "\n",
              "if(typeof(LDAvis) !== \"undefined\"){\n",
              "   // already loaded: just create the visualization\n",
              "   !function(LDAvis){\n",
              "       new LDAvis(\"#\" + \"ldavis_el3531357105297720489364460388\", ldavis_el3531357105297720489364460388_data);\n",
              "   }(LDAvis);\n",
              "}else if(typeof define === \"function\" && define.amd){\n",
              "   // require.js is available: use it to load d3/LDAvis\n",
              "   require.config({paths: {d3: \"https://d3js.org/d3.v5\"}});\n",
              "   require([\"d3\"], function(d3){\n",
              "      window.d3 = d3;\n",
              "      LDAvis_load_lib(\"https://cdn.jsdelivr.net/gh/bmabey/pyLDAvis/pyLDAvis/js/ldavis.v3.0.0.js\", function(){\n",
              "        new LDAvis(\"#\" + \"ldavis_el3531357105297720489364460388\", ldavis_el3531357105297720489364460388_data);\n",
              "      });\n",
              "    });\n",
              "}else{\n",
              "    // require.js not available: dynamically load d3 & LDAvis\n",
              "    LDAvis_load_lib(\"https://d3js.org/d3.v5.js\", function(){\n",
              "         LDAvis_load_lib(\"https://cdn.jsdelivr.net/gh/bmabey/pyLDAvis/pyLDAvis/js/ldavis.v3.0.0.js\", function(){\n",
              "                 new LDAvis(\"#\" + \"ldavis_el3531357105297720489364460388\", ldavis_el3531357105297720489364460388_data);\n",
              "            })\n",
              "         });\n",
              "}\n",
              "</script>"
            ]
          },
          "metadata": {},
          "execution_count": 175
        }
      ]
    },
    {
      "cell_type": "code",
      "source": [
        "from sklearn.feature_extraction.text import TfidfVectorizer\n"
      ],
      "metadata": {
        "colab": {
          "base_uri": "https://localhost:8080/"
        },
        "id": "a6gOojo7071L",
        "outputId": "6406421f-9770-4ee4-a9fe-570328e70ddc"
      },
      "execution_count": null,
      "outputs": [
        {
          "output_type": "stream",
          "name": "stderr",
          "text": [
            "/usr/local/lib/python3.10/dist-packages/ipykernel/ipkernel.py:283: DeprecationWarning: `should_run_async` will not call `transform_cell` automatically in the future. Please pass the result to `transformed_cell` argument and any exception that happen during thetransform in `preprocessing_exc_tuple` in IPython 7.17 and above.\n",
            "  and should_run_async(code)\n"
          ]
        }
      ]
    },
    {
      "cell_type": "code",
      "source": [
        "!pip install scikit-learn\n"
      ],
      "metadata": {
        "colab": {
          "base_uri": "https://localhost:8080/"
        },
        "id": "rgCAyPO90860",
        "outputId": "79be10d9-5af9-4743-e05f-b78149585f7a"
      },
      "execution_count": null,
      "outputs": [
        {
          "output_type": "stream",
          "name": "stderr",
          "text": [
            "/usr/local/lib/python3.10/dist-packages/ipykernel/ipkernel.py:283: DeprecationWarning: `should_run_async` will not call `transform_cell` automatically in the future. Please pass the result to `transformed_cell` argument and any exception that happen during thetransform in `preprocessing_exc_tuple` in IPython 7.17 and above.\n",
            "  and should_run_async(code)\n"
          ]
        },
        {
          "output_type": "stream",
          "name": "stdout",
          "text": [
            "Requirement already satisfied: scikit-learn in /usr/local/lib/python3.10/dist-packages (1.4.0)\n",
            "Requirement already satisfied: numpy<2.0,>=1.19.5 in /usr/local/lib/python3.10/dist-packages (from scikit-learn) (1.26.3)\n",
            "Requirement already satisfied: scipy>=1.6.0 in /usr/local/lib/python3.10/dist-packages (from scikit-learn) (1.11.4)\n",
            "Requirement already satisfied: joblib>=1.2.0 in /usr/local/lib/python3.10/dist-packages (from scikit-learn) (1.3.2)\n",
            "Requirement already satisfied: threadpoolctl>=2.0.0 in /usr/local/lib/python3.10/dist-packages (from scikit-learn) (3.2.0)\n",
            "\u001b[33mWARNING: Running pip as the 'root' user can result in broken permissions and conflicting behaviour with the system package manager. It is recommended to use a virtual environment instead: https://pip.pypa.io/warnings/venv\u001b[0m\u001b[33m\n",
            "\u001b[0m"
          ]
        }
      ]
    },
    {
      "cell_type": "code",
      "source": [
        "import sys\n",
        "!{sys.executable} -m pip install scikit-learn\n"
      ],
      "metadata": {
        "colab": {
          "base_uri": "https://localhost:8080/"
        },
        "id": "3pw_XsuH089C",
        "outputId": "98f5fdac-e0b3-4b00-baac-80a5ecc388fb"
      },
      "execution_count": null,
      "outputs": [
        {
          "output_type": "stream",
          "name": "stderr",
          "text": [
            "/usr/local/lib/python3.10/dist-packages/ipykernel/ipkernel.py:283: DeprecationWarning: `should_run_async` will not call `transform_cell` automatically in the future. Please pass the result to `transformed_cell` argument and any exception that happen during thetransform in `preprocessing_exc_tuple` in IPython 7.17 and above.\n",
            "  and should_run_async(code)\n"
          ]
        },
        {
          "output_type": "stream",
          "name": "stdout",
          "text": [
            "Requirement already satisfied: scikit-learn in /usr/local/lib/python3.10/dist-packages (1.4.0)\n",
            "Requirement already satisfied: numpy<2.0,>=1.19.5 in /usr/local/lib/python3.10/dist-packages (from scikit-learn) (1.26.3)\n",
            "Requirement already satisfied: scipy>=1.6.0 in /usr/local/lib/python3.10/dist-packages (from scikit-learn) (1.11.4)\n",
            "Requirement already satisfied: joblib>=1.2.0 in /usr/local/lib/python3.10/dist-packages (from scikit-learn) (1.3.2)\n",
            "Requirement already satisfied: threadpoolctl>=2.0.0 in /usr/local/lib/python3.10/dist-packages (from scikit-learn) (3.2.0)\n",
            "\u001b[33mWARNING: Running pip as the 'root' user can result in broken permissions and conflicting behaviour with the system package manager. It is recommended to use a virtual environment instead: https://pip.pypa.io/warnings/venv\u001b[0m\u001b[33m\n",
            "\u001b[0m"
          ]
        }
      ]
    },
    {
      "cell_type": "code",
      "source": [
        "data"
      ],
      "metadata": {
        "colab": {
          "base_uri": "https://localhost:8080/",
          "height": 827
        },
        "id": "562ER7g01ZiP",
        "outputId": "dd65b167-351b-4dde-fddd-f5f6d7cfcce8"
      },
      "execution_count": null,
      "outputs": [
        {
          "output_type": "stream",
          "name": "stderr",
          "text": [
            "/usr/local/lib/python3.10/dist-packages/ipykernel/ipkernel.py:283: DeprecationWarning: `should_run_async` will not call `transform_cell` automatically in the future. Please pass the result to `transformed_cell` argument and any exception that happen during thetransform in `preprocessing_exc_tuple` in IPython 7.17 and above.\n",
            "  and should_run_async(code)\n"
          ]
        },
        {
          "output_type": "execute_result",
          "data": {
            "text/plain": [
              "      article_id  article_topic  \\\n",
              "0       93205794  Internasional   \n",
              "1       93186698        Ekonomi   \n",
              "2       93191463      Teknologi   \n",
              "3       93219292        Ekonomi   \n",
              "4         343106        Hiburan   \n",
              "...          ...            ...   \n",
              "9995    93221319     Bojonegoro   \n",
              "9996    93203115        Ekonomi   \n",
              "9997    93230854     Sepak Bola   \n",
              "9998    93199312     Sepak Bola   \n",
              "9999    93194682      Teknologi   \n",
              "\n",
              "                                        article_content  \\\n",
              "0      Kepolisian Inggris tengah memburu pelaku yang...   \n",
              "1      Seluruh layanan transaksi di jalan tol akan m...   \n",
              "2      \\nHari ini, Rabu (23/8), ternyata menjadi har...   \n",
              "3      Saat ini Indonesia hanya memiliki cadangan ba...   \n",
              "4      Hari ini, Selasa (1/8), pedangdut Ridho Rhoma...   \n",
              "...                                                 ...   \n",
              "9995    Reporter : Joel JokoblokBojonegoro.com - Har...   \n",
              "9996   Pada akhir tahun ini, Direktur Jenderal (Dirj...   \n",
              "9997   Ketika pertama kali datang ke Barcelona pada ...   \n",
              "9998   Tim Nasional (Timnas) Indonesia U-19 berhasil...   \n",
              "9999   Telkom masih melakukan proses perbaikan dan p...   \n",
              "\n",
              "                                        cleaned_content  \\\n",
              "0      kepolisian inggris tengah memburu pelaku yang...   \n",
              "1      seluruh layanan transaksi di jalan tol akan m...   \n",
              "2      \\nhari ini rabu  ternyata menjadi hari yang s...   \n",
              "3      saat ini indonesia hanya memiliki cadangan ba...   \n",
              "4      hari ini selasa  pedangdut ridho rhoma kembal...   \n",
              "...                                                 ...   \n",
              "9995    reporter  joel jokoblokbojonegorocom  hari i...   \n",
              "9996   pada akhir tahun ini direktur jenderal dirjen...   \n",
              "9997   ketika pertama kali datang ke barcelona pada ...   \n",
              "9998   tim nasional timnas indonesia u berhasil mera...   \n",
              "9999   telkom masih melakukan proses perbaikan dan p...   \n",
              "\n",
              "                                          final_content  \\\n",
              "0     kepolisian inggris memburu pelaku meledakkan b...   \n",
              "1     layanan transaksi jalan tol sistem nontunai ok...   \n",
              "2     rabu spesial tagar hashtag agustus menandai pa...   \n",
              "3     indonesia memiliki cadangan bahan bakar minyak...   \n",
              "4     selasa pedangdut ridho rhoma menjalani sidang ...   \n",
              "...                                                 ...   \n",
              "9995  reporter joel jokoblokbojonegorocom pawai buda...   \n",
              "9996  direktur jenderal dirjen pajak kementerian keu...   \n",
              "9997  kali barcelona neymar neymar neymar pemain mud...   \n",
              "9998  tim nasional timnas indonesia  berhasil meraih...   \n",
              "9999  telkom proses perbaikan pemulihan salah sateli...   \n",
              "\n",
              "                                   final_content_tokens  \\\n",
              "0     [kepolisian, inggris, memburu, pelaku, meledak...   \n",
              "1     [layanan, transaksi, jalan, tol, sistem, nontu...   \n",
              "2     [rabu, spesial, tagar, hashtag, agustus, menan...   \n",
              "3     [indonesia, memiliki, cadangan, bahan, bakar, ...   \n",
              "4     [selasa, pedangdut, ridho, rhoma, menjalani, s...   \n",
              "...                                                 ...   \n",
              "9995  [reporter, joel, jokoblokbojonegorocom, pawai,...   \n",
              "9996  [direktur, jenderal, dirjen, pajak, kementeria...   \n",
              "9997  [kali, barcelona, neymar, neymar, neymar, pema...   \n",
              "9998  [tim, nasional, timnas, indonesia, berhasil, m...   \n",
              "9999  [telkom, proses, perbaikan, pemulihan, salah, ...   \n",
              "\n",
              "                             final_content_tokens_fdist  \\\n",
              "0     {'kepolisian': 5, 'inggris': 3, 'memburu': 1, ...   \n",
              "1     {'layanan': 3, 'transaksi': 5, 'jalan': 9, 'to...   \n",
              "2     {'rabu': 1, 'spesial': 1, 'tagar': 10, 'hashta...   \n",
              "3     {'indonesia': 4, 'memiliki': 1, 'cadangan': 17...   \n",
              "4     {'selasa': 2, 'pedangdut': 1, 'ridho': 7, 'rho...   \n",
              "...                                                 ...   \n",
              "9995  {'reporter': 1, 'joel': 1, 'jokoblokbojonegoro...   \n",
              "9996  {'direktur': 2, 'jenderal': 6, 'dirjen': 5, 'p...   \n",
              "9997  {'kali': 1, 'barcelona': 3, 'neymar': 14, 'pem...   \n",
              "9998  {'tim': 3, 'nasional': 1, 'timnas': 5, 'indone...   \n",
              "9999  {'telkom': 24, 'proses': 5, 'perbaikan': 1, 'p...   \n",
              "\n",
              "                               final_content_tokens_WSW  \n",
              "0     [kepolisian, inggris, memburu, pelaku, meledak...  \n",
              "1     [layanan, transaksi, jalan, tol, sistem, nontu...  \n",
              "2     [rabu, spesial, tagar, hashtag, agustus, menan...  \n",
              "3     [memiliki, cadangan, bahan, bakar, minyak, bbm...  \n",
              "4     [selasa, pedangdut, ridho, rhoma, menjalani, s...  \n",
              "...                                                 ...  \n",
              "9995  [reporter, joel, jokoblokbojonegorocom, pawai,...  \n",
              "9996  [direktur, jenderal, dirjen, pajak, kementeria...  \n",
              "9997  [kali, barcelona, neymar, neymar, neymar, pema...  \n",
              "9998  [tim, nasional, timnas, berhasil, meraih, keme...  \n",
              "9999  [telkom, proses, perbaikan, pemulihan, salah, ...  \n",
              "\n",
              "[9964 rows x 8 columns]"
            ],
            "text/html": [
              "\n",
              "  <div id=\"df-bbfb441c-2448-4c6f-82c1-02e05ef099b7\" class=\"colab-df-container\">\n",
              "    <div>\n",
              "<style scoped>\n",
              "    .dataframe tbody tr th:only-of-type {\n",
              "        vertical-align: middle;\n",
              "    }\n",
              "\n",
              "    .dataframe tbody tr th {\n",
              "        vertical-align: top;\n",
              "    }\n",
              "\n",
              "    .dataframe thead th {\n",
              "        text-align: right;\n",
              "    }\n",
              "</style>\n",
              "<table border=\"1\" class=\"dataframe\">\n",
              "  <thead>\n",
              "    <tr style=\"text-align: right;\">\n",
              "      <th></th>\n",
              "      <th>article_id</th>\n",
              "      <th>article_topic</th>\n",
              "      <th>article_content</th>\n",
              "      <th>cleaned_content</th>\n",
              "      <th>final_content</th>\n",
              "      <th>final_content_tokens</th>\n",
              "      <th>final_content_tokens_fdist</th>\n",
              "      <th>final_content_tokens_WSW</th>\n",
              "    </tr>\n",
              "  </thead>\n",
              "  <tbody>\n",
              "    <tr>\n",
              "      <th>0</th>\n",
              "      <td>93205794</td>\n",
              "      <td>Internasional</td>\n",
              "      <td>Kepolisian Inggris tengah memburu pelaku yang...</td>\n",
              "      <td>kepolisian inggris tengah memburu pelaku yang...</td>\n",
              "      <td>kepolisian inggris memburu pelaku meledakkan b...</td>\n",
              "      <td>[kepolisian, inggris, memburu, pelaku, meledak...</td>\n",
              "      <td>{'kepolisian': 5, 'inggris': 3, 'memburu': 1, ...</td>\n",
              "      <td>[kepolisian, inggris, memburu, pelaku, meledak...</td>\n",
              "    </tr>\n",
              "    <tr>\n",
              "      <th>1</th>\n",
              "      <td>93186698</td>\n",
              "      <td>Ekonomi</td>\n",
              "      <td>Seluruh layanan transaksi di jalan tol akan m...</td>\n",
              "      <td>seluruh layanan transaksi di jalan tol akan m...</td>\n",
              "      <td>layanan transaksi jalan tol sistem nontunai ok...</td>\n",
              "      <td>[layanan, transaksi, jalan, tol, sistem, nontu...</td>\n",
              "      <td>{'layanan': 3, 'transaksi': 5, 'jalan': 9, 'to...</td>\n",
              "      <td>[layanan, transaksi, jalan, tol, sistem, nontu...</td>\n",
              "    </tr>\n",
              "    <tr>\n",
              "      <th>2</th>\n",
              "      <td>93191463</td>\n",
              "      <td>Teknologi</td>\n",
              "      <td>\\nHari ini, Rabu (23/8), ternyata menjadi har...</td>\n",
              "      <td>\\nhari ini rabu  ternyata menjadi hari yang s...</td>\n",
              "      <td>rabu spesial tagar hashtag agustus menandai pa...</td>\n",
              "      <td>[rabu, spesial, tagar, hashtag, agustus, menan...</td>\n",
              "      <td>{'rabu': 1, 'spesial': 1, 'tagar': 10, 'hashta...</td>\n",
              "      <td>[rabu, spesial, tagar, hashtag, agustus, menan...</td>\n",
              "    </tr>\n",
              "    <tr>\n",
              "      <th>3</th>\n",
              "      <td>93219292</td>\n",
              "      <td>Ekonomi</td>\n",
              "      <td>Saat ini Indonesia hanya memiliki cadangan ba...</td>\n",
              "      <td>saat ini indonesia hanya memiliki cadangan ba...</td>\n",
              "      <td>indonesia memiliki cadangan bahan bakar minyak...</td>\n",
              "      <td>[indonesia, memiliki, cadangan, bahan, bakar, ...</td>\n",
              "      <td>{'indonesia': 4, 'memiliki': 1, 'cadangan': 17...</td>\n",
              "      <td>[memiliki, cadangan, bahan, bakar, minyak, bbm...</td>\n",
              "    </tr>\n",
              "    <tr>\n",
              "      <th>4</th>\n",
              "      <td>343106</td>\n",
              "      <td>Hiburan</td>\n",
              "      <td>Hari ini, Selasa (1/8), pedangdut Ridho Rhoma...</td>\n",
              "      <td>hari ini selasa  pedangdut ridho rhoma kembal...</td>\n",
              "      <td>selasa pedangdut ridho rhoma menjalani sidang ...</td>\n",
              "      <td>[selasa, pedangdut, ridho, rhoma, menjalani, s...</td>\n",
              "      <td>{'selasa': 2, 'pedangdut': 1, 'ridho': 7, 'rho...</td>\n",
              "      <td>[selasa, pedangdut, ridho, rhoma, menjalani, s...</td>\n",
              "    </tr>\n",
              "    <tr>\n",
              "      <th>...</th>\n",
              "      <td>...</td>\n",
              "      <td>...</td>\n",
              "      <td>...</td>\n",
              "      <td>...</td>\n",
              "      <td>...</td>\n",
              "      <td>...</td>\n",
              "      <td>...</td>\n",
              "      <td>...</td>\n",
              "    </tr>\n",
              "    <tr>\n",
              "      <th>9995</th>\n",
              "      <td>93221319</td>\n",
              "      <td>Bojonegoro</td>\n",
              "      <td>Reporter : Joel JokoblokBojonegoro.com - Har...</td>\n",
              "      <td>reporter  joel jokoblokbojonegorocom  hari i...</td>\n",
              "      <td>reporter joel jokoblokbojonegorocom pawai buda...</td>\n",
              "      <td>[reporter, joel, jokoblokbojonegorocom, pawai,...</td>\n",
              "      <td>{'reporter': 1, 'joel': 1, 'jokoblokbojonegoro...</td>\n",
              "      <td>[reporter, joel, jokoblokbojonegorocom, pawai,...</td>\n",
              "    </tr>\n",
              "    <tr>\n",
              "      <th>9996</th>\n",
              "      <td>93203115</td>\n",
              "      <td>Ekonomi</td>\n",
              "      <td>Pada akhir tahun ini, Direktur Jenderal (Dirj...</td>\n",
              "      <td>pada akhir tahun ini direktur jenderal dirjen...</td>\n",
              "      <td>direktur jenderal dirjen pajak kementerian keu...</td>\n",
              "      <td>[direktur, jenderal, dirjen, pajak, kementeria...</td>\n",
              "      <td>{'direktur': 2, 'jenderal': 6, 'dirjen': 5, 'p...</td>\n",
              "      <td>[direktur, jenderal, dirjen, pajak, kementeria...</td>\n",
              "    </tr>\n",
              "    <tr>\n",
              "      <th>9997</th>\n",
              "      <td>93230854</td>\n",
              "      <td>Sepak Bola</td>\n",
              "      <td>Ketika pertama kali datang ke Barcelona pada ...</td>\n",
              "      <td>ketika pertama kali datang ke barcelona pada ...</td>\n",
              "      <td>kali barcelona neymar neymar neymar pemain mud...</td>\n",
              "      <td>[kali, barcelona, neymar, neymar, neymar, pema...</td>\n",
              "      <td>{'kali': 1, 'barcelona': 3, 'neymar': 14, 'pem...</td>\n",
              "      <td>[kali, barcelona, neymar, neymar, neymar, pema...</td>\n",
              "    </tr>\n",
              "    <tr>\n",
              "      <th>9998</th>\n",
              "      <td>93199312</td>\n",
              "      <td>Sepak Bola</td>\n",
              "      <td>Tim Nasional (Timnas) Indonesia U-19 berhasil...</td>\n",
              "      <td>tim nasional timnas indonesia u berhasil mera...</td>\n",
              "      <td>tim nasional timnas indonesia  berhasil meraih...</td>\n",
              "      <td>[tim, nasional, timnas, indonesia, berhasil, m...</td>\n",
              "      <td>{'tim': 3, 'nasional': 1, 'timnas': 5, 'indone...</td>\n",
              "      <td>[tim, nasional, timnas, berhasil, meraih, keme...</td>\n",
              "    </tr>\n",
              "    <tr>\n",
              "      <th>9999</th>\n",
              "      <td>93194682</td>\n",
              "      <td>Teknologi</td>\n",
              "      <td>Telkom masih melakukan proses perbaikan dan p...</td>\n",
              "      <td>telkom masih melakukan proses perbaikan dan p...</td>\n",
              "      <td>telkom proses perbaikan pemulihan salah sateli...</td>\n",
              "      <td>[telkom, proses, perbaikan, pemulihan, salah, ...</td>\n",
              "      <td>{'telkom': 24, 'proses': 5, 'perbaikan': 1, 'p...</td>\n",
              "      <td>[telkom, proses, perbaikan, pemulihan, salah, ...</td>\n",
              "    </tr>\n",
              "  </tbody>\n",
              "</table>\n",
              "<p>9964 rows × 8 columns</p>\n",
              "</div>\n",
              "    <div class=\"colab-df-buttons\">\n",
              "\n",
              "  <div class=\"colab-df-container\">\n",
              "    <button class=\"colab-df-convert\" onclick=\"convertToInteractive('df-bbfb441c-2448-4c6f-82c1-02e05ef099b7')\"\n",
              "            title=\"Convert this dataframe to an interactive table.\"\n",
              "            style=\"display:none;\">\n",
              "\n",
              "  <svg xmlns=\"http://www.w3.org/2000/svg\" height=\"24px\" viewBox=\"0 -960 960 960\">\n",
              "    <path d=\"M120-120v-720h720v720H120Zm60-500h600v-160H180v160Zm220 220h160v-160H400v160Zm0 220h160v-160H400v160ZM180-400h160v-160H180v160Zm440 0h160v-160H620v160ZM180-180h160v-160H180v160Zm440 0h160v-160H620v160Z\"/>\n",
              "  </svg>\n",
              "    </button>\n",
              "\n",
              "  <style>\n",
              "    .colab-df-container {\n",
              "      display:flex;\n",
              "      gap: 12px;\n",
              "    }\n",
              "\n",
              "    .colab-df-convert {\n",
              "      background-color: #E8F0FE;\n",
              "      border: none;\n",
              "      border-radius: 50%;\n",
              "      cursor: pointer;\n",
              "      display: none;\n",
              "      fill: #1967D2;\n",
              "      height: 32px;\n",
              "      padding: 0 0 0 0;\n",
              "      width: 32px;\n",
              "    }\n",
              "\n",
              "    .colab-df-convert:hover {\n",
              "      background-color: #E2EBFA;\n",
              "      box-shadow: 0px 1px 2px rgba(60, 64, 67, 0.3), 0px 1px 3px 1px rgba(60, 64, 67, 0.15);\n",
              "      fill: #174EA6;\n",
              "    }\n",
              "\n",
              "    .colab-df-buttons div {\n",
              "      margin-bottom: 4px;\n",
              "    }\n",
              "\n",
              "    [theme=dark] .colab-df-convert {\n",
              "      background-color: #3B4455;\n",
              "      fill: #D2E3FC;\n",
              "    }\n",
              "\n",
              "    [theme=dark] .colab-df-convert:hover {\n",
              "      background-color: #434B5C;\n",
              "      box-shadow: 0px 1px 3px 1px rgba(0, 0, 0, 0.15);\n",
              "      filter: drop-shadow(0px 1px 2px rgba(0, 0, 0, 0.3));\n",
              "      fill: #FFFFFF;\n",
              "    }\n",
              "  </style>\n",
              "\n",
              "    <script>\n",
              "      const buttonEl =\n",
              "        document.querySelector('#df-bbfb441c-2448-4c6f-82c1-02e05ef099b7 button.colab-df-convert');\n",
              "      buttonEl.style.display =\n",
              "        google.colab.kernel.accessAllowed ? 'block' : 'none';\n",
              "\n",
              "      async function convertToInteractive(key) {\n",
              "        const element = document.querySelector('#df-bbfb441c-2448-4c6f-82c1-02e05ef099b7');\n",
              "        const dataTable =\n",
              "          await google.colab.kernel.invokeFunction('convertToInteractive',\n",
              "                                                    [key], {});\n",
              "        if (!dataTable) return;\n",
              "\n",
              "        const docLinkHtml = 'Like what you see? Visit the ' +\n",
              "          '<a target=\"_blank\" href=https://colab.research.google.com/notebooks/data_table.ipynb>data table notebook</a>'\n",
              "          + ' to learn more about interactive tables.';\n",
              "        element.innerHTML = '';\n",
              "        dataTable['output_type'] = 'display_data';\n",
              "        await google.colab.output.renderOutput(dataTable, element);\n",
              "        const docLink = document.createElement('div');\n",
              "        docLink.innerHTML = docLinkHtml;\n",
              "        element.appendChild(docLink);\n",
              "      }\n",
              "    </script>\n",
              "  </div>\n",
              "\n",
              "\n",
              "<div id=\"df-b8f67bc7-aa5b-4139-8081-6f1b6710ae66\">\n",
              "  <button class=\"colab-df-quickchart\" onclick=\"quickchart('df-b8f67bc7-aa5b-4139-8081-6f1b6710ae66')\"\n",
              "            title=\"Suggest charts\"\n",
              "            style=\"display:none;\">\n",
              "\n",
              "<svg xmlns=\"http://www.w3.org/2000/svg\" height=\"24px\"viewBox=\"0 0 24 24\"\n",
              "     width=\"24px\">\n",
              "    <g>\n",
              "        <path d=\"M19 3H5c-1.1 0-2 .9-2 2v14c0 1.1.9 2 2 2h14c1.1 0 2-.9 2-2V5c0-1.1-.9-2-2-2zM9 17H7v-7h2v7zm4 0h-2V7h2v10zm4 0h-2v-4h2v4z\"/>\n",
              "    </g>\n",
              "</svg>\n",
              "  </button>\n",
              "\n",
              "<style>\n",
              "  .colab-df-quickchart {\n",
              "      --bg-color: #E8F0FE;\n",
              "      --fill-color: #1967D2;\n",
              "      --hover-bg-color: #E2EBFA;\n",
              "      --hover-fill-color: #174EA6;\n",
              "      --disabled-fill-color: #AAA;\n",
              "      --disabled-bg-color: #DDD;\n",
              "  }\n",
              "\n",
              "  [theme=dark] .colab-df-quickchart {\n",
              "      --bg-color: #3B4455;\n",
              "      --fill-color: #D2E3FC;\n",
              "      --hover-bg-color: #434B5C;\n",
              "      --hover-fill-color: #FFFFFF;\n",
              "      --disabled-bg-color: #3B4455;\n",
              "      --disabled-fill-color: #666;\n",
              "  }\n",
              "\n",
              "  .colab-df-quickchart {\n",
              "    background-color: var(--bg-color);\n",
              "    border: none;\n",
              "    border-radius: 50%;\n",
              "    cursor: pointer;\n",
              "    display: none;\n",
              "    fill: var(--fill-color);\n",
              "    height: 32px;\n",
              "    padding: 0;\n",
              "    width: 32px;\n",
              "  }\n",
              "\n",
              "  .colab-df-quickchart:hover {\n",
              "    background-color: var(--hover-bg-color);\n",
              "    box-shadow: 0 1px 2px rgba(60, 64, 67, 0.3), 0 1px 3px 1px rgba(60, 64, 67, 0.15);\n",
              "    fill: var(--button-hover-fill-color);\n",
              "  }\n",
              "\n",
              "  .colab-df-quickchart-complete:disabled,\n",
              "  .colab-df-quickchart-complete:disabled:hover {\n",
              "    background-color: var(--disabled-bg-color);\n",
              "    fill: var(--disabled-fill-color);\n",
              "    box-shadow: none;\n",
              "  }\n",
              "\n",
              "  .colab-df-spinner {\n",
              "    border: 2px solid var(--fill-color);\n",
              "    border-color: transparent;\n",
              "    border-bottom-color: var(--fill-color);\n",
              "    animation:\n",
              "      spin 1s steps(1) infinite;\n",
              "  }\n",
              "\n",
              "  @keyframes spin {\n",
              "    0% {\n",
              "      border-color: transparent;\n",
              "      border-bottom-color: var(--fill-color);\n",
              "      border-left-color: var(--fill-color);\n",
              "    }\n",
              "    20% {\n",
              "      border-color: transparent;\n",
              "      border-left-color: var(--fill-color);\n",
              "      border-top-color: var(--fill-color);\n",
              "    }\n",
              "    30% {\n",
              "      border-color: transparent;\n",
              "      border-left-color: var(--fill-color);\n",
              "      border-top-color: var(--fill-color);\n",
              "      border-right-color: var(--fill-color);\n",
              "    }\n",
              "    40% {\n",
              "      border-color: transparent;\n",
              "      border-right-color: var(--fill-color);\n",
              "      border-top-color: var(--fill-color);\n",
              "    }\n",
              "    60% {\n",
              "      border-color: transparent;\n",
              "      border-right-color: var(--fill-color);\n",
              "    }\n",
              "    80% {\n",
              "      border-color: transparent;\n",
              "      border-right-color: var(--fill-color);\n",
              "      border-bottom-color: var(--fill-color);\n",
              "    }\n",
              "    90% {\n",
              "      border-color: transparent;\n",
              "      border-bottom-color: var(--fill-color);\n",
              "    }\n",
              "  }\n",
              "</style>\n",
              "\n",
              "  <script>\n",
              "    async function quickchart(key) {\n",
              "      const quickchartButtonEl =\n",
              "        document.querySelector('#' + key + ' button');\n",
              "      quickchartButtonEl.disabled = true;  // To prevent multiple clicks.\n",
              "      quickchartButtonEl.classList.add('colab-df-spinner');\n",
              "      try {\n",
              "        const charts = await google.colab.kernel.invokeFunction(\n",
              "            'suggestCharts', [key], {});\n",
              "      } catch (error) {\n",
              "        console.error('Error during call to suggestCharts:', error);\n",
              "      }\n",
              "      quickchartButtonEl.classList.remove('colab-df-spinner');\n",
              "      quickchartButtonEl.classList.add('colab-df-quickchart-complete');\n",
              "    }\n",
              "    (() => {\n",
              "      let quickchartButtonEl =\n",
              "        document.querySelector('#df-b8f67bc7-aa5b-4139-8081-6f1b6710ae66 button');\n",
              "      quickchartButtonEl.style.display =\n",
              "        google.colab.kernel.accessAllowed ? 'block' : 'none';\n",
              "    })();\n",
              "  </script>\n",
              "</div>\n",
              "    </div>\n",
              "  </div>\n"
            ]
          },
          "metadata": {},
          "execution_count": 179
        }
      ]
    },
    {
      "cell_type": "code",
      "source": [
        "!pip install cartopy\n",
        "import cartopy"
      ],
      "metadata": {
        "colab": {
          "base_uri": "https://localhost:8080/"
        },
        "id": "xbs9dKMn1o7Q",
        "outputId": "ca0e8dc9-6dc7-4ea7-80b0-2a7b6dc329d8"
      },
      "execution_count": null,
      "outputs": [
        {
          "output_type": "stream",
          "name": "stderr",
          "text": [
            "/usr/local/lib/python3.10/dist-packages/ipykernel/ipkernel.py:283: DeprecationWarning: `should_run_async` will not call `transform_cell` automatically in the future. Please pass the result to `transformed_cell` argument and any exception that happen during thetransform in `preprocessing_exc_tuple` in IPython 7.17 and above.\n",
            "  and should_run_async(code)\n"
          ]
        },
        {
          "output_type": "stream",
          "name": "stdout",
          "text": [
            "Requirement already satisfied: cartopy in /usr/local/lib/python3.10/dist-packages (0.22.0)\n",
            "Requirement already satisfied: numpy>=1.21 in /usr/local/lib/python3.10/dist-packages (from cartopy) (1.26.3)\n",
            "Requirement already satisfied: matplotlib>=3.4 in /usr/local/lib/python3.10/dist-packages (from cartopy) (3.7.1)\n",
            "Requirement already satisfied: shapely>=1.7 in /usr/local/lib/python3.10/dist-packages (from cartopy) (2.0.2)\n",
            "Requirement already satisfied: packaging>=20 in /usr/local/lib/python3.10/dist-packages (from cartopy) (23.2)\n",
            "Requirement already satisfied: pyshp>=2.1 in /usr/local/lib/python3.10/dist-packages (from cartopy) (2.3.1)\n",
            "Requirement already satisfied: pyproj>=3.1.0 in /usr/local/lib/python3.10/dist-packages (from cartopy) (3.6.1)\n",
            "Requirement already satisfied: contourpy>=1.0.1 in /usr/local/lib/python3.10/dist-packages (from matplotlib>=3.4->cartopy) (1.2.0)\n",
            "Requirement already satisfied: cycler>=0.10 in /usr/local/lib/python3.10/dist-packages (from matplotlib>=3.4->cartopy) (0.12.1)\n",
            "Requirement already satisfied: fonttools>=4.22.0 in /usr/local/lib/python3.10/dist-packages (from matplotlib>=3.4->cartopy) (4.47.2)\n",
            "Requirement already satisfied: kiwisolver>=1.0.1 in /usr/local/lib/python3.10/dist-packages (from matplotlib>=3.4->cartopy) (1.4.5)\n",
            "Requirement already satisfied: pillow>=6.2.0 in /usr/local/lib/python3.10/dist-packages (from matplotlib>=3.4->cartopy) (9.4.0)\n",
            "Requirement already satisfied: pyparsing>=2.3.1 in /usr/local/lib/python3.10/dist-packages (from matplotlib>=3.4->cartopy) (3.1.1)\n",
            "Requirement already satisfied: python-dateutil>=2.7 in /usr/local/lib/python3.10/dist-packages (from matplotlib>=3.4->cartopy) (2.8.2)\n",
            "Requirement already satisfied: certifi in /usr/local/lib/python3.10/dist-packages (from pyproj>=3.1.0->cartopy) (2023.11.17)\n",
            "Requirement already satisfied: six>=1.5 in /usr/local/lib/python3.10/dist-packages (from python-dateutil>=2.7->matplotlib>=3.4->cartopy) (1.16.0)\n",
            "\u001b[33mWARNING: Running pip as the 'root' user can result in broken permissions and conflicting behaviour with the system package manager. It is recommended to use a virtual environment instead: https://pip.pypa.io/warnings/venv\u001b[0m\u001b[33m\n",
            "\u001b[0m"
          ]
        }
      ]
    },
    {
      "cell_type": "code",
      "source": [
        "!apt-get -qq install -y libfluidsynth1"
      ],
      "metadata": {
        "colab": {
          "base_uri": "https://localhost:8080/"
        },
        "id": "Q2fx_YH01uGD",
        "outputId": "7aeea706-75e4-4a3c-82c4-7e10d99bc49e"
      },
      "execution_count": null,
      "outputs": [
        {
          "output_type": "stream",
          "name": "stderr",
          "text": [
            "/usr/local/lib/python3.10/dist-packages/ipykernel/ipkernel.py:283: DeprecationWarning: `should_run_async` will not call `transform_cell` automatically in the future. Please pass the result to `transformed_cell` argument and any exception that happen during thetransform in `preprocessing_exc_tuple` in IPython 7.17 and above.\n",
            "  and should_run_async(code)\n"
          ]
        },
        {
          "output_type": "stream",
          "name": "stdout",
          "text": [
            "E: Package 'libfluidsynth1' has no installation candidate\n"
          ]
        }
      ]
    },
    {
      "cell_type": "code",
      "source": [
        "!pip install --upgrade scikit-learn\n"
      ],
      "metadata": {
        "colab": {
          "base_uri": "https://localhost:8080/"
        },
        "id": "1nj7vHRL14d5",
        "outputId": "1ea7f9be-569c-46fc-bfac-e8a608c97e54"
      },
      "execution_count": null,
      "outputs": [
        {
          "output_type": "stream",
          "name": "stderr",
          "text": [
            "/usr/local/lib/python3.10/dist-packages/ipykernel/ipkernel.py:283: DeprecationWarning: `should_run_async` will not call `transform_cell` automatically in the future. Please pass the result to `transformed_cell` argument and any exception that happen during thetransform in `preprocessing_exc_tuple` in IPython 7.17 and above.\n",
            "  and should_run_async(code)\n"
          ]
        },
        {
          "output_type": "stream",
          "name": "stdout",
          "text": [
            "Requirement already satisfied: scikit-learn in /usr/local/lib/python3.10/dist-packages (1.4.0)\n",
            "Requirement already satisfied: numpy<2.0,>=1.19.5 in /usr/local/lib/python3.10/dist-packages (from scikit-learn) (1.26.3)\n",
            "Requirement already satisfied: scipy>=1.6.0 in /usr/local/lib/python3.10/dist-packages (from scikit-learn) (1.11.4)\n",
            "Requirement already satisfied: joblib>=1.2.0 in /usr/local/lib/python3.10/dist-packages (from scikit-learn) (1.3.2)\n",
            "Requirement already satisfied: threadpoolctl>=2.0.0 in /usr/local/lib/python3.10/dist-packages (from scikit-learn) (3.2.0)\n",
            "\u001b[33mWARNING: Running pip as the 'root' user can result in broken permissions and conflicting behaviour with the system package manager. It is recommended to use a virtual environment instead: https://pip.pypa.io/warnings/venv\u001b[0m\u001b[33m\n",
            "\u001b[0m"
          ]
        }
      ]
    },
    {
      "cell_type": "code",
      "source": [
        "# Data preprocessing\n",
        "X = data['final_content']\n",
        "y = data['article_topic']"
      ],
      "metadata": {
        "colab": {
          "base_uri": "https://localhost:8080/"
        },
        "id": "POdHHnLd3i7U",
        "outputId": "dd416c98-cd0c-4f05-dcf7-b2e0d07b182f"
      },
      "execution_count": null,
      "outputs": [
        {
          "output_type": "stream",
          "name": "stderr",
          "text": [
            "/usr/local/lib/python3.10/dist-packages/ipykernel/ipkernel.py:283: DeprecationWarning: `should_run_async` will not call `transform_cell` automatically in the future. Please pass the result to `transformed_cell` argument and any exception that happen during thetransform in `preprocessing_exc_tuple` in IPython 7.17 and above.\n",
            "  and should_run_async(code)\n"
          ]
        }
      ]
    },
    {
      "cell_type": "code",
      "source": [
        "X"
      ],
      "metadata": {
        "colab": {
          "base_uri": "https://localhost:8080/"
        },
        "id": "ClHJ8uts3uXe",
        "outputId": "0d355460-5ce5-4989-ef91-dc6d59b0947c"
      },
      "execution_count": null,
      "outputs": [
        {
          "output_type": "stream",
          "name": "stderr",
          "text": [
            "/usr/local/lib/python3.10/dist-packages/ipykernel/ipkernel.py:283: DeprecationWarning: `should_run_async` will not call `transform_cell` automatically in the future. Please pass the result to `transformed_cell` argument and any exception that happen during thetransform in `preprocessing_exc_tuple` in IPython 7.17 and above.\n",
            "  and should_run_async(code)\n"
          ]
        },
        {
          "output_type": "execute_result",
          "data": {
            "text/plain": [
              "0       kepolisian inggris memburu pelaku meledakkan b...\n",
              "1       layanan transaksi jalan tol sistem nontunai ok...\n",
              "2       rabu spesial tagar hashtag agustus menandai pa...\n",
              "3       indonesia memiliki cadangan bahan bakar minyak...\n",
              "4       selasa pedangdut ridho rhoma menjalani sidang ...\n",
              "                              ...                        \n",
              "9995    reporter joel jokoblokbojonegorocom pawai buda...\n",
              "9996    direktur jenderal dirjen pajak kementerian keu...\n",
              "9997    kali barcelona neymar neymar neymar pemain mud...\n",
              "9998    tim nasional timnas indonesia  berhasil meraih...\n",
              "9999    telkom proses perbaikan pemulihan salah sateli...\n",
              "Name: final_content, Length: 9964, dtype: object"
            ]
          },
          "metadata": {},
          "execution_count": 184
        }
      ]
    },
    {
      "cell_type": "code",
      "source": [
        "y"
      ],
      "metadata": {
        "colab": {
          "base_uri": "https://localhost:8080/"
        },
        "id": "UMSvwI3x3uak",
        "outputId": "0fd49d3b-4aad-4389-8ccb-13c87aa462fb"
      },
      "execution_count": null,
      "outputs": [
        {
          "output_type": "stream",
          "name": "stderr",
          "text": [
            "/usr/local/lib/python3.10/dist-packages/ipykernel/ipkernel.py:283: DeprecationWarning: `should_run_async` will not call `transform_cell` automatically in the future. Please pass the result to `transformed_cell` argument and any exception that happen during thetransform in `preprocessing_exc_tuple` in IPython 7.17 and above.\n",
            "  and should_run_async(code)\n"
          ]
        },
        {
          "output_type": "execute_result",
          "data": {
            "text/plain": [
              "0       Internasional\n",
              "1             Ekonomi\n",
              "2           Teknologi\n",
              "3             Ekonomi\n",
              "4             Hiburan\n",
              "            ...      \n",
              "9995       Bojonegoro\n",
              "9996          Ekonomi\n",
              "9997       Sepak Bola\n",
              "9998       Sepak Bola\n",
              "9999        Teknologi\n",
              "Name: article_topic, Length: 9964, dtype: object"
            ]
          },
          "metadata": {},
          "execution_count": 185
        }
      ]
    },
    {
      "cell_type": "code",
      "source": [
        "# Pembagian data menjadi data latih dan data uji\n",
        "X_train, X_val, y_train, y_val = train_test_split(X, y, test_size=0.2, random_state=42)\n"
      ],
      "metadata": {
        "colab": {
          "base_uri": "https://localhost:8080/"
        },
        "id": "m5ZBH1OW3udD",
        "outputId": "8f1dc990-08f1-4596-b9f5-0eb9ce47bdf7"
      },
      "execution_count": null,
      "outputs": [
        {
          "output_type": "stream",
          "name": "stderr",
          "text": [
            "/usr/local/lib/python3.10/dist-packages/ipykernel/ipkernel.py:283: DeprecationWarning: `should_run_async` will not call `transform_cell` automatically in the future. Please pass the result to `transformed_cell` argument and any exception that happen during thetransform in `preprocessing_exc_tuple` in IPython 7.17 and above.\n",
            "  and should_run_async(code)\n"
          ]
        }
      ]
    },
    {
      "cell_type": "code",
      "source": [
        "from sklearn.feature_extraction.text import TfidfVectorizer # notice the spelling with the f before Vectorizer\n",
        "from sklearn.naive_bayes import MultinomialNB # notice the Caps on the M\n",
        "from sklearn.pipeline import make_pipeline"
      ],
      "metadata": {
        "colab": {
          "base_uri": "https://localhost:8080/"
        },
        "id": "uUZlFF9k4Du1",
        "outputId": "3742e582-437d-4f9f-ae7f-e46f96ea411a"
      },
      "execution_count": null,
      "outputs": [
        {
          "output_type": "stream",
          "name": "stderr",
          "text": [
            "/usr/local/lib/python3.10/dist-packages/ipykernel/ipkernel.py:283: DeprecationWarning: `should_run_async` will not call `transform_cell` automatically in the future. Please pass the result to `transformed_cell` argument and any exception that happen during thetransform in `preprocessing_exc_tuple` in IPython 7.17 and above.\n",
            "  and should_run_async(code)\n"
          ]
        }
      ]
    },
    {
      "cell_type": "code",
      "source": [
        "from sklearn.feature_extraction.text import TfidfVectorizer  # Corrected spelling with the f before Vectorizer\n",
        "from sklearn.naive_bayes import MultinomialNB  # Corrected Caps on the M\n",
        "from sklearn.pipeline import make_pipeline\n",
        "\n",
        "# Data preprocessing\n",
        "X = data['final_content']\n",
        "y = data['article_topic']\n",
        "\n",
        "# Pembagian data menjadi data latih dan data uji\n",
        "X_train, X_val, y_train, y_val = train_test_split(X, y, test_size=0.2, random_state=42)\n",
        "\n",
        "# TF-IDF Vectorization\n",
        "tfidf_vectorizer = TfidfVectorizer(stop_words='english', max_features=5000)  # Corrected spelling with the f before Vectorizer\n",
        "X_train_tfidf = tfidf_vectorizer.fit_transform(X_train)\n",
        "X_val_tfidf = tfidf_vectorizer.transform(X_val)\n",
        "\n"
      ],
      "metadata": {
        "colab": {
          "base_uri": "https://localhost:8080/"
        },
        "id": "XvO-QVno3ufv",
        "outputId": "e8ab8dcd-dbc3-4dd1-c4b6-2e80ed93378d"
      },
      "execution_count": null,
      "outputs": [
        {
          "output_type": "stream",
          "name": "stderr",
          "text": [
            "/usr/local/lib/python3.10/dist-packages/ipykernel/ipkernel.py:283: DeprecationWarning: `should_run_async` will not call `transform_cell` automatically in the future. Please pass the result to `transformed_cell` argument and any exception that happen during thetransform in `preprocessing_exc_tuple` in IPython 7.17 and above.\n",
            "  and should_run_async(code)\n"
          ]
        }
      ]
    },
    {
      "cell_type": "code",
      "source": [
        "# Membuat dan melatih model Naive Bayes\n",
        "model = make_pipeline(MultinomialNB())\n",
        "model.fit(X_train_tfidf, y_train)\n",
        "\n",
        "# Melakukan prediksi pada data uji\n",
        "y_pred = model.predict(X_val_tfidf)\n",
        "\n",
        "# Menghitung akurasi model\n",
        "accuracy = accuracy_score(y_val, y_pred)\n",
        "print(f'Accuracy: {accuracy}')\n",
        "\n",
        "# Save the model\n",
        "joblib.dump(model, 'text_classification_model.joblib')\n"
      ],
      "metadata": {
        "colab": {
          "base_uri": "https://localhost:8080/"
        },
        "id": "ti1iSoR1vkFp",
        "outputId": "65ce3595-7ba0-4957-a3bb-55dd066e7931"
      },
      "execution_count": null,
      "outputs": [
        {
          "output_type": "stream",
          "name": "stdout",
          "text": [
            "Accuracy: 0.772704465629704\n"
          ]
        },
        {
          "output_type": "stream",
          "name": "stderr",
          "text": [
            "/usr/local/lib/python3.10/dist-packages/ipykernel/ipkernel.py:283: DeprecationWarning: `should_run_async` will not call `transform_cell` automatically in the future. Please pass the result to `transformed_cell` argument and any exception that happen during thetransform in `preprocessing_exc_tuple` in IPython 7.17 and above.\n",
            "  and should_run_async(code)\n"
          ]
        },
        {
          "output_type": "execute_result",
          "data": {
            "text/plain": [
              "['text_classification_model.joblib']"
            ]
          },
          "metadata": {},
          "execution_count": 189
        }
      ]
    },
    {
      "cell_type": "code",
      "source": [
        "y_pred\n"
      ],
      "metadata": {
        "colab": {
          "base_uri": "https://localhost:8080/"
        },
        "id": "FUDXMToqvkH7",
        "outputId": "b3c7ef9c-2523-4900-cea4-fd9501ea9f11"
      },
      "execution_count": null,
      "outputs": [
        {
          "output_type": "stream",
          "name": "stderr",
          "text": [
            "/usr/local/lib/python3.10/dist-packages/ipykernel/ipkernel.py:283: DeprecationWarning: `should_run_async` will not call `transform_cell` automatically in the future. Please pass the result to `transformed_cell` argument and any exception that happen during thetransform in `preprocessing_exc_tuple` in IPython 7.17 and above.\n",
            "  and should_run_async(code)\n"
          ]
        },
        {
          "output_type": "execute_result",
          "data": {
            "text/plain": [
              "array(['Ekonomi', 'Lifestyle', 'Sepak Bola', ..., 'Sepak Bola',\n",
              "       'Sepak Bola', 'Teknologi'], dtype='<U13')"
            ]
          },
          "metadata": {},
          "execution_count": 190
        }
      ]
    },
    {
      "cell_type": "code",
      "source": [
        "import pandas as pd\n",
        "\n",
        "# Membuat DataFrame untuk menampilkan hasil prediksi dan label sebenarnya\n",
        "result_df = pd.DataFrame({'Actual': y_val, 'Predicted': y_pred, 'Text': X_val})\n",
        "\n",
        "# Menampilkan 10 baris pertama dari DataFrame\n",
        "print(result_df.head(10))\n"
      ],
      "metadata": {
        "colab": {
          "base_uri": "https://localhost:8080/"
        },
        "id": "yxXwCWfMvkKU",
        "outputId": "15e563ff-4695-4a88-b891-1649465b52b5"
      },
      "execution_count": null,
      "outputs": [
        {
          "output_type": "stream",
          "name": "stdout",
          "text": [
            "          Actual   Predicted  \\\n",
            "5242       Hukum     Ekonomi   \n",
            "9903      Health   Lifestyle   \n",
            "6194  Bojonegoro  Sepak Bola   \n",
            "7571     Hiburan     Hiburan   \n",
            "1212     Hiburan     Hiburan   \n",
            "39     Teknologi     Ekonomi   \n",
            "1159  Sepak Bola  Sepak Bola   \n",
            "4036     Hiburan     Hiburan   \n",
            "2504     Hiburan     Hiburan   \n",
            "9080  Bojonegoro     Hiburan   \n",
            "\n",
            "                                                   Text  \n",
            "5242  kpk menangkap menetapkan orang tersangka dugaa...  \n",
            "9903  selamat situs kumparancom kesempatan kali memb...  \n",
            "6194  kontributor muhammad qomarudinblokbojonegoroco...  \n",
            "7571  pagelaran prambanan jazz festival memanjakan p...  \n",
            "1212  sih bayangan kali mendengar daerah papua daera...  \n",
            "39    ilustrasi bitcoin ethereum foto flickrdua ming...  \n",
            "1159  barcelona berduka salah personel trio msn neym...  \n",
            "4036  eddie redmayne menghadapi beragam kelakuan pen...  \n",
            "2504  mengeluarkan album berjudul untukmu calvin jer...  \n",
            "9080  pengirim didik farkhan alisyahdiblokbojonegoro...  \n"
          ]
        },
        {
          "output_type": "stream",
          "name": "stderr",
          "text": [
            "/usr/local/lib/python3.10/dist-packages/ipykernel/ipkernel.py:283: DeprecationWarning: `should_run_async` will not call `transform_cell` automatically in the future. Please pass the result to `transformed_cell` argument and any exception that happen during thetransform in `preprocessing_exc_tuple` in IPython 7.17 and above.\n",
            "  and should_run_async(code)\n"
          ]
        }
      ]
    },
    {
      "cell_type": "code",
      "source": [
        "from wordcloud import WordCloud\n",
        "import matplotlib.pyplot as plt\n",
        "\n",
        "# Menggabungkan teks dari hasil prediksi dan teks aktual\n",
        "all_text = ' '.join(result_df['Text'])\n",
        "\n",
        "# Membuat WordCloud\n",
        "wordcloud = WordCloud(width=800, height=400, max_words=100, background_color='white').generate(all_text)\n",
        "\n",
        "# Menampilkan WordCloud\n",
        "plt.figure(figsize=(10, 6))\n",
        "plt.imshow(wordcloud, interpolation='bilinear')\n",
        "plt.axis('off')\n",
        "plt.show()\n"
      ],
      "metadata": {
        "colab": {
          "base_uri": "https://localhost:8080/",
          "height": 399
        },
        "id": "rj2MhhnGvkMf",
        "outputId": "10594fa2-0af0-411e-b9ce-9801374b4207"
      },
      "execution_count": null,
      "outputs": [
        {
          "output_type": "stream",
          "name": "stderr",
          "text": [
            "/usr/local/lib/python3.10/dist-packages/ipykernel/ipkernel.py:283: DeprecationWarning: `should_run_async` will not call `transform_cell` automatically in the future. Please pass the result to `transformed_cell` argument and any exception that happen during thetransform in `preprocessing_exc_tuple` in IPython 7.17 and above.\n",
            "  and should_run_async(code)\n"
          ]
        },
        {
          "output_type": "display_data",
          "data": {
            "text/plain": [
              "<Figure size 1000x600 with 1 Axes>"
            ],
            "image/png": "[encoded data removed]"
          },
          "metadata": {}
        }
      ]
    },
    {
      "cell_type": "code",
      "source": [
        "import joblib\n",
        "\n",
        "# Save the model using joblib\n",
        "joblib.dump(model, 'model.pickle')\n"
      ],
      "metadata": {
        "colab": {
          "base_uri": "https://localhost:8080/"
        },
        "id": "ILK-SjgqvkO9",
        "outputId": "d49f89a1-2254-4d96-efaf-3ac0275d3ca4"
      },
      "execution_count": null,
      "outputs": [
        {
          "output_type": "stream",
          "name": "stderr",
          "text": [
            "/usr/local/lib/python3.10/dist-packages/ipykernel/ipkernel.py:283: DeprecationWarning: `should_run_async` will not call `transform_cell` automatically in the future. Please pass the result to `transformed_cell` argument and any exception that happen during thetransform in `preprocessing_exc_tuple` in IPython 7.17 and above.\n",
            "  and should_run_async(code)\n"
          ]
        },
        {
          "output_type": "execute_result",
          "data": {
            "text/plain": [
              "['model.pickle']"
            ]
          },
          "metadata": {},
          "execution_count": 193
        }
      ]
    },
    {
      "cell_type": "code",
      "source": [
        "import pickle\n",
        "\n",
        "# Save the model using pickle\n",
        "with open('model.pickle', 'wb') as model_file:\n",
        "    pickle.dump(model, model_file)\n"
      ],
      "metadata": {
        "colab": {
          "base_uri": "https://localhost:8080/"
        },
        "id": "i780BB98vkRl",
        "outputId": "1e6b0343-4497-4642-f32c-1405beb0bdc6"
      },
      "execution_count": null,
      "outputs": [
        {
          "output_type": "stream",
          "name": "stderr",
          "text": [
            "/usr/local/lib/python3.10/dist-packages/ipykernel/ipkernel.py:283: DeprecationWarning: `should_run_async` will not call `transform_cell` automatically in the future. Please pass the result to `transformed_cell` argument and any exception that happen during thetransform in `preprocessing_exc_tuple` in IPython 7.17 and above.\n",
            "  and should_run_async(code)\n"
          ]
        }
      ]
    }
  ]
}